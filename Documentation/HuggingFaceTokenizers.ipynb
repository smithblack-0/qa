{
 "cells": [
  {
   "cell_type": "markdown",
   "metadata": {
    "collapsed": true,
    "pycharm": {
     "name": "#%% md\n"
    }
   },
   "source": [
    "# Tokenization\n",
    "\n",
    "This section will be related to an exploration of the huggingface\n",
    "tokenization word\n",
    "\n",
    "## Regex\n",
    "\n",
    "Notably, a lot of different features use regex. the regex feature\n",
    "is located in tokenizers as \"from tokenizers import Regex\"\n",
    "\n",
    "## Normalization\n",
    "\n",
    "Normalization, and normalizers, are functions\n",
    "responsible for translating and handling the cleanup\n",
    "of strings. They are responsible for such activities\n",
    "as separating concept-level languages, translating unicode\n",
    "characters into more meaningful forms, and other sorts\n",
    "of text refinement.\n",
    "\n",
    "Anything involving \"cleaning\" the text, in other words,\n",
    "should go here."
   ]
  },
  {
   "cell_type": "code",
   "source": [
    "from tokenizers import normalizers\n",
    "\n",
    "norms = [\n",
    "    normalizers.NFKD(),\n",
    "    normalizers.Strip(),\n",
    "    normalizers.StripAccents(),\n",
    "]\n",
    "normalizer = normalizers.Sequence(norms)\n",
    "normalizer.normalize_str(\"this is a test\")\n",
    "\n"
   ],
   "metadata": {
    "collapsed": false,
    "pycharm": {
     "name": "#%%\n"
    }
   },
   "execution_count": null,
   "outputs": []
  },
  {
   "cell_type": "markdown",
   "source": [
    "# Pre-Tokenization\n",
    "\n",
    "Pre-Tokenization is the process of splitting up the string into\n",
    "subcomponents which we will then be using for actual tokenization. It performs the \"split into arrays\" portion of tokenization.\n",
    "\n",
    "Importantly, pretokenization can be applied in sequence with absolutely no problem.\n"
   ],
   "metadata": {
    "collapsed": false,
    "pycharm": {
     "name": "#%% md\n"
    }
   }
  },
  {
   "cell_type": "code",
   "execution_count": 24,
   "outputs": [],
   "source": [
    "from tokenizers import pre_tokenizers\n",
    "\n",
    "#Standard tokenization\n",
    "pretoksequence = [\n",
    "    pre_tokenizers.Punctuation(),\n",
    "    pre_tokenizers.Whitespace(),\n",
    "    pre_tokenizers.Digits(individual_digits=True),\n",
    "\n",
    "]\n",
    "\n",
    "pretokenizer = pre_tokenizers.Sequence(pretoksequence)\n",
    "item = pretokenizer.pre_tokenize_str(\"Hey, let's see how this does: 123445\")\n",
    "\n"
   ],
   "metadata": {
    "collapsed": false,
    "pycharm": {
     "name": "#%%\n"
    }
   }
  },
  {
   "cell_type": "code",
   "execution_count": 26,
   "outputs": [
    {
     "data": {
      "text/plain": "[('H', (0, 1)),\n ('e', (1, 2)),\n ('y', (2, 3)),\n (',', (3, 4)),\n (' ', (4, 5)),\n ('l', (5, 6)),\n ('e', (6, 7)),\n ('t', (7, 8)),\n (\"'\", (8, 9)),\n ('s', (9, 10)),\n (' ', (10, 11)),\n ('s', (11, 12)),\n ('e', (12, 13)),\n ('e', (13, 14)),\n (' ', (14, 15)),\n ('h', (15, 16)),\n ('o', (16, 17)),\n ('w', (17, 18)),\n (' ', (18, 19)),\n ('t', (19, 20)),\n ('h', (20, 21)),\n ('i', (21, 22)),\n ('s', (22, 23)),\n (' ', (23, 24)),\n ('d', (24, 25)),\n ('o', (25, 26)),\n ('e', (26, 27)),\n ('s', (27, 28)),\n (':', (28, 29)),\n (' ', (29, 30)),\n ('1', (30, 31)),\n ('2', (31, 32)),\n ('3', (32, 33)),\n ('4', (33, 34)),\n ('4', (34, 35)),\n ('5', (35, 36))]"
     },
     "execution_count": 26,
     "metadata": {},
     "output_type": "execute_result"
    }
   ],
   "source": [
    "#Custom char pretokenizer. Note the usage of regex.\n",
    "#\n",
    "# The core library is written in rust, so this is faster\n",
    "#than a custom class.\n",
    "from tokenizers import Regex\n",
    "\n",
    "pattern = Regex('.')\n",
    "pretokenizer=  pre_tokenizers.Split(pattern, 'isolated')\n",
    "pretokenizer.pre_tokenize_str(\"Hey, let's see how this does: 123445\")"
   ],
   "metadata": {
    "collapsed": false,
    "pycharm": {
     "name": "#%%\n"
    }
   }
  },
  {
   "cell_type": "markdown",
   "source": [
    "# Model\n",
    "\n",
    "Any kind of tokenization requires training. At some point along the way, the tokenization system must construct a vocabulary of some kind, such that words can be turned into tokens and vice versa. The degree of training, however, varies.\n",
    "\n",
    "## WordLevel\n",
    "\n",
    "The most simple variety of tokenizer is perhaps the word level tokenizer. It functions by means of simply mapping the incoming tokens onto a vocabulary, whose size is limited. Unknown words must, by virtue of being unknown, be represented in terms of a unique unknown token, and the model makes its best guess as to the content of the token.\n",
    "\n",
    "## BPE, WordPiece\n",
    "\n",
    "Both of these build up their vocabulary in much the same way.\n",
    "\n",
    "Figure out all the individual characters which are within the input stream. Take those characters, and then look at the text. Figure out what groups of characters, when merged together, would reduce the overall token count. Repeat until vocabulary is within acceptable limits.\n",
    "\n",
    "Byte Pair Encoding and WordPiece are both excellent tokenization agorithms which require training. They look at the entire vocabulary, and attempt to merge it down to a particular size.\n",
    "\n",
    "## Unigram\n",
    "\n",
    "Unigram does something else. It starts by initializing a complete vocabulary, and then prunes down from here.\n",
    "\n",
    "\n",
    "\n",
    "\n",
    "\n",
    "\n",
    "\n",
    "\n",
    "% md\n"
   ],
   "metadata": {
    "collapsed": false,
    "pycharm": {
     "name": "#%% md\n"
    }
   }
  },
  {
   "cell_type": "markdown",
   "source": [
    "# Extra\n",
    "\n",
    "A few prebuilt, additional tokenizers are available. They still require training\n",
    "\n",
    "## Sentencepiece.\n",
    "\n",
    "Sentencepiece works well when a language does not have a clear distinguishment between words, as in, for example, chinese. It treats an entire sentence as a token, and then attempts to break it apart into bits\n",
    "\n",
    "\n",
    "The two varieties are\n",
    "\n",
    "* SentencePieceUnigramTokenizer\n",
    "* SentencePieceBPETokenizer,\n",
    "\n",
    "Due to the way imports are run, pycharm, and likely other ide's, do not detect thes eas valid imports before running\n",
    "\n",
    "## Extra\n",
    "\n",
    "A few extra tokenizers are available, but perhaps not clearly listed\n",
    "\n",
    "* CharBPETokenizer\n",
    "* ByteLevelBPETokenizer\n",
    "* BertWordPieceTokenizer\n"
   ],
   "metadata": {
    "collapsed": false,
    "pycharm": {
     "name": "#%% md\n"
    }
   }
  },
  {
   "cell_type": "markdown",
   "source": [
    "# Training"
   ],
   "metadata": {
    "collapsed": false,
    "pycharm": {
     "name": "#%% md\n"
    }
   }
  },
  {
   "cell_type": "code",
   "execution_count": null,
   "outputs": [],
   "source": [],
   "metadata": {
    "collapsed": false,
    "pycharm": {
     "name": "#%%\n"
    }
   }
  },
  {
   "cell_type": "markdown",
   "source": [
    "## Training a basic pretrained tokenizer.\n",
    "\n",
    "Training a tokenizer takes quite a bit of time, but is nonetheless fairly straightforward. Make a dataset of the text content, shove it through an iterator, and let it work from there. One additional item of note: It is likely beneficial to start from a premade tokenizer which is reasonably close to your application.\n"
   ],
   "metadata": {
    "collapsed": false,
    "pycharm": {
     "name": "#%% md\n"
    }
   }
  },
  {
   "cell_type": "code",
   "execution_count": 1,
   "outputs": [
    {
     "name": "stderr",
     "output_type": "stream",
     "text": [
      "C:\\Users\\chris\\AppData\\Local\\Packages\\PythonSoftwareFoundation.Python.3.8_qbz5n2kfra8p0\\LocalCache\\local-packages\\Python38\\site-packages\\tqdm\\auto.py:22: TqdmWarning: IProgress not found. Please update jupyter and ipywidgets. See https://ipywidgets.readthedocs.io/en/stable/user_install.html\n",
      "  from .autonotebook import tqdm as notebook_tqdm\n"
     ]
    },
    {
     "data": {
      "text/plain": "['Test', 'this', 'token', '##ization', '119', '##0']"
     },
     "execution_count": 1,
     "metadata": {},
     "output_type": "execute_result"
    }
   ],
   "source": [
    "import tokenizers\n",
    "import transformers\n",
    "\n",
    "## Load a premade tokenizer\n",
    "tokenizer = transformers.AutoTokenizer.from_pretrained(\"bert-base-cased\")\n",
    "tokenizer.tokenize(\"Test this tokenization 1190\")"
   ],
   "metadata": {
    "collapsed": false,
    "pycharm": {
     "name": "#%%\n"
    }
   }
  },
  {
   "cell_type": "code",
   "execution_count": 2,
   "outputs": [
    {
     "name": "stderr",
     "output_type": "stream",
     "text": [
      "Resolving data files: 100%|██████████| 2662/2662 [00:00<00:00, 14921.24it/s]\n",
      "Using custom data configuration train-novels-042faceeba55f51c\n",
      "Reusing dataset text (C:\\Users\\chris\\.cache\\huggingface\\datasets\\text\\train-novels-042faceeba55f51c\\0.0.0\\acc32f2f2ef863c93c2f30c52f7df6cc9053a1c2230b8d7da0d210404683ca08)\n",
      "100%|██████████| 1/1 [00:00<00:00,  3.02it/s]\n"
     ]
    },
    {
     "data": {
      "text/plain": "DatasetDict({\n    train: Dataset({\n        features: ['text'],\n        num_rows: 14747362\n    })\n})"
     },
     "execution_count": 2,
     "metadata": {},
     "output_type": "execute_result"
    }
   ],
   "source": [
    "from fastai.text.all import get_text_files\n",
    "import datasets\n",
    "\n",
    "\n",
    "#Update it to be more suitable to the particular application using more training.\n",
    "#Make sure to use this to extract data. Significantly faster than raw python\n",
    "\n",
    "src = r'C:\\Users\\chris\\PycharmProjects\\qa\\Data\\lambada-dataset\\train-novels'\n",
    "files = [str(item) for item in get_text_files(src)]\n",
    "ds = datasets.load_dataset(src, '.txt', data_files=files )\n",
    "ds"
   ],
   "metadata": {
    "collapsed": false,
    "pycharm": {
     "name": "#%%\n"
    }
   }
  },
  {
   "cell_type": "code",
   "execution_count": 38,
   "outputs": [
    {
     "data": {
      "text/plain": "{'text': [\" prism story of ci prism -lrb- story of ci -rrb- copyright 2010 rachel moschell published by rachel moschell at smashwords third edition the prism table of contents 0 gilded 1 purple 2 gaudy gold 3 electric blue 4 mocha 5 aquamarine 6 emerald 7 white plaster 8 scarlet 9 silver 10 midnight blue 11 coffee 12 hazel 13 olive green 14 beet red 15 pale 16 canary yellow 17 brick red 18 dark 19 transparent 20 red white and blue 21 cinnamon 22 sickly pink 23 bittersweet 24 sea green 25 crimson 26 pale blue 27 sapphire 28 fiery 29 turquoise 30 blond 31 plaid 32 white 33 grape 34 lilac preview of reverb -lrb- story of ci 2 -rrb- 0 gilded the silvery branches of the molle tree whispered in the shade , sprinkling soft leaves in the dirt of the boy 's path . \",\n  ' the sky shone sapphire behind the lacy branches , and the only other life along this back road were two tawny cows grazing in the silver white grass of the ditch . ',\n  ' behind them ran the same crumbling adobe wall the boy saw every day as he walked this way out of town for the afternoon session at the christian school his parents sent him to . ',\n  ' today was tuesday , and that meant bible class . ',\n  ' in one coffee-colored hand , the boy clutched his fat black bible with gilded letters , a present from his parents on his last birthday , fourteen . ',\n  ' he shuffled slowly along the road , feeling the bible burn into his fingertips , trying not to free the furious tears scalding the back of his eyes . ',\n  ' he should leave the bible here in the ditch by the cows . ',\n  ' because now the boy knew : none of it really mattered . ',\n  ' oh , he was quite sure there was justice and virtue in the world , and he intended to find it . ',\n  ' but it was not here . ']}"
     },
     "execution_count": 38,
     "metadata": {},
     "output_type": "execute_result"
    }
   ],
   "source": [
    "\n",
    "training = ds['train']\n",
    "training.shuffle()\n",
    "training[0:10]"
   ],
   "metadata": {
    "collapsed": false,
    "pycharm": {
     "name": "#%%\n"
    }
   }
  },
  {
   "cell_type": "code",
   "execution_count": 5,
   "outputs": [
    {
     "name": "stdout",
     "output_type": "stream",
     "text": [
      "total batches: 10000\n",
      "batch 0 of 10000\n",
      "batch 1000 of 10000\n",
      "batch 2000 of 10000\n",
      "batch 3000 of 10000\n",
      "batch 4000 of 10000\n",
      "batch 5000 of 10000\n",
      "batch 6000 of 10000\n",
      "batch 7000 of 10000\n",
      "batch 8000 of 10000\n",
      "batch 9000 of 10000\n",
      "batch 10000 of 10000\n"
     ]
    }
   ],
   "source": [
    "#Create a generator to load batches of data.\n",
    "\n",
    "batch_size = 128\n",
    "def loader(ds_split, max_batches = 10000):\n",
    "    total_batches = min(len(ds_split) // batch_size + 1, max_batches)\n",
    "    batch_count = 0\n",
    "    print(\"total batches: %s\" % total_batches)\n",
    "    collection = []\n",
    "\n",
    "    for i, instance in enumerate(ds_split):\n",
    "        collection.append(instance['text'])\n",
    "        if len(collection) > batch_size:\n",
    "            if batch_count % 1000 == 0:\n",
    "                print(\"batch %s of %s\" % (batch_count, total_batches))\n",
    "            yield collection\n",
    "            batch_count += 1\n",
    "            collection = []\n",
    "        if batch_count > max_batches:\n",
    "            break\n",
    "    yield collection\n",
    "\n",
    "#Train the data based on the vocab\n",
    "ds_loader = loader(training)\n",
    "new_tokenizer = tokenizer.train_new_from_iterator(ds_loader, vocab_size=60000)"
   ],
   "metadata": {
    "collapsed": false,
    "pycharm": {
     "name": "#%%\n"
    }
   }
  },
  {
   "cell_type": "code",
   "execution_count": 6,
   "outputs": [
    {
     "data": {
      "text/plain": "('my_example_pretrained\\\\tokenizer_config.json',\n 'my_example_pretrained\\\\special_tokens_map.json',\n 'my_example_pretrained\\\\vocab.txt',\n 'my_example_pretrained\\\\added_tokens.json',\n 'my_example_pretrained\\\\tokenizer.json')"
     },
     "execution_count": 6,
     "metadata": {},
     "output_type": "execute_result"
    }
   ],
   "source": [
    "#Once trained, you want to save it so you can use it again later\n",
    "new_tokenizer.save_pretrained(\"my_example_pretrained\")"
   ],
   "metadata": {
    "collapsed": false,
    "pycharm": {
     "name": "#%%\n"
    }
   }
  },
  {
   "cell_type": "code",
   "execution_count": 35,
   "outputs": [
    {
     "name": "stdout",
     "output_type": "stream",
     "text": [
      " they were in position , ten feet away from their home ship . \n"
     ]
    },
    {
     "data": {
      "text/plain": "['they',\n 'were',\n 'in',\n 'position',\n ',',\n 'ten',\n 'feet',\n 'away',\n 'from',\n 'their',\n 'home',\n 'ship',\n '.']"
     },
     "execution_count": 35,
     "metadata": {},
     "output_type": "execute_result"
    }
   ],
   "source": [
    "#And it can now be loaded from here!\n",
    "import random\n",
    "my_tokenizer = transformers.AutoTokenizer.from_pretrained(\"my_example_pretrained\")\n",
    "example = training[random.randint(0, 1000000)]['text']\n",
    "print(example)\n",
    "my_tokenizer.tokenize(example)"
   ],
   "metadata": {
    "collapsed": false,
    "pycharm": {
     "name": "#%%\n"
    }
   }
  },
  {
   "cell_type": "markdown",
   "source": [],
   "metadata": {
    "collapsed": false
   }
  },
  {
   "cell_type": "markdown",
   "source": [
    "## Training tokenizers completely from scratch: A comparison\n",
    "\n",
    "Sometimes, it might become necessary to train a tokenizer completely from scratch. In which case, it is possible to initialize a raw tokenizer, then go use the train iterator.\n",
    "\n",
    "Lets train a few different tokenizers from scratch. We will keep track of the time for comparison, and only train them briefly. We will train, basically, all of them. These are all basically predefined pipelines.\n",
    "\n",
    "* SentencePieceBPETokenizer\n",
    "*\n",
    "\n"
   ],
   "metadata": {
    "collapsed": false,
    "pycharm": {
     "name": "#%% md\n"
    }
   }
  },
  {
   "cell_type": "code",
   "execution_count": 92,
   "outputs": [
    {
     "data": {
      "text/plain": "Tokenizer(vocabulary_size=0, model=SentencePieceBPE, unk_token=<unk>, replacement=▁, add_prefix_space=True, dropout=None)"
     },
     "execution_count": 92,
     "metadata": {},
     "output_type": "execute_result"
    }
   ],
   "source": [
    "#Run imports\n",
    "import datasets\n",
    "import timeit\n",
    "\n",
    "from timeit import default_timer as timer\n",
    "from functools import partial\n",
    "from itertools import product\n",
    "\n",
    "#Get tokenizers\n",
    "from tokenizers import SentencePieceBPETokenizer\n",
    "from tokenizers import CharBPETokenizer\n",
    "from tokenizers import SentencePieceUnigramTokenizer\n",
    "from tokenizers import ByteLevelBPETokenizer\n",
    "from tokenizers import BertWordPieceTokenizer\n",
    "\n",
    "SentencePieceBPETokenizer()"
   ],
   "metadata": {
    "collapsed": false,
    "pycharm": {
     "name": "#%%\n"
    }
   }
  },
  {
   "cell_type": "code",
   "execution_count": 80,
   "outputs": [
    {
     "data": {
      "text/plain": "\"<class 'tokenizers.implementations.sentencepiece_bpe.SentencePieceBPETokenizer'>\""
     },
     "execution_count": 80,
     "metadata": {},
     "output_type": "execute_result"
    }
   ],
   "source": [],
   "metadata": {
    "collapsed": false,
    "pycharm": {
     "name": "#%%\n"
    }
   }
  },
  {
   "cell_type": "code",
   "execution_count": 95,
   "outputs": [
    {
     "name": "stderr",
     "output_type": "stream",
     "text": [
      "Reusing dataset lambada (C:\\Users\\chris\\.cache\\huggingface\\datasets\\lambada\\plain_text\\1.1.0\\e32d76a7236c9ebb30099bc73d677c3acf32ddffb411836fe9ffc091ad3f3bec)\n",
      "100%|██████████| 3/3 [00:00<00:00, 25.88it/s]\n"
     ]
    }
   ],
   "source": [
    "#Configure our dataset\n",
    "\n",
    "ds = datasets.load_dataset(\"lambada\")\n",
    "training = ds['train']\n",
    "\n",
    "def filter_length(x, min_length, max_length):\n",
    "    return min_length < len(x['text']) < max_length\n",
    "\n",
    "\n",
    "def yield_batches(dataset: datasets.Dataset,\n",
    "                 min_length: int,\n",
    "                 max_length:int,\n",
    "                 batch_size: int,\n",
    "                 num_batches: int):\n",
    "    \"\"\"\n",
    "\n",
    "    Gets the data for training\n",
    "\n",
    "    \"\"\"\n",
    "    dataset = dataset.filter(partial(filter_length, min_length=min_length, max_length=max_length))\n",
    "    batch_collection = []\n",
    "    batch_num = 0\n",
    "    for item in dataset:\n",
    "        batch_collection.append(item['text'])\n",
    "        if len(batch_collection) >= batch_size:\n",
    "            if batch_num % (num_batches//10) == 0:\n",
    "                print(\"batch %s of %s\" % (batch_num, num_batches))\n",
    "\n",
    "            yield batch_collection\n",
    "            if batch_num >= num_batches:\n",
    "                break\n",
    "            batch_collection = []\n",
    "            batch_num += 1\n",
    "    yield batch_collection\n",
    "\n",
    "\n",
    "def train_tokenizer(dset, n_batches, batch_size, tokenizer, lengths):\n",
    "    print(\"training tokenizer: number %s, batch %s, token %s, lengths %s\"\n",
    "          % (n_batches, batch_size, str(tokenizer), lengths))\n",
    "    statistics = {\n",
    "        'n_batches' : n_batches,\n",
    "        'batch_size' : batch_size,\n",
    "        'tokenizer' : str(tokenizer)}\n",
    "\n",
    "    train_batches = yield_batches(dset, lengths[0], lengths[1], batch_size, n_batches)\n",
    "    tokenizer = tokenizer()\n",
    "    start = timer()\n",
    "\n",
    "    #Note it is \"Train From Iterator\" not \"Train_new_from_iterator\"\n",
    "    tokenizer = tokenizer.train_from_iterator(train_batches)\n",
    "    end = timer()\n",
    "    print(\"elapsed %s\" % (end-start))\n",
    "    statistics['elapsed'] = end-start\n",
    "    statistics['tkn'] = tokenizer\n",
    "    return statistics\n",
    "\n",
    "\n",
    "\n"
   ],
   "metadata": {
    "collapsed": false,
    "pycharm": {
     "name": "#%%\n"
    }
   }
  },
  {
   "cell_type": "code",
   "execution_count": 97,
   "outputs": [
    {
     "name": "stdout",
     "output_type": "stream",
     "text": [
      "(100, 2, <class 'tokenizers.implementations.sentencepiece_bpe.SentencePieceBPETokenizer'>, [0, 5000])\n",
      "training tokenizer: number 100, batch 2, token <class 'tokenizers.implementations.sentencepiece_bpe.SentencePieceBPETokenizer'>, lengths [0, 5000]\n"
     ]
    },
    {
     "name": "stderr",
     "output_type": "stream",
     "text": [
      "100%|██████████| 3/3 [00:01<00:00,  2.05ba/s]\n"
     ]
    },
    {
     "name": "stdout",
     "output_type": "stream",
     "text": [
      "batch 0 of 100\n",
      "elapsed 1.4698666999975103\n",
      "(100, 2, <class 'tokenizers.implementations.sentencepiece_bpe.SentencePieceBPETokenizer'>, [5000, 10000])\n",
      "training tokenizer: number 100, batch 2, token <class 'tokenizers.implementations.sentencepiece_bpe.SentencePieceBPETokenizer'>, lengths [5000, 10000]\n"
     ]
    },
    {
     "name": "stderr",
     "output_type": "stream",
     "text": [
      "100%|██████████| 3/3 [00:01<00:00,  2.47ba/s]\n"
     ]
    },
    {
     "name": "stdout",
     "output_type": "stream",
     "text": [
      "elapsed 1.2626090000048862\n",
      "(100, 2, <class 'tokenizers.implementations.sentencepiece_bpe.SentencePieceBPETokenizer'>, [10000, 15000])\n",
      "training tokenizer: number 100, batch 2, token <class 'tokenizers.implementations.sentencepiece_bpe.SentencePieceBPETokenizer'>, lengths [10000, 15000]\n"
     ]
    },
    {
     "name": "stderr",
     "output_type": "stream",
     "text": [
      "100%|██████████| 3/3 [00:01<00:00,  2.27ba/s]\n"
     ]
    },
    {
     "name": "stdout",
     "output_type": "stream",
     "text": [
      "batch 0 of 100\n",
      "elapsed 1.402710099995602\n",
      "(100, 2, <class 'tokenizers.implementations.char_level_bpe.CharBPETokenizer'>, [0, 5000])\n",
      "training tokenizer: number 100, batch 2, token <class 'tokenizers.implementations.char_level_bpe.CharBPETokenizer'>, lengths [0, 5000]\n"
     ]
    },
    {
     "name": "stderr",
     "output_type": "stream",
     "text": [
      "100%|██████████| 3/3 [00:01<00:00,  2.31ba/s]\n"
     ]
    },
    {
     "name": "stdout",
     "output_type": "stream",
     "text": [
      "batch 0 of 100\n",
      "elapsed 1.308307799998147\n",
      "(100, 2, <class 'tokenizers.implementations.char_level_bpe.CharBPETokenizer'>, [5000, 10000])\n",
      "training tokenizer: number 100, batch 2, token <class 'tokenizers.implementations.char_level_bpe.CharBPETokenizer'>, lengths [5000, 10000]\n"
     ]
    },
    {
     "name": "stderr",
     "output_type": "stream",
     "text": [
      "100%|██████████| 3/3 [00:01<00:00,  2.40ba/s]\n"
     ]
    },
    {
     "name": "stdout",
     "output_type": "stream",
     "text": [
      "elapsed 1.3036624999949709\n",
      "(100, 2, <class 'tokenizers.implementations.char_level_bpe.CharBPETokenizer'>, [10000, 15000])\n",
      "training tokenizer: number 100, batch 2, token <class 'tokenizers.implementations.char_level_bpe.CharBPETokenizer'>, lengths [10000, 15000]\n"
     ]
    },
    {
     "name": "stderr",
     "output_type": "stream",
     "text": [
      "100%|██████████| 3/3 [00:01<00:00,  2.25ba/s]\n"
     ]
    },
    {
     "name": "stdout",
     "output_type": "stream",
     "text": [
      "batch 0 of 100\n",
      "elapsed 1.4062673000007635\n",
      "(100, 2, <class 'tokenizers.implementations.sentencepiece_unigram.SentencePieceUnigramTokenizer'>, [0, 5000])\n",
      "training tokenizer: number 100, batch 2, token <class 'tokenizers.implementations.sentencepiece_unigram.SentencePieceUnigramTokenizer'>, lengths [0, 5000]\n"
     ]
    },
    {
     "name": "stderr",
     "output_type": "stream",
     "text": [
      "100%|██████████| 3/3 [00:01<00:00,  2.37ba/s]\n"
     ]
    },
    {
     "name": "stdout",
     "output_type": "stream",
     "text": [
      "batch 0 of 100\n",
      "elapsed 1.290019799998845\n",
      "(100, 2, <class 'tokenizers.implementations.sentencepiece_unigram.SentencePieceUnigramTokenizer'>, [5000, 10000])\n",
      "training tokenizer: number 100, batch 2, token <class 'tokenizers.implementations.sentencepiece_unigram.SentencePieceUnigramTokenizer'>, lengths [5000, 10000]\n"
     ]
    },
    {
     "name": "stderr",
     "output_type": "stream",
     "text": [
      "100%|██████████| 3/3 [00:01<00:00,  2.44ba/s]\n"
     ]
    },
    {
     "name": "stdout",
     "output_type": "stream",
     "text": [
      "elapsed 1.2781465000007302\n",
      "(100, 2, <class 'tokenizers.implementations.sentencepiece_unigram.SentencePieceUnigramTokenizer'>, [10000, 15000])\n",
      "training tokenizer: number 100, batch 2, token <class 'tokenizers.implementations.sentencepiece_unigram.SentencePieceUnigramTokenizer'>, lengths [10000, 15000]\n"
     ]
    },
    {
     "name": "stderr",
     "output_type": "stream",
     "text": [
      "100%|██████████| 3/3 [00:01<00:00,  2.44ba/s]\n"
     ]
    },
    {
     "name": "stdout",
     "output_type": "stream",
     "text": [
      "batch 0 of 100\n",
      "elapsed 1.3040133999966201\n",
      "(100, 2, <class 'tokenizers.implementations.byte_level_bpe.ByteLevelBPETokenizer'>, [0, 5000])\n",
      "training tokenizer: number 100, batch 2, token <class 'tokenizers.implementations.byte_level_bpe.ByteLevelBPETokenizer'>, lengths [0, 5000]\n"
     ]
    },
    {
     "name": "stderr",
     "output_type": "stream",
     "text": [
      "100%|██████████| 3/3 [00:01<00:00,  2.31ba/s]\n"
     ]
    },
    {
     "name": "stdout",
     "output_type": "stream",
     "text": [
      "batch 0 of 100\n",
      "elapsed 1.31438640000124\n",
      "(100, 2, <class 'tokenizers.implementations.byte_level_bpe.ByteLevelBPETokenizer'>, [5000, 10000])\n",
      "training tokenizer: number 100, batch 2, token <class 'tokenizers.implementations.byte_level_bpe.ByteLevelBPETokenizer'>, lengths [5000, 10000]\n"
     ]
    },
    {
     "name": "stderr",
     "output_type": "stream",
     "text": [
      "100%|██████████| 3/3 [00:01<00:00,  2.33ba/s]\n"
     ]
    },
    {
     "name": "stdout",
     "output_type": "stream",
     "text": [
      "elapsed 1.3342517999990378\n",
      "(100, 2, <class 'tokenizers.implementations.byte_level_bpe.ByteLevelBPETokenizer'>, [10000, 15000])\n",
      "training tokenizer: number 100, batch 2, token <class 'tokenizers.implementations.byte_level_bpe.ByteLevelBPETokenizer'>, lengths [10000, 15000]\n"
     ]
    },
    {
     "name": "stderr",
     "output_type": "stream",
     "text": [
      "100%|██████████| 3/3 [00:01<00:00,  2.32ba/s]\n"
     ]
    },
    {
     "name": "stdout",
     "output_type": "stream",
     "text": [
      "batch 0 of 100\n",
      "elapsed 1.380697799999325\n",
      "(100, 2, <class 'tokenizers.implementations.bert_wordpiece.BertWordPieceTokenizer'>, [0, 5000])\n",
      "training tokenizer: number 100, batch 2, token <class 'tokenizers.implementations.bert_wordpiece.BertWordPieceTokenizer'>, lengths [0, 5000]\n"
     ]
    },
    {
     "name": "stderr",
     "output_type": "stream",
     "text": [
      "100%|██████████| 3/3 [00:01<00:00,  2.18ba/s]\n"
     ]
    },
    {
     "name": "stdout",
     "output_type": "stream",
     "text": [
      "batch 0 of 100\n",
      "elapsed 1.3851044999973965\n",
      "(100, 2, <class 'tokenizers.implementations.bert_wordpiece.BertWordPieceTokenizer'>, [5000, 10000])\n",
      "training tokenizer: number 100, batch 2, token <class 'tokenizers.implementations.bert_wordpiece.BertWordPieceTokenizer'>, lengths [5000, 10000]\n"
     ]
    },
    {
     "name": "stderr",
     "output_type": "stream",
     "text": [
      "100%|██████████| 3/3 [00:01<00:00,  2.42ba/s]\n"
     ]
    },
    {
     "name": "stdout",
     "output_type": "stream",
     "text": [
      "elapsed 1.2812413000065135\n",
      "(100, 2, <class 'tokenizers.implementations.bert_wordpiece.BertWordPieceTokenizer'>, [10000, 15000])\n",
      "training tokenizer: number 100, batch 2, token <class 'tokenizers.implementations.bert_wordpiece.BertWordPieceTokenizer'>, lengths [10000, 15000]\n"
     ]
    },
    {
     "name": "stderr",
     "output_type": "stream",
     "text": [
      "100%|██████████| 3/3 [00:01<00:00,  2.29ba/s]\n"
     ]
    },
    {
     "name": "stdout",
     "output_type": "stream",
     "text": [
      "batch 0 of 100\n",
      "elapsed 1.370277599999099\n",
      "(100, 4, <class 'tokenizers.implementations.sentencepiece_bpe.SentencePieceBPETokenizer'>, [0, 5000])\n",
      "training tokenizer: number 100, batch 4, token <class 'tokenizers.implementations.sentencepiece_bpe.SentencePieceBPETokenizer'>, lengths [0, 5000]\n"
     ]
    },
    {
     "name": "stderr",
     "output_type": "stream",
     "text": [
      "100%|██████████| 3/3 [00:01<00:00,  2.24ba/s]\n"
     ]
    },
    {
     "name": "stdout",
     "output_type": "stream",
     "text": [
      "elapsed 1.3553107999978238\n",
      "(100, 4, <class 'tokenizers.implementations.sentencepiece_bpe.SentencePieceBPETokenizer'>, [5000, 10000])\n",
      "training tokenizer: number 100, batch 4, token <class 'tokenizers.implementations.sentencepiece_bpe.SentencePieceBPETokenizer'>, lengths [5000, 10000]\n"
     ]
    },
    {
     "name": "stderr",
     "output_type": "stream",
     "text": [
      "100%|██████████| 3/3 [00:01<00:00,  2.41ba/s]\n"
     ]
    },
    {
     "name": "stdout",
     "output_type": "stream",
     "text": [
      "elapsed 1.2875274999969406\n",
      "(100, 4, <class 'tokenizers.implementations.sentencepiece_bpe.SentencePieceBPETokenizer'>, [10000, 15000])\n",
      "training tokenizer: number 100, batch 4, token <class 'tokenizers.implementations.sentencepiece_bpe.SentencePieceBPETokenizer'>, lengths [10000, 15000]\n"
     ]
    },
    {
     "name": "stderr",
     "output_type": "stream",
     "text": [
      "100%|██████████| 3/3 [00:01<00:00,  2.31ba/s]\n"
     ]
    },
    {
     "name": "stdout",
     "output_type": "stream",
     "text": [
      "elapsed 1.3693955999988248\n",
      "(100, 4, <class 'tokenizers.implementations.char_level_bpe.CharBPETokenizer'>, [0, 5000])\n",
      "training tokenizer: number 100, batch 4, token <class 'tokenizers.implementations.char_level_bpe.CharBPETokenizer'>, lengths [0, 5000]\n"
     ]
    },
    {
     "name": "stderr",
     "output_type": "stream",
     "text": [
      "100%|██████████| 3/3 [00:01<00:00,  2.27ba/s]\n"
     ]
    },
    {
     "name": "stdout",
     "output_type": "stream",
     "text": [
      "elapsed 1.3483900999999605\n",
      "(100, 4, <class 'tokenizers.implementations.char_level_bpe.CharBPETokenizer'>, [5000, 10000])\n",
      "training tokenizer: number 100, batch 4, token <class 'tokenizers.implementations.char_level_bpe.CharBPETokenizer'>, lengths [5000, 10000]\n"
     ]
    },
    {
     "name": "stderr",
     "output_type": "stream",
     "text": [
      "100%|██████████| 3/3 [00:01<00:00,  2.29ba/s]\n"
     ]
    },
    {
     "name": "stdout",
     "output_type": "stream",
     "text": [
      "elapsed 1.34861830000591\n",
      "(100, 4, <class 'tokenizers.implementations.char_level_bpe.CharBPETokenizer'>, [10000, 15000])\n",
      "training tokenizer: number 100, batch 4, token <class 'tokenizers.implementations.char_level_bpe.CharBPETokenizer'>, lengths [10000, 15000]\n"
     ]
    },
    {
     "name": "stderr",
     "output_type": "stream",
     "text": [
      "100%|██████████| 3/3 [00:01<00:00,  2.31ba/s]\n"
     ]
    },
    {
     "name": "stdout",
     "output_type": "stream",
     "text": [
      "elapsed 1.3666929000028176\n",
      "(100, 4, <class 'tokenizers.implementations.sentencepiece_unigram.SentencePieceUnigramTokenizer'>, [0, 5000])\n",
      "training tokenizer: number 100, batch 4, token <class 'tokenizers.implementations.sentencepiece_unigram.SentencePieceUnigramTokenizer'>, lengths [0, 5000]\n"
     ]
    },
    {
     "name": "stderr",
     "output_type": "stream",
     "text": [
      "100%|██████████| 3/3 [00:01<00:00,  2.22ba/s]\n"
     ]
    },
    {
     "name": "stdout",
     "output_type": "stream",
     "text": [
      "elapsed 1.3773930000024848\n",
      "(100, 4, <class 'tokenizers.implementations.sentencepiece_unigram.SentencePieceUnigramTokenizer'>, [5000, 10000])\n",
      "training tokenizer: number 100, batch 4, token <class 'tokenizers.implementations.sentencepiece_unigram.SentencePieceUnigramTokenizer'>, lengths [5000, 10000]\n"
     ]
    },
    {
     "name": "stderr",
     "output_type": "stream",
     "text": [
      "100%|██████████| 3/3 [00:01<00:00,  2.44ba/s]\n"
     ]
    },
    {
     "name": "stdout",
     "output_type": "stream",
     "text": [
      "elapsed 1.2726894000006723\n",
      "(100, 4, <class 'tokenizers.implementations.sentencepiece_unigram.SentencePieceUnigramTokenizer'>, [10000, 15000])\n",
      "training tokenizer: number 100, batch 4, token <class 'tokenizers.implementations.sentencepiece_unigram.SentencePieceUnigramTokenizer'>, lengths [10000, 15000]\n"
     ]
    },
    {
     "name": "stderr",
     "output_type": "stream",
     "text": [
      "100%|██████████| 3/3 [00:01<00:00,  2.42ba/s]\n"
     ]
    },
    {
     "name": "stdout",
     "output_type": "stream",
     "text": [
      "elapsed 1.3240248000001884\n",
      "(100, 4, <class 'tokenizers.implementations.byte_level_bpe.ByteLevelBPETokenizer'>, [0, 5000])\n",
      "training tokenizer: number 100, batch 4, token <class 'tokenizers.implementations.byte_level_bpe.ByteLevelBPETokenizer'>, lengths [0, 5000]\n"
     ]
    },
    {
     "name": "stderr",
     "output_type": "stream",
     "text": [
      "100%|██████████| 3/3 [00:01<00:00,  2.34ba/s]\n"
     ]
    },
    {
     "name": "stdout",
     "output_type": "stream",
     "text": [
      "elapsed 1.3045899999997346\n",
      "(100, 4, <class 'tokenizers.implementations.byte_level_bpe.ByteLevelBPETokenizer'>, [5000, 10000])\n",
      "training tokenizer: number 100, batch 4, token <class 'tokenizers.implementations.byte_level_bpe.ByteLevelBPETokenizer'>, lengths [5000, 10000]\n"
     ]
    },
    {
     "name": "stderr",
     "output_type": "stream",
     "text": [
      "100%|██████████| 3/3 [00:01<00:00,  2.42ba/s]\n"
     ]
    },
    {
     "name": "stdout",
     "output_type": "stream",
     "text": [
      "elapsed 1.285140500003763\n",
      "(100, 4, <class 'tokenizers.implementations.byte_level_bpe.ByteLevelBPETokenizer'>, [10000, 15000])\n",
      "training tokenizer: number 100, batch 4, token <class 'tokenizers.implementations.byte_level_bpe.ByteLevelBPETokenizer'>, lengths [10000, 15000]\n"
     ]
    },
    {
     "name": "stderr",
     "output_type": "stream",
     "text": [
      "100%|██████████| 3/3 [00:01<00:00,  2.35ba/s]\n"
     ]
    },
    {
     "name": "stdout",
     "output_type": "stream",
     "text": [
      "elapsed 1.3531015000044135\n",
      "(100, 4, <class 'tokenizers.implementations.bert_wordpiece.BertWordPieceTokenizer'>, [0, 5000])\n",
      "training tokenizer: number 100, batch 4, token <class 'tokenizers.implementations.bert_wordpiece.BertWordPieceTokenizer'>, lengths [0, 5000]\n"
     ]
    },
    {
     "name": "stderr",
     "output_type": "stream",
     "text": [
      "100%|██████████| 3/3 [00:01<00:00,  2.25ba/s]\n"
     ]
    },
    {
     "name": "stdout",
     "output_type": "stream",
     "text": [
      "elapsed 1.344855399998778\n",
      "(100, 4, <class 'tokenizers.implementations.bert_wordpiece.BertWordPieceTokenizer'>, [5000, 10000])\n",
      "training tokenizer: number 100, batch 4, token <class 'tokenizers.implementations.bert_wordpiece.BertWordPieceTokenizer'>, lengths [5000, 10000]\n"
     ]
    },
    {
     "name": "stderr",
     "output_type": "stream",
     "text": [
      "100%|██████████| 3/3 [00:01<00:00,  2.36ba/s]\n"
     ]
    },
    {
     "name": "stdout",
     "output_type": "stream",
     "text": [
      "elapsed 1.3047922999976436\n",
      "(100, 4, <class 'tokenizers.implementations.bert_wordpiece.BertWordPieceTokenizer'>, [10000, 15000])\n",
      "training tokenizer: number 100, batch 4, token <class 'tokenizers.implementations.bert_wordpiece.BertWordPieceTokenizer'>, lengths [10000, 15000]\n"
     ]
    },
    {
     "name": "stderr",
     "output_type": "stream",
     "text": [
      "100%|██████████| 3/3 [00:01<00:00,  2.41ba/s]\n"
     ]
    },
    {
     "name": "stdout",
     "output_type": "stream",
     "text": [
      "elapsed 1.3256593999976758\n",
      "(100, 8, <class 'tokenizers.implementations.sentencepiece_bpe.SentencePieceBPETokenizer'>, [0, 5000])\n",
      "training tokenizer: number 100, batch 8, token <class 'tokenizers.implementations.sentencepiece_bpe.SentencePieceBPETokenizer'>, lengths [0, 5000]\n"
     ]
    },
    {
     "name": "stderr",
     "output_type": "stream",
     "text": [
      "100%|██████████| 3/3 [00:01<00:00,  2.28ba/s]\n"
     ]
    },
    {
     "name": "stdout",
     "output_type": "stream",
     "text": [
      "elapsed 1.3207915000020876\n",
      "(100, 8, <class 'tokenizers.implementations.sentencepiece_bpe.SentencePieceBPETokenizer'>, [5000, 10000])\n",
      "training tokenizer: number 100, batch 8, token <class 'tokenizers.implementations.sentencepiece_bpe.SentencePieceBPETokenizer'>, lengths [5000, 10000]\n"
     ]
    },
    {
     "name": "stderr",
     "output_type": "stream",
     "text": [
      "100%|██████████| 3/3 [00:01<00:00,  2.33ba/s]\n"
     ]
    },
    {
     "name": "stdout",
     "output_type": "stream",
     "text": [
      "elapsed 1.3227706000034232\n",
      "(100, 8, <class 'tokenizers.implementations.sentencepiece_bpe.SentencePieceBPETokenizer'>, [10000, 15000])\n",
      "training tokenizer: number 100, batch 8, token <class 'tokenizers.implementations.sentencepiece_bpe.SentencePieceBPETokenizer'>, lengths [10000, 15000]\n"
     ]
    },
    {
     "name": "stderr",
     "output_type": "stream",
     "text": [
      "100%|██████████| 3/3 [00:01<00:00,  2.37ba/s]\n"
     ]
    },
    {
     "name": "stdout",
     "output_type": "stream",
     "text": [
      "elapsed 1.333167400000093\n",
      "(100, 8, <class 'tokenizers.implementations.char_level_bpe.CharBPETokenizer'>, [0, 5000])\n",
      "training tokenizer: number 100, batch 8, token <class 'tokenizers.implementations.char_level_bpe.CharBPETokenizer'>, lengths [0, 5000]\n"
     ]
    },
    {
     "name": "stderr",
     "output_type": "stream",
     "text": [
      "100%|██████████| 3/3 [00:01<00:00,  2.26ba/s]\n"
     ]
    },
    {
     "name": "stdout",
     "output_type": "stream",
     "text": [
      "elapsed 1.3368475000024773\n",
      "(100, 8, <class 'tokenizers.implementations.char_level_bpe.CharBPETokenizer'>, [5000, 10000])\n",
      "training tokenizer: number 100, batch 8, token <class 'tokenizers.implementations.char_level_bpe.CharBPETokenizer'>, lengths [5000, 10000]\n"
     ]
    },
    {
     "name": "stderr",
     "output_type": "stream",
     "text": [
      "100%|██████████| 3/3 [00:01<00:00,  2.36ba/s]\n"
     ]
    },
    {
     "name": "stdout",
     "output_type": "stream",
     "text": [
      "elapsed 1.3059544999996433\n",
      "(100, 8, <class 'tokenizers.implementations.char_level_bpe.CharBPETokenizer'>, [10000, 15000])\n",
      "training tokenizer: number 100, batch 8, token <class 'tokenizers.implementations.char_level_bpe.CharBPETokenizer'>, lengths [10000, 15000]\n"
     ]
    },
    {
     "name": "stderr",
     "output_type": "stream",
     "text": [
      "100%|██████████| 3/3 [00:01<00:00,  2.38ba/s]\n"
     ]
    },
    {
     "name": "stdout",
     "output_type": "stream",
     "text": [
      "elapsed 1.333754699997371\n",
      "(100, 8, <class 'tokenizers.implementations.sentencepiece_unigram.SentencePieceUnigramTokenizer'>, [0, 5000])\n",
      "training tokenizer: number 100, batch 8, token <class 'tokenizers.implementations.sentencepiece_unigram.SentencePieceUnigramTokenizer'>, lengths [0, 5000]\n"
     ]
    },
    {
     "name": "stderr",
     "output_type": "stream",
     "text": [
      "100%|██████████| 3/3 [00:01<00:00,  2.26ba/s]\n"
     ]
    },
    {
     "name": "stdout",
     "output_type": "stream",
     "text": [
      "elapsed 1.3554980000044452\n",
      "(100, 8, <class 'tokenizers.implementations.sentencepiece_unigram.SentencePieceUnigramTokenizer'>, [5000, 10000])\n",
      "training tokenizer: number 100, batch 8, token <class 'tokenizers.implementations.sentencepiece_unigram.SentencePieceUnigramTokenizer'>, lengths [5000, 10000]\n"
     ]
    },
    {
     "name": "stderr",
     "output_type": "stream",
     "text": [
      "100%|██████████| 3/3 [00:01<00:00,  2.36ba/s]\n"
     ]
    },
    {
     "name": "stdout",
     "output_type": "stream",
     "text": [
      "elapsed 1.3100906999970903\n",
      "(100, 8, <class 'tokenizers.implementations.sentencepiece_unigram.SentencePieceUnigramTokenizer'>, [10000, 15000])\n",
      "training tokenizer: number 100, batch 8, token <class 'tokenizers.implementations.sentencepiece_unigram.SentencePieceUnigramTokenizer'>, lengths [10000, 15000]\n"
     ]
    },
    {
     "name": "stderr",
     "output_type": "stream",
     "text": [
      "100%|██████████| 3/3 [00:01<00:00,  2.35ba/s]\n"
     ]
    },
    {
     "name": "stdout",
     "output_type": "stream",
     "text": [
      "elapsed 1.3590234000002965\n",
      "(100, 8, <class 'tokenizers.implementations.byte_level_bpe.ByteLevelBPETokenizer'>, [0, 5000])\n",
      "training tokenizer: number 100, batch 8, token <class 'tokenizers.implementations.byte_level_bpe.ByteLevelBPETokenizer'>, lengths [0, 5000]\n"
     ]
    },
    {
     "name": "stderr",
     "output_type": "stream",
     "text": [
      "100%|██████████| 3/3 [00:01<00:00,  2.29ba/s]\n"
     ]
    },
    {
     "name": "stdout",
     "output_type": "stream",
     "text": [
      "elapsed 1.3260941999978968\n",
      "(100, 8, <class 'tokenizers.implementations.byte_level_bpe.ByteLevelBPETokenizer'>, [5000, 10000])\n",
      "training tokenizer: number 100, batch 8, token <class 'tokenizers.implementations.byte_level_bpe.ByteLevelBPETokenizer'>, lengths [5000, 10000]\n"
     ]
    },
    {
     "name": "stderr",
     "output_type": "stream",
     "text": [
      "100%|██████████| 3/3 [00:01<00:00,  2.34ba/s]\n"
     ]
    },
    {
     "name": "stdout",
     "output_type": "stream",
     "text": [
      "elapsed 1.324911499999871\n",
      "(100, 8, <class 'tokenizers.implementations.byte_level_bpe.ByteLevelBPETokenizer'>, [10000, 15000])\n",
      "training tokenizer: number 100, batch 8, token <class 'tokenizers.implementations.byte_level_bpe.ByteLevelBPETokenizer'>, lengths [10000, 15000]\n"
     ]
    },
    {
     "name": "stderr",
     "output_type": "stream",
     "text": [
      "100%|██████████| 3/3 [00:01<00:00,  2.33ba/s]\n"
     ]
    },
    {
     "name": "stdout",
     "output_type": "stream",
     "text": [
      "elapsed 1.3758159999997588\n",
      "(100, 8, <class 'tokenizers.implementations.bert_wordpiece.BertWordPieceTokenizer'>, [0, 5000])\n",
      "training tokenizer: number 100, batch 8, token <class 'tokenizers.implementations.bert_wordpiece.BertWordPieceTokenizer'>, lengths [0, 5000]\n"
     ]
    },
    {
     "name": "stderr",
     "output_type": "stream",
     "text": [
      "100%|██████████| 3/3 [00:01<00:00,  2.25ba/s]\n"
     ]
    },
    {
     "name": "stdout",
     "output_type": "stream",
     "text": [
      "elapsed 1.345412499998929\n",
      "(100, 8, <class 'tokenizers.implementations.bert_wordpiece.BertWordPieceTokenizer'>, [5000, 10000])\n",
      "training tokenizer: number 100, batch 8, token <class 'tokenizers.implementations.bert_wordpiece.BertWordPieceTokenizer'>, lengths [5000, 10000]\n"
     ]
    },
    {
     "name": "stderr",
     "output_type": "stream",
     "text": [
      "100%|██████████| 3/3 [00:01<00:00,  2.38ba/s]\n"
     ]
    },
    {
     "name": "stdout",
     "output_type": "stream",
     "text": [
      "elapsed 1.3096148000040557\n",
      "(100, 8, <class 'tokenizers.implementations.bert_wordpiece.BertWordPieceTokenizer'>, [10000, 15000])\n",
      "training tokenizer: number 100, batch 8, token <class 'tokenizers.implementations.bert_wordpiece.BertWordPieceTokenizer'>, lengths [10000, 15000]\n"
     ]
    },
    {
     "name": "stderr",
     "output_type": "stream",
     "text": [
      "100%|██████████| 3/3 [00:01<00:00,  2.38ba/s]\n"
     ]
    },
    {
     "name": "stdout",
     "output_type": "stream",
     "text": [
      "elapsed 1.3352030999958515\n",
      "(100, 16, <class 'tokenizers.implementations.sentencepiece_bpe.SentencePieceBPETokenizer'>, [0, 5000])\n",
      "training tokenizer: number 100, batch 16, token <class 'tokenizers.implementations.sentencepiece_bpe.SentencePieceBPETokenizer'>, lengths [0, 5000]\n"
     ]
    },
    {
     "name": "stderr",
     "output_type": "stream",
     "text": [
      "100%|██████████| 3/3 [00:01<00:00,  2.23ba/s]\n"
     ]
    },
    {
     "name": "stdout",
     "output_type": "stream",
     "text": [
      "elapsed 1.5889750999995158\n",
      "(100, 16, <class 'tokenizers.implementations.sentencepiece_bpe.SentencePieceBPETokenizer'>, [5000, 10000])\n",
      "training tokenizer: number 100, batch 16, token <class 'tokenizers.implementations.sentencepiece_bpe.SentencePieceBPETokenizer'>, lengths [5000, 10000]\n"
     ]
    },
    {
     "name": "stderr",
     "output_type": "stream",
     "text": [
      "100%|██████████| 3/3 [00:01<00:00,  2.29ba/s]\n"
     ]
    },
    {
     "name": "stdout",
     "output_type": "stream",
     "text": [
      "elapsed 1.3605236999937915\n",
      "(100, 16, <class 'tokenizers.implementations.sentencepiece_bpe.SentencePieceBPETokenizer'>, [10000, 15000])\n",
      "training tokenizer: number 100, batch 16, token <class 'tokenizers.implementations.sentencepiece_bpe.SentencePieceBPETokenizer'>, lengths [10000, 15000]\n"
     ]
    },
    {
     "name": "stderr",
     "output_type": "stream",
     "text": [
      "100%|██████████| 3/3 [00:01<00:00,  2.22ba/s]\n"
     ]
    },
    {
     "name": "stdout",
     "output_type": "stream",
     "text": [
      "elapsed 1.434138599994185\n",
      "(100, 16, <class 'tokenizers.implementations.char_level_bpe.CharBPETokenizer'>, [0, 5000])\n",
      "training tokenizer: number 100, batch 16, token <class 'tokenizers.implementations.char_level_bpe.CharBPETokenizer'>, lengths [0, 5000]\n"
     ]
    },
    {
     "name": "stderr",
     "output_type": "stream",
     "text": [
      "100%|██████████| 3/3 [00:01<00:00,  2.34ba/s]\n"
     ]
    },
    {
     "name": "stdout",
     "output_type": "stream",
     "text": [
      "elapsed 1.2925938999978825\n",
      "(100, 16, <class 'tokenizers.implementations.char_level_bpe.CharBPETokenizer'>, [5000, 10000])\n",
      "training tokenizer: number 100, batch 16, token <class 'tokenizers.implementations.char_level_bpe.CharBPETokenizer'>, lengths [5000, 10000]\n"
     ]
    },
    {
     "name": "stderr",
     "output_type": "stream",
     "text": [
      "100%|██████████| 3/3 [00:01<00:00,  2.30ba/s]\n"
     ]
    },
    {
     "name": "stdout",
     "output_type": "stream",
     "text": [
      "elapsed 1.3456388999984483\n",
      "(100, 16, <class 'tokenizers.implementations.char_level_bpe.CharBPETokenizer'>, [10000, 15000])\n",
      "training tokenizer: number 100, batch 16, token <class 'tokenizers.implementations.char_level_bpe.CharBPETokenizer'>, lengths [10000, 15000]\n"
     ]
    },
    {
     "name": "stderr",
     "output_type": "stream",
     "text": [
      "100%|██████████| 3/3 [00:01<00:00,  2.17ba/s]\n"
     ]
    },
    {
     "name": "stdout",
     "output_type": "stream",
     "text": [
      "elapsed 1.449639800004661\n",
      "(100, 16, <class 'tokenizers.implementations.sentencepiece_unigram.SentencePieceUnigramTokenizer'>, [0, 5000])\n",
      "training tokenizer: number 100, batch 16, token <class 'tokenizers.implementations.sentencepiece_unigram.SentencePieceUnigramTokenizer'>, lengths [0, 5000]\n"
     ]
    },
    {
     "name": "stderr",
     "output_type": "stream",
     "text": [
      "100%|██████████| 3/3 [00:01<00:00,  2.37ba/s]\n"
     ]
    },
    {
     "name": "stdout",
     "output_type": "stream",
     "text": [
      "elapsed 1.285780699996394\n",
      "(100, 16, <class 'tokenizers.implementations.sentencepiece_unigram.SentencePieceUnigramTokenizer'>, [5000, 10000])\n",
      "training tokenizer: number 100, batch 16, token <class 'tokenizers.implementations.sentencepiece_unigram.SentencePieceUnigramTokenizer'>, lengths [5000, 10000]\n"
     ]
    },
    {
     "name": "stderr",
     "output_type": "stream",
     "text": [
      "100%|██████████| 3/3 [00:01<00:00,  2.36ba/s]\n"
     ]
    },
    {
     "name": "stdout",
     "output_type": "stream",
     "text": [
      "elapsed 1.3143271999942954\n",
      "(100, 16, <class 'tokenizers.implementations.sentencepiece_unigram.SentencePieceUnigramTokenizer'>, [10000, 15000])\n",
      "training tokenizer: number 100, batch 16, token <class 'tokenizers.implementations.sentencepiece_unigram.SentencePieceUnigramTokenizer'>, lengths [10000, 15000]\n"
     ]
    },
    {
     "name": "stderr",
     "output_type": "stream",
     "text": [
      "100%|██████████| 3/3 [00:01<00:00,  2.29ba/s]\n"
     ]
    },
    {
     "name": "stdout",
     "output_type": "stream",
     "text": [
      "elapsed 1.3985222999981488\n",
      "(100, 16, <class 'tokenizers.implementations.byte_level_bpe.ByteLevelBPETokenizer'>, [0, 5000])\n",
      "training tokenizer: number 100, batch 16, token <class 'tokenizers.implementations.byte_level_bpe.ByteLevelBPETokenizer'>, lengths [0, 5000]\n"
     ]
    },
    {
     "name": "stderr",
     "output_type": "stream",
     "text": [
      "100%|██████████| 3/3 [00:01<00:00,  2.35ba/s]\n"
     ]
    },
    {
     "name": "stdout",
     "output_type": "stream",
     "text": [
      "elapsed 1.2947859000050812\n",
      "(100, 16, <class 'tokenizers.implementations.byte_level_bpe.ByteLevelBPETokenizer'>, [5000, 10000])\n",
      "training tokenizer: number 100, batch 16, token <class 'tokenizers.implementations.byte_level_bpe.ByteLevelBPETokenizer'>, lengths [5000, 10000]\n"
     ]
    },
    {
     "name": "stderr",
     "output_type": "stream",
     "text": [
      "100%|██████████| 3/3 [00:01<00:00,  2.42ba/s]\n"
     ]
    },
    {
     "name": "stdout",
     "output_type": "stream",
     "text": [
      "elapsed 1.2896083999949042\n",
      "(100, 16, <class 'tokenizers.implementations.byte_level_bpe.ByteLevelBPETokenizer'>, [10000, 15000])\n",
      "training tokenizer: number 100, batch 16, token <class 'tokenizers.implementations.byte_level_bpe.ByteLevelBPETokenizer'>, lengths [10000, 15000]\n"
     ]
    },
    {
     "name": "stderr",
     "output_type": "stream",
     "text": [
      "100%|██████████| 3/3 [00:01<00:00,  2.31ba/s]\n"
     ]
    },
    {
     "name": "stdout",
     "output_type": "stream",
     "text": [
      "elapsed 1.3764359000051627\n",
      "(100, 16, <class 'tokenizers.implementations.bert_wordpiece.BertWordPieceTokenizer'>, [0, 5000])\n",
      "training tokenizer: number 100, batch 16, token <class 'tokenizers.implementations.bert_wordpiece.BertWordPieceTokenizer'>, lengths [0, 5000]\n"
     ]
    },
    {
     "name": "stderr",
     "output_type": "stream",
     "text": [
      "100%|██████████| 3/3 [00:01<00:00,  2.34ba/s]\n"
     ]
    },
    {
     "name": "stdout",
     "output_type": "stream",
     "text": [
      "elapsed 1.292035800004669\n",
      "(100, 16, <class 'tokenizers.implementations.bert_wordpiece.BertWordPieceTokenizer'>, [5000, 10000])\n",
      "training tokenizer: number 100, batch 16, token <class 'tokenizers.implementations.bert_wordpiece.BertWordPieceTokenizer'>, lengths [5000, 10000]\n"
     ]
    },
    {
     "name": "stderr",
     "output_type": "stream",
     "text": [
      "100%|██████████| 3/3 [00:01<00:00,  2.38ba/s]\n"
     ]
    },
    {
     "name": "stdout",
     "output_type": "stream",
     "text": [
      "elapsed 1.297579999998561\n",
      "(100, 16, <class 'tokenizers.implementations.bert_wordpiece.BertWordPieceTokenizer'>, [10000, 15000])\n",
      "training tokenizer: number 100, batch 16, token <class 'tokenizers.implementations.bert_wordpiece.BertWordPieceTokenizer'>, lengths [10000, 15000]\n"
     ]
    },
    {
     "name": "stderr",
     "output_type": "stream",
     "text": [
      "100%|██████████| 3/3 [00:01<00:00,  2.24ba/s]\n"
     ]
    },
    {
     "name": "stdout",
     "output_type": "stream",
     "text": [
      "elapsed 1.4136098000017228\n",
      "(100, 128, <class 'tokenizers.implementations.sentencepiece_bpe.SentencePieceBPETokenizer'>, [0, 5000])\n",
      "training tokenizer: number 100, batch 128, token <class 'tokenizers.implementations.sentencepiece_bpe.SentencePieceBPETokenizer'>, lengths [0, 5000]\n"
     ]
    },
    {
     "name": "stderr",
     "output_type": "stream",
     "text": [
      "100%|██████████| 3/3 [00:01<00:00,  2.41ba/s]\n"
     ]
    },
    {
     "name": "stdout",
     "output_type": "stream",
     "text": [
      "elapsed 1.2645817999946303\n",
      "(100, 128, <class 'tokenizers.implementations.sentencepiece_bpe.SentencePieceBPETokenizer'>, [5000, 10000])\n",
      "training tokenizer: number 100, batch 128, token <class 'tokenizers.implementations.sentencepiece_bpe.SentencePieceBPETokenizer'>, lengths [5000, 10000]\n"
     ]
    },
    {
     "name": "stderr",
     "output_type": "stream",
     "text": [
      "100%|██████████| 3/3 [00:01<00:00,  2.34ba/s]\n"
     ]
    },
    {
     "name": "stdout",
     "output_type": "stream",
     "text": [
      "elapsed 1.322761300005368\n",
      "(100, 128, <class 'tokenizers.implementations.sentencepiece_bpe.SentencePieceBPETokenizer'>, [10000, 15000])\n",
      "training tokenizer: number 100, batch 128, token <class 'tokenizers.implementations.sentencepiece_bpe.SentencePieceBPETokenizer'>, lengths [10000, 15000]\n"
     ]
    },
    {
     "name": "stderr",
     "output_type": "stream",
     "text": [
      "100%|██████████| 3/3 [00:01<00:00,  2.22ba/s]\n"
     ]
    },
    {
     "name": "stdout",
     "output_type": "stream",
     "text": [
      "elapsed 1.4395151999997324\n",
      "(100, 128, <class 'tokenizers.implementations.char_level_bpe.CharBPETokenizer'>, [0, 5000])\n",
      "training tokenizer: number 100, batch 128, token <class 'tokenizers.implementations.char_level_bpe.CharBPETokenizer'>, lengths [0, 5000]\n"
     ]
    },
    {
     "name": "stderr",
     "output_type": "stream",
     "text": [
      "100%|██████████| 3/3 [00:01<00:00,  2.44ba/s]\n"
     ]
    },
    {
     "name": "stdout",
     "output_type": "stream",
     "text": [
      "elapsed 1.2478858000031323\n",
      "(100, 128, <class 'tokenizers.implementations.char_level_bpe.CharBPETokenizer'>, [5000, 10000])\n",
      "training tokenizer: number 100, batch 128, token <class 'tokenizers.implementations.char_level_bpe.CharBPETokenizer'>, lengths [5000, 10000]\n"
     ]
    },
    {
     "name": "stderr",
     "output_type": "stream",
     "text": [
      "100%|██████████| 3/3 [00:01<00:00,  2.42ba/s]\n"
     ]
    },
    {
     "name": "stdout",
     "output_type": "stream",
     "text": [
      "elapsed 1.2874827999985428\n",
      "(100, 128, <class 'tokenizers.implementations.char_level_bpe.CharBPETokenizer'>, [10000, 15000])\n",
      "training tokenizer: number 100, batch 128, token <class 'tokenizers.implementations.char_level_bpe.CharBPETokenizer'>, lengths [10000, 15000]\n"
     ]
    },
    {
     "name": "stderr",
     "output_type": "stream",
     "text": [
      "100%|██████████| 3/3 [00:01<00:00,  2.29ba/s]\n"
     ]
    },
    {
     "name": "stdout",
     "output_type": "stream",
     "text": [
      "elapsed 1.3749468000023626\n",
      "(100, 128, <class 'tokenizers.implementations.sentencepiece_unigram.SentencePieceUnigramTokenizer'>, [0, 5000])\n",
      "training tokenizer: number 100, batch 128, token <class 'tokenizers.implementations.sentencepiece_unigram.SentencePieceUnigramTokenizer'>, lengths [0, 5000]\n"
     ]
    },
    {
     "name": "stderr",
     "output_type": "stream",
     "text": [
      "100%|██████████| 3/3 [00:01<00:00,  2.33ba/s]\n"
     ]
    },
    {
     "name": "stdout",
     "output_type": "stream",
     "text": [
      "elapsed 1.3033780999976443\n",
      "(100, 128, <class 'tokenizers.implementations.sentencepiece_unigram.SentencePieceUnigramTokenizer'>, [5000, 10000])\n",
      "training tokenizer: number 100, batch 128, token <class 'tokenizers.implementations.sentencepiece_unigram.SentencePieceUnigramTokenizer'>, lengths [5000, 10000]\n"
     ]
    },
    {
     "name": "stderr",
     "output_type": "stream",
     "text": [
      "100%|██████████| 3/3 [00:01<00:00,  2.31ba/s]\n"
     ]
    },
    {
     "name": "stdout",
     "output_type": "stream",
     "text": [
      "elapsed 1.3416257000062615\n",
      "(100, 128, <class 'tokenizers.implementations.sentencepiece_unigram.SentencePieceUnigramTokenizer'>, [10000, 15000])\n",
      "training tokenizer: number 100, batch 128, token <class 'tokenizers.implementations.sentencepiece_unigram.SentencePieceUnigramTokenizer'>, lengths [10000, 15000]\n"
     ]
    },
    {
     "name": "stderr",
     "output_type": "stream",
     "text": [
      "100%|██████████| 3/3 [00:01<00:00,  2.24ba/s]\n"
     ]
    },
    {
     "name": "stdout",
     "output_type": "stream",
     "text": [
      "elapsed 1.4182228999998188\n",
      "(100, 128, <class 'tokenizers.implementations.byte_level_bpe.ByteLevelBPETokenizer'>, [0, 5000])\n",
      "training tokenizer: number 100, batch 128, token <class 'tokenizers.implementations.byte_level_bpe.ByteLevelBPETokenizer'>, lengths [0, 5000]\n"
     ]
    },
    {
     "name": "stderr",
     "output_type": "stream",
     "text": [
      "100%|██████████| 3/3 [00:01<00:00,  2.38ba/s]\n"
     ]
    },
    {
     "name": "stdout",
     "output_type": "stream",
     "text": [
      "elapsed 1.2770560999997542\n",
      "(100, 128, <class 'tokenizers.implementations.byte_level_bpe.ByteLevelBPETokenizer'>, [5000, 10000])\n",
      "training tokenizer: number 100, batch 128, token <class 'tokenizers.implementations.byte_level_bpe.ByteLevelBPETokenizer'>, lengths [5000, 10000]\n"
     ]
    },
    {
     "name": "stderr",
     "output_type": "stream",
     "text": [
      "100%|██████████| 3/3 [00:01<00:00,  2.45ba/s]\n"
     ]
    },
    {
     "name": "stdout",
     "output_type": "stream",
     "text": [
      "elapsed 1.2768819999982952\n",
      "(100, 128, <class 'tokenizers.implementations.byte_level_bpe.ByteLevelBPETokenizer'>, [10000, 15000])\n",
      "training tokenizer: number 100, batch 128, token <class 'tokenizers.implementations.byte_level_bpe.ByteLevelBPETokenizer'>, lengths [10000, 15000]\n"
     ]
    },
    {
     "name": "stderr",
     "output_type": "stream",
     "text": [
      "100%|██████████| 3/3 [00:01<00:00,  2.31ba/s]\n"
     ]
    },
    {
     "name": "stdout",
     "output_type": "stream",
     "text": [
      "elapsed 1.3802147999958834\n",
      "(100, 128, <class 'tokenizers.implementations.bert_wordpiece.BertWordPieceTokenizer'>, [0, 5000])\n",
      "training tokenizer: number 100, batch 128, token <class 'tokenizers.implementations.bert_wordpiece.BertWordPieceTokenizer'>, lengths [0, 5000]\n"
     ]
    },
    {
     "name": "stderr",
     "output_type": "stream",
     "text": [
      "100%|██████████| 3/3 [00:01<00:00,  2.31ba/s]\n"
     ]
    },
    {
     "name": "stdout",
     "output_type": "stream",
     "text": [
      "elapsed 1.320207600001595\n",
      "(100, 128, <class 'tokenizers.implementations.bert_wordpiece.BertWordPieceTokenizer'>, [5000, 10000])\n",
      "training tokenizer: number 100, batch 128, token <class 'tokenizers.implementations.bert_wordpiece.BertWordPieceTokenizer'>, lengths [5000, 10000]\n"
     ]
    },
    {
     "name": "stderr",
     "output_type": "stream",
     "text": [
      "100%|██████████| 3/3 [00:01<00:00,  2.36ba/s]\n"
     ]
    },
    {
     "name": "stdout",
     "output_type": "stream",
     "text": [
      "elapsed 1.3086283999946318\n",
      "(100, 128, <class 'tokenizers.implementations.bert_wordpiece.BertWordPieceTokenizer'>, [10000, 15000])\n",
      "training tokenizer: number 100, batch 128, token <class 'tokenizers.implementations.bert_wordpiece.BertWordPieceTokenizer'>, lengths [10000, 15000]\n"
     ]
    },
    {
     "name": "stderr",
     "output_type": "stream",
     "text": [
      "100%|██████████| 3/3 [00:01<00:00,  2.27ba/s]\n"
     ]
    },
    {
     "name": "stdout",
     "output_type": "stream",
     "text": [
      "elapsed 1.391110700002173\n",
      "(100, 512, <class 'tokenizers.implementations.sentencepiece_bpe.SentencePieceBPETokenizer'>, [0, 5000])\n",
      "training tokenizer: number 100, batch 512, token <class 'tokenizers.implementations.sentencepiece_bpe.SentencePieceBPETokenizer'>, lengths [0, 5000]\n"
     ]
    },
    {
     "name": "stderr",
     "output_type": "stream",
     "text": [
      "100%|██████████| 3/3 [00:01<00:00,  2.35ba/s]\n"
     ]
    },
    {
     "name": "stdout",
     "output_type": "stream",
     "text": [
      "elapsed 1.2866006000040215\n",
      "(100, 512, <class 'tokenizers.implementations.sentencepiece_bpe.SentencePieceBPETokenizer'>, [5000, 10000])\n",
      "training tokenizer: number 100, batch 512, token <class 'tokenizers.implementations.sentencepiece_bpe.SentencePieceBPETokenizer'>, lengths [5000, 10000]\n"
     ]
    },
    {
     "name": "stderr",
     "output_type": "stream",
     "text": [
      "100%|██████████| 3/3 [00:01<00:00,  2.44ba/s]\n"
     ]
    },
    {
     "name": "stdout",
     "output_type": "stream",
     "text": [
      "elapsed 1.27309989999776\n",
      "(100, 512, <class 'tokenizers.implementations.sentencepiece_bpe.SentencePieceBPETokenizer'>, [10000, 15000])\n",
      "training tokenizer: number 100, batch 512, token <class 'tokenizers.implementations.sentencepiece_bpe.SentencePieceBPETokenizer'>, lengths [10000, 15000]\n"
     ]
    },
    {
     "name": "stderr",
     "output_type": "stream",
     "text": [
      "100%|██████████| 3/3 [00:01<00:00,  2.28ba/s]\n"
     ]
    },
    {
     "name": "stdout",
     "output_type": "stream",
     "text": [
      "elapsed 1.3955330000026152\n",
      "(100, 512, <class 'tokenizers.implementations.char_level_bpe.CharBPETokenizer'>, [0, 5000])\n",
      "training tokenizer: number 100, batch 512, token <class 'tokenizers.implementations.char_level_bpe.CharBPETokenizer'>, lengths [0, 5000]\n"
     ]
    },
    {
     "name": "stderr",
     "output_type": "stream",
     "text": [
      "100%|██████████| 3/3 [00:01<00:00,  2.31ba/s]\n"
     ]
    },
    {
     "name": "stdout",
     "output_type": "stream",
     "text": [
      "elapsed 1.3189144999996643\n",
      "(100, 512, <class 'tokenizers.implementations.char_level_bpe.CharBPETokenizer'>, [5000, 10000])\n",
      "training tokenizer: number 100, batch 512, token <class 'tokenizers.implementations.char_level_bpe.CharBPETokenizer'>, lengths [5000, 10000]\n"
     ]
    },
    {
     "name": "stderr",
     "output_type": "stream",
     "text": [
      "100%|██████████| 3/3 [00:01<00:00,  2.38ba/s]\n"
     ]
    },
    {
     "name": "stdout",
     "output_type": "stream",
     "text": [
      "elapsed 1.300865099998191\n",
      "(100, 512, <class 'tokenizers.implementations.char_level_bpe.CharBPETokenizer'>, [10000, 15000])\n",
      "training tokenizer: number 100, batch 512, token <class 'tokenizers.implementations.char_level_bpe.CharBPETokenizer'>, lengths [10000, 15000]\n"
     ]
    },
    {
     "name": "stderr",
     "output_type": "stream",
     "text": [
      "100%|██████████| 3/3 [00:01<00:00,  2.26ba/s]\n"
     ]
    },
    {
     "name": "stdout",
     "output_type": "stream",
     "text": [
      "elapsed 1.3900425999963772\n",
      "(100, 512, <class 'tokenizers.implementations.sentencepiece_unigram.SentencePieceUnigramTokenizer'>, [0, 5000])\n",
      "training tokenizer: number 100, batch 512, token <class 'tokenizers.implementations.sentencepiece_unigram.SentencePieceUnigramTokenizer'>, lengths [0, 5000]\n"
     ]
    },
    {
     "name": "stderr",
     "output_type": "stream",
     "text": [
      "100%|██████████| 3/3 [00:01<00:00,  2.37ba/s]\n"
     ]
    },
    {
     "name": "stdout",
     "output_type": "stream",
     "text": [
      "elapsed 1.2948443999994197\n",
      "(100, 512, <class 'tokenizers.implementations.sentencepiece_unigram.SentencePieceUnigramTokenizer'>, [5000, 10000])\n",
      "training tokenizer: number 100, batch 512, token <class 'tokenizers.implementations.sentencepiece_unigram.SentencePieceUnigramTokenizer'>, lengths [5000, 10000]\n"
     ]
    },
    {
     "name": "stderr",
     "output_type": "stream",
     "text": [
      "100%|██████████| 3/3 [00:01<00:00,  2.39ba/s]\n"
     ]
    },
    {
     "name": "stdout",
     "output_type": "stream",
     "text": [
      "elapsed 1.3011882999999216\n",
      "(100, 512, <class 'tokenizers.implementations.sentencepiece_unigram.SentencePieceUnigramTokenizer'>, [10000, 15000])\n",
      "training tokenizer: number 100, batch 512, token <class 'tokenizers.implementations.sentencepiece_unigram.SentencePieceUnigramTokenizer'>, lengths [10000, 15000]\n"
     ]
    },
    {
     "name": "stderr",
     "output_type": "stream",
     "text": [
      "100%|██████████| 3/3 [00:01<00:00,  2.24ba/s]\n"
     ]
    },
    {
     "name": "stdout",
     "output_type": "stream",
     "text": [
      "elapsed 1.412812100003066\n",
      "(100, 512, <class 'tokenizers.implementations.byte_level_bpe.ByteLevelBPETokenizer'>, [0, 5000])\n",
      "training tokenizer: number 100, batch 512, token <class 'tokenizers.implementations.byte_level_bpe.ByteLevelBPETokenizer'>, lengths [0, 5000]\n"
     ]
    },
    {
     "name": "stderr",
     "output_type": "stream",
     "text": [
      "100%|██████████| 3/3 [00:01<00:00,  2.20ba/s]\n"
     ]
    },
    {
     "name": "stdout",
     "output_type": "stream",
     "text": [
      "elapsed 1.3812095999965095\n",
      "(100, 512, <class 'tokenizers.implementations.byte_level_bpe.ByteLevelBPETokenizer'>, [5000, 10000])\n",
      "training tokenizer: number 100, batch 512, token <class 'tokenizers.implementations.byte_level_bpe.ByteLevelBPETokenizer'>, lengths [5000, 10000]\n"
     ]
    },
    {
     "name": "stderr",
     "output_type": "stream",
     "text": [
      "100%|██████████| 3/3 [00:01<00:00,  2.19ba/s]\n"
     ]
    },
    {
     "name": "stdout",
     "output_type": "stream",
     "text": [
      "elapsed 1.4220996000003652\n",
      "(100, 512, <class 'tokenizers.implementations.byte_level_bpe.ByteLevelBPETokenizer'>, [10000, 15000])\n",
      "training tokenizer: number 100, batch 512, token <class 'tokenizers.implementations.byte_level_bpe.ByteLevelBPETokenizer'>, lengths [10000, 15000]\n"
     ]
    },
    {
     "name": "stderr",
     "output_type": "stream",
     "text": [
      "100%|██████████| 3/3 [00:01<00:00,  2.29ba/s]\n"
     ]
    },
    {
     "name": "stdout",
     "output_type": "stream",
     "text": [
      "elapsed 1.397398000000976\n",
      "(100, 512, <class 'tokenizers.implementations.bert_wordpiece.BertWordPieceTokenizer'>, [0, 5000])\n",
      "training tokenizer: number 100, batch 512, token <class 'tokenizers.implementations.bert_wordpiece.BertWordPieceTokenizer'>, lengths [0, 5000]\n"
     ]
    },
    {
     "name": "stderr",
     "output_type": "stream",
     "text": [
      "100%|██████████| 3/3 [00:01<00:00,  2.09ba/s]\n"
     ]
    },
    {
     "name": "stdout",
     "output_type": "stream",
     "text": [
      "elapsed 1.4547875999996904\n",
      "(100, 512, <class 'tokenizers.implementations.bert_wordpiece.BertWordPieceTokenizer'>, [5000, 10000])\n",
      "training tokenizer: number 100, batch 512, token <class 'tokenizers.implementations.bert_wordpiece.BertWordPieceTokenizer'>, lengths [5000, 10000]\n"
     ]
    },
    {
     "name": "stderr",
     "output_type": "stream",
     "text": [
      "100%|██████████| 3/3 [00:01<00:00,  2.19ba/s]\n"
     ]
    },
    {
     "name": "stdout",
     "output_type": "stream",
     "text": [
      "elapsed 1.4120791999957873\n",
      "(100, 512, <class 'tokenizers.implementations.bert_wordpiece.BertWordPieceTokenizer'>, [10000, 15000])\n",
      "training tokenizer: number 100, batch 512, token <class 'tokenizers.implementations.bert_wordpiece.BertWordPieceTokenizer'>, lengths [10000, 15000]\n"
     ]
    },
    {
     "name": "stderr",
     "output_type": "stream",
     "text": [
      "100%|██████████| 3/3 [00:01<00:00,  2.19ba/s]\n"
     ]
    },
    {
     "name": "stdout",
     "output_type": "stream",
     "text": [
      "elapsed 1.4490174000020488\n",
      "(1000, 2, <class 'tokenizers.implementations.sentencepiece_bpe.SentencePieceBPETokenizer'>, [0, 5000])\n",
      "training tokenizer: number 1000, batch 2, token <class 'tokenizers.implementations.sentencepiece_bpe.SentencePieceBPETokenizer'>, lengths [0, 5000]\n"
     ]
    },
    {
     "name": "stderr",
     "output_type": "stream",
     "text": [
      "100%|██████████| 3/3 [00:01<00:00,  2.52ba/s]\n"
     ]
    },
    {
     "name": "stdout",
     "output_type": "stream",
     "text": [
      "batch 0 of 1000\n",
      "elapsed 1.200914399996691\n",
      "(1000, 2, <class 'tokenizers.implementations.sentencepiece_bpe.SentencePieceBPETokenizer'>, [5000, 10000])\n",
      "training tokenizer: number 1000, batch 2, token <class 'tokenizers.implementations.sentencepiece_bpe.SentencePieceBPETokenizer'>, lengths [5000, 10000]\n"
     ]
    },
    {
     "name": "stderr",
     "output_type": "stream",
     "text": [
      "100%|██████████| 3/3 [00:01<00:00,  2.45ba/s]\n"
     ]
    },
    {
     "name": "stdout",
     "output_type": "stream",
     "text": [
      "elapsed 1.2700600999960443\n",
      "(1000, 2, <class 'tokenizers.implementations.sentencepiece_bpe.SentencePieceBPETokenizer'>, [10000, 15000])\n",
      "training tokenizer: number 1000, batch 2, token <class 'tokenizers.implementations.sentencepiece_bpe.SentencePieceBPETokenizer'>, lengths [10000, 15000]\n"
     ]
    },
    {
     "name": "stderr",
     "output_type": "stream",
     "text": [
      "100%|██████████| 3/3 [00:01<00:00,  2.43ba/s]\n"
     ]
    },
    {
     "name": "stdout",
     "output_type": "stream",
     "text": [
      "batch 0 of 1000\n",
      "elapsed 1.3154764999999315\n",
      "(1000, 2, <class 'tokenizers.implementations.char_level_bpe.CharBPETokenizer'>, [0, 5000])\n",
      "training tokenizer: number 1000, batch 2, token <class 'tokenizers.implementations.char_level_bpe.CharBPETokenizer'>, lengths [0, 5000]\n"
     ]
    },
    {
     "name": "stderr",
     "output_type": "stream",
     "text": [
      "100%|██████████| 3/3 [00:01<00:00,  2.40ba/s]\n"
     ]
    },
    {
     "name": "stdout",
     "output_type": "stream",
     "text": [
      "batch 0 of 1000\n",
      "elapsed 1.254204100005154\n",
      "(1000, 2, <class 'tokenizers.implementations.char_level_bpe.CharBPETokenizer'>, [5000, 10000])\n",
      "training tokenizer: number 1000, batch 2, token <class 'tokenizers.implementations.char_level_bpe.CharBPETokenizer'>, lengths [5000, 10000]\n"
     ]
    },
    {
     "name": "stderr",
     "output_type": "stream",
     "text": [
      "100%|██████████| 3/3 [00:01<00:00,  2.48ba/s]\n"
     ]
    },
    {
     "name": "stdout",
     "output_type": "stream",
     "text": [
      "elapsed 1.2562134000036167\n",
      "(1000, 2, <class 'tokenizers.implementations.char_level_bpe.CharBPETokenizer'>, [10000, 15000])\n",
      "training tokenizer: number 1000, batch 2, token <class 'tokenizers.implementations.char_level_bpe.CharBPETokenizer'>, lengths [10000, 15000]\n"
     ]
    },
    {
     "name": "stderr",
     "output_type": "stream",
     "text": [
      "100%|██████████| 3/3 [00:01<00:00,  2.42ba/s]\n"
     ]
    },
    {
     "name": "stdout",
     "output_type": "stream",
     "text": [
      "batch 0 of 1000\n",
      "elapsed 1.3089976999981445\n",
      "(1000, 2, <class 'tokenizers.implementations.sentencepiece_unigram.SentencePieceUnigramTokenizer'>, [0, 5000])\n",
      "training tokenizer: number 1000, batch 2, token <class 'tokenizers.implementations.sentencepiece_unigram.SentencePieceUnigramTokenizer'>, lengths [0, 5000]\n"
     ]
    },
    {
     "name": "stderr",
     "output_type": "stream",
     "text": [
      "100%|██████████| 3/3 [00:01<00:00,  2.49ba/s]\n"
     ]
    },
    {
     "name": "stdout",
     "output_type": "stream",
     "text": [
      "batch 0 of 1000\n",
      "elapsed 1.224606899995706\n",
      "(1000, 2, <class 'tokenizers.implementations.sentencepiece_unigram.SentencePieceUnigramTokenizer'>, [5000, 10000])\n",
      "training tokenizer: number 1000, batch 2, token <class 'tokenizers.implementations.sentencepiece_unigram.SentencePieceUnigramTokenizer'>, lengths [5000, 10000]\n"
     ]
    },
    {
     "name": "stderr",
     "output_type": "stream",
     "text": [
      "100%|██████████| 3/3 [00:01<00:00,  2.46ba/s]\n"
     ]
    },
    {
     "name": "stdout",
     "output_type": "stream",
     "text": [
      "elapsed 1.2581924999976764\n",
      "(1000, 2, <class 'tokenizers.implementations.sentencepiece_unigram.SentencePieceUnigramTokenizer'>, [10000, 15000])\n",
      "training tokenizer: number 1000, batch 2, token <class 'tokenizers.implementations.sentencepiece_unigram.SentencePieceUnigramTokenizer'>, lengths [10000, 15000]\n"
     ]
    },
    {
     "name": "stderr",
     "output_type": "stream",
     "text": [
      "100%|██████████| 3/3 [00:01<00:00,  2.52ba/s]\n"
     ]
    },
    {
     "name": "stdout",
     "output_type": "stream",
     "text": [
      "batch 0 of 1000\n",
      "elapsed 1.2699780999973882\n",
      "(1000, 2, <class 'tokenizers.implementations.byte_level_bpe.ByteLevelBPETokenizer'>, [0, 5000])\n",
      "training tokenizer: number 1000, batch 2, token <class 'tokenizers.implementations.byte_level_bpe.ByteLevelBPETokenizer'>, lengths [0, 5000]\n"
     ]
    },
    {
     "name": "stderr",
     "output_type": "stream",
     "text": [
      "100%|██████████| 3/3 [00:01<00:00,  2.36ba/s]\n"
     ]
    },
    {
     "name": "stdout",
     "output_type": "stream",
     "text": [
      "batch 0 of 1000\n",
      "elapsed 1.292073500000697\n",
      "(1000, 2, <class 'tokenizers.implementations.byte_level_bpe.ByteLevelBPETokenizer'>, [5000, 10000])\n",
      "training tokenizer: number 1000, batch 2, token <class 'tokenizers.implementations.byte_level_bpe.ByteLevelBPETokenizer'>, lengths [5000, 10000]\n"
     ]
    },
    {
     "name": "stderr",
     "output_type": "stream",
     "text": [
      "100%|██████████| 3/3 [00:01<00:00,  2.45ba/s]\n"
     ]
    },
    {
     "name": "stdout",
     "output_type": "stream",
     "text": [
      "elapsed 1.2716184000018984\n",
      "(1000, 2, <class 'tokenizers.implementations.byte_level_bpe.ByteLevelBPETokenizer'>, [10000, 15000])\n",
      "training tokenizer: number 1000, batch 2, token <class 'tokenizers.implementations.byte_level_bpe.ByteLevelBPETokenizer'>, lengths [10000, 15000]\n"
     ]
    },
    {
     "name": "stderr",
     "output_type": "stream",
     "text": [
      "100%|██████████| 3/3 [00:01<00:00,  2.44ba/s]\n"
     ]
    },
    {
     "name": "stdout",
     "output_type": "stream",
     "text": [
      "batch 0 of 1000\n",
      "elapsed 1.3101387999995495\n",
      "(1000, 2, <class 'tokenizers.implementations.bert_wordpiece.BertWordPieceTokenizer'>, [0, 5000])\n",
      "training tokenizer: number 1000, batch 2, token <class 'tokenizers.implementations.bert_wordpiece.BertWordPieceTokenizer'>, lengths [0, 5000]\n"
     ]
    },
    {
     "name": "stderr",
     "output_type": "stream",
     "text": [
      "100%|██████████| 3/3 [00:01<00:00,  2.43ba/s]\n"
     ]
    },
    {
     "name": "stdout",
     "output_type": "stream",
     "text": [
      "batch 0 of 1000\n",
      "elapsed 1.2514480000027106\n",
      "(1000, 2, <class 'tokenizers.implementations.bert_wordpiece.BertWordPieceTokenizer'>, [5000, 10000])\n",
      "training tokenizer: number 1000, batch 2, token <class 'tokenizers.implementations.bert_wordpiece.BertWordPieceTokenizer'>, lengths [5000, 10000]\n"
     ]
    },
    {
     "name": "stderr",
     "output_type": "stream",
     "text": [
      "100%|██████████| 3/3 [00:01<00:00,  2.38ba/s]\n"
     ]
    },
    {
     "name": "stdout",
     "output_type": "stream",
     "text": [
      "elapsed 1.3055865000060294\n",
      "(1000, 2, <class 'tokenizers.implementations.bert_wordpiece.BertWordPieceTokenizer'>, [10000, 15000])\n",
      "training tokenizer: number 1000, batch 2, token <class 'tokenizers.implementations.bert_wordpiece.BertWordPieceTokenizer'>, lengths [10000, 15000]\n"
     ]
    },
    {
     "name": "stderr",
     "output_type": "stream",
     "text": [
      "100%|██████████| 3/3 [00:01<00:00,  2.40ba/s]\n"
     ]
    },
    {
     "name": "stdout",
     "output_type": "stream",
     "text": [
      "batch 0 of 1000\n",
      "elapsed 1.3239897000021301\n",
      "(1000, 4, <class 'tokenizers.implementations.sentencepiece_bpe.SentencePieceBPETokenizer'>, [0, 5000])\n",
      "training tokenizer: number 1000, batch 4, token <class 'tokenizers.implementations.sentencepiece_bpe.SentencePieceBPETokenizer'>, lengths [0, 5000]\n"
     ]
    },
    {
     "name": "stderr",
     "output_type": "stream",
     "text": [
      "100%|██████████| 3/3 [00:01<00:00,  2.51ba/s]\n"
     ]
    },
    {
     "name": "stdout",
     "output_type": "stream",
     "text": [
      "elapsed 1.2133666000008816\n",
      "(1000, 4, <class 'tokenizers.implementations.sentencepiece_bpe.SentencePieceBPETokenizer'>, [5000, 10000])\n",
      "training tokenizer: number 1000, batch 4, token <class 'tokenizers.implementations.sentencepiece_bpe.SentencePieceBPETokenizer'>, lengths [5000, 10000]\n"
     ]
    },
    {
     "name": "stderr",
     "output_type": "stream",
     "text": [
      "100%|██████████| 3/3 [00:01<00:00,  2.40ba/s]\n"
     ]
    },
    {
     "name": "stdout",
     "output_type": "stream",
     "text": [
      "elapsed 1.2894097000025795\n",
      "(1000, 4, <class 'tokenizers.implementations.sentencepiece_bpe.SentencePieceBPETokenizer'>, [10000, 15000])\n",
      "training tokenizer: number 1000, batch 4, token <class 'tokenizers.implementations.sentencepiece_bpe.SentencePieceBPETokenizer'>, lengths [10000, 15000]\n"
     ]
    },
    {
     "name": "stderr",
     "output_type": "stream",
     "text": [
      "100%|██████████| 3/3 [00:01<00:00,  2.42ba/s]\n"
     ]
    },
    {
     "name": "stdout",
     "output_type": "stream",
     "text": [
      "elapsed 1.3178912999937893\n",
      "(1000, 4, <class 'tokenizers.implementations.char_level_bpe.CharBPETokenizer'>, [0, 5000])\n",
      "training tokenizer: number 1000, batch 4, token <class 'tokenizers.implementations.char_level_bpe.CharBPETokenizer'>, lengths [0, 5000]\n"
     ]
    },
    {
     "name": "stderr",
     "output_type": "stream",
     "text": [
      "100%|██████████| 3/3 [00:01<00:00,  2.42ba/s]\n"
     ]
    },
    {
     "name": "stdout",
     "output_type": "stream",
     "text": [
      "elapsed 1.2504961000013282\n",
      "(1000, 4, <class 'tokenizers.implementations.char_level_bpe.CharBPETokenizer'>, [5000, 10000])\n",
      "training tokenizer: number 1000, batch 4, token <class 'tokenizers.implementations.char_level_bpe.CharBPETokenizer'>, lengths [5000, 10000]\n"
     ]
    },
    {
     "name": "stderr",
     "output_type": "stream",
     "text": [
      "100%|██████████| 3/3 [00:01<00:00,  2.39ba/s]\n"
     ]
    },
    {
     "name": "stdout",
     "output_type": "stream",
     "text": [
      "elapsed 1.2996713999964413\n",
      "(1000, 4, <class 'tokenizers.implementations.char_level_bpe.CharBPETokenizer'>, [10000, 15000])\n",
      "training tokenizer: number 1000, batch 4, token <class 'tokenizers.implementations.char_level_bpe.CharBPETokenizer'>, lengths [10000, 15000]\n"
     ]
    },
    {
     "name": "stderr",
     "output_type": "stream",
     "text": [
      "100%|██████████| 3/3 [00:01<00:00,  2.45ba/s]\n"
     ]
    },
    {
     "name": "stdout",
     "output_type": "stream",
     "text": [
      "elapsed 1.2914640000017243\n",
      "(1000, 4, <class 'tokenizers.implementations.sentencepiece_unigram.SentencePieceUnigramTokenizer'>, [0, 5000])\n",
      "training tokenizer: number 1000, batch 4, token <class 'tokenizers.implementations.sentencepiece_unigram.SentencePieceUnigramTokenizer'>, lengths [0, 5000]\n"
     ]
    },
    {
     "name": "stderr",
     "output_type": "stream",
     "text": [
      "100%|██████████| 3/3 [00:01<00:00,  2.46ba/s]\n"
     ]
    },
    {
     "name": "stdout",
     "output_type": "stream",
     "text": [
      "elapsed 1.2377999000018463\n",
      "(1000, 4, <class 'tokenizers.implementations.sentencepiece_unigram.SentencePieceUnigramTokenizer'>, [5000, 10000])\n",
      "training tokenizer: number 1000, batch 4, token <class 'tokenizers.implementations.sentencepiece_unigram.SentencePieceUnigramTokenizer'>, lengths [5000, 10000]\n"
     ]
    },
    {
     "name": "stderr",
     "output_type": "stream",
     "text": [
      "100%|██████████| 3/3 [00:01<00:00,  2.42ba/s]\n"
     ]
    },
    {
     "name": "stdout",
     "output_type": "stream",
     "text": [
      "elapsed 1.2937950999985333\n",
      "(1000, 4, <class 'tokenizers.implementations.sentencepiece_unigram.SentencePieceUnigramTokenizer'>, [10000, 15000])\n",
      "training tokenizer: number 1000, batch 4, token <class 'tokenizers.implementations.sentencepiece_unigram.SentencePieceUnigramTokenizer'>, lengths [10000, 15000]\n"
     ]
    },
    {
     "name": "stderr",
     "output_type": "stream",
     "text": [
      "100%|██████████| 3/3 [00:01<00:00,  2.41ba/s]\n"
     ]
    },
    {
     "name": "stdout",
     "output_type": "stream",
     "text": [
      "elapsed 1.3211502000049222\n",
      "(1000, 4, <class 'tokenizers.implementations.byte_level_bpe.ByteLevelBPETokenizer'>, [0, 5000])\n",
      "training tokenizer: number 1000, batch 4, token <class 'tokenizers.implementations.byte_level_bpe.ByteLevelBPETokenizer'>, lengths [0, 5000]\n"
     ]
    },
    {
     "name": "stderr",
     "output_type": "stream",
     "text": [
      "100%|██████████| 3/3 [00:01<00:00,  2.42ba/s]\n"
     ]
    },
    {
     "name": "stdout",
     "output_type": "stream",
     "text": [
      "elapsed 1.2664313999994192\n",
      "(1000, 4, <class 'tokenizers.implementations.byte_level_bpe.ByteLevelBPETokenizer'>, [5000, 10000])\n",
      "training tokenizer: number 1000, batch 4, token <class 'tokenizers.implementations.byte_level_bpe.ByteLevelBPETokenizer'>, lengths [5000, 10000]\n"
     ]
    },
    {
     "name": "stderr",
     "output_type": "stream",
     "text": [
      "100%|██████████| 3/3 [00:01<00:00,  2.44ba/s]\n"
     ]
    },
    {
     "name": "stdout",
     "output_type": "stream",
     "text": [
      "elapsed 1.279356099999859\n",
      "(1000, 4, <class 'tokenizers.implementations.byte_level_bpe.ByteLevelBPETokenizer'>, [10000, 15000])\n",
      "training tokenizer: number 1000, batch 4, token <class 'tokenizers.implementations.byte_level_bpe.ByteLevelBPETokenizer'>, lengths [10000, 15000]\n"
     ]
    },
    {
     "name": "stderr",
     "output_type": "stream",
     "text": [
      "100%|██████████| 3/3 [00:01<00:00,  2.49ba/s]\n"
     ]
    },
    {
     "name": "stdout",
     "output_type": "stream",
     "text": [
      "elapsed 1.2900277000007918\n",
      "(1000, 4, <class 'tokenizers.implementations.bert_wordpiece.BertWordPieceTokenizer'>, [0, 5000])\n",
      "training tokenizer: number 1000, batch 4, token <class 'tokenizers.implementations.bert_wordpiece.BertWordPieceTokenizer'>, lengths [0, 5000]\n"
     ]
    },
    {
     "name": "stderr",
     "output_type": "stream",
     "text": [
      "100%|██████████| 3/3 [00:01<00:00,  2.34ba/s]\n"
     ]
    },
    {
     "name": "stdout",
     "output_type": "stream",
     "text": [
      "elapsed 1.2912522999977227\n",
      "(1000, 4, <class 'tokenizers.implementations.bert_wordpiece.BertWordPieceTokenizer'>, [5000, 10000])\n",
      "training tokenizer: number 1000, batch 4, token <class 'tokenizers.implementations.bert_wordpiece.BertWordPieceTokenizer'>, lengths [5000, 10000]\n"
     ]
    },
    {
     "name": "stderr",
     "output_type": "stream",
     "text": [
      "100%|██████████| 3/3 [00:01<00:00,  2.40ba/s]\n"
     ]
    },
    {
     "name": "stdout",
     "output_type": "stream",
     "text": [
      "elapsed 1.2906505999999354\n",
      "(1000, 4, <class 'tokenizers.implementations.bert_wordpiece.BertWordPieceTokenizer'>, [10000, 15000])\n",
      "training tokenizer: number 1000, batch 4, token <class 'tokenizers.implementations.bert_wordpiece.BertWordPieceTokenizer'>, lengths [10000, 15000]\n"
     ]
    },
    {
     "name": "stderr",
     "output_type": "stream",
     "text": [
      "100%|██████████| 3/3 [00:01<00:00,  2.34ba/s]\n"
     ]
    },
    {
     "name": "stdout",
     "output_type": "stream",
     "text": [
      "elapsed 1.349055500002578\n",
      "(1000, 8, <class 'tokenizers.implementations.sentencepiece_bpe.SentencePieceBPETokenizer'>, [0, 5000])\n",
      "training tokenizer: number 1000, batch 8, token <class 'tokenizers.implementations.sentencepiece_bpe.SentencePieceBPETokenizer'>, lengths [0, 5000]\n"
     ]
    },
    {
     "name": "stderr",
     "output_type": "stream",
     "text": [
      "100%|██████████| 3/3 [00:01<00:00,  2.40ba/s]\n"
     ]
    },
    {
     "name": "stdout",
     "output_type": "stream",
     "text": [
      "elapsed 1.2708974999986822\n",
      "(1000, 8, <class 'tokenizers.implementations.sentencepiece_bpe.SentencePieceBPETokenizer'>, [5000, 10000])\n",
      "training tokenizer: number 1000, batch 8, token <class 'tokenizers.implementations.sentencepiece_bpe.SentencePieceBPETokenizer'>, lengths [5000, 10000]\n"
     ]
    },
    {
     "name": "stderr",
     "output_type": "stream",
     "text": [
      "100%|██████████| 3/3 [00:01<00:00,  2.35ba/s]\n"
     ]
    },
    {
     "name": "stdout",
     "output_type": "stream",
     "text": [
      "elapsed 1.3331260999984806\n",
      "(1000, 8, <class 'tokenizers.implementations.sentencepiece_bpe.SentencePieceBPETokenizer'>, [10000, 15000])\n",
      "training tokenizer: number 1000, batch 8, token <class 'tokenizers.implementations.sentencepiece_bpe.SentencePieceBPETokenizer'>, lengths [10000, 15000]\n"
     ]
    },
    {
     "name": "stderr",
     "output_type": "stream",
     "text": [
      "100%|██████████| 3/3 [00:01<00:00,  2.45ba/s]\n"
     ]
    },
    {
     "name": "stdout",
     "output_type": "stream",
     "text": [
      "elapsed 1.3106248999974923\n",
      "(1000, 8, <class 'tokenizers.implementations.char_level_bpe.CharBPETokenizer'>, [0, 5000])\n",
      "training tokenizer: number 1000, batch 8, token <class 'tokenizers.implementations.char_level_bpe.CharBPETokenizer'>, lengths [0, 5000]\n"
     ]
    },
    {
     "name": "stderr",
     "output_type": "stream",
     "text": [
      "100%|██████████| 3/3 [00:01<00:00,  2.33ba/s]\n"
     ]
    },
    {
     "name": "stdout",
     "output_type": "stream",
     "text": [
      "elapsed 1.3033273999972153\n",
      "(1000, 8, <class 'tokenizers.implementations.char_level_bpe.CharBPETokenizer'>, [5000, 10000])\n",
      "training tokenizer: number 1000, batch 8, token <class 'tokenizers.implementations.char_level_bpe.CharBPETokenizer'>, lengths [5000, 10000]\n"
     ]
    },
    {
     "name": "stderr",
     "output_type": "stream",
     "text": [
      "100%|██████████| 3/3 [00:01<00:00,  2.25ba/s]\n"
     ]
    },
    {
     "name": "stdout",
     "output_type": "stream",
     "text": [
      "elapsed 1.3661830000055488\n",
      "(1000, 8, <class 'tokenizers.implementations.char_level_bpe.CharBPETokenizer'>, [10000, 15000])\n",
      "training tokenizer: number 1000, batch 8, token <class 'tokenizers.implementations.char_level_bpe.CharBPETokenizer'>, lengths [10000, 15000]\n"
     ]
    },
    {
     "name": "stderr",
     "output_type": "stream",
     "text": [
      "100%|██████████| 3/3 [00:01<00:00,  2.46ba/s]\n"
     ]
    },
    {
     "name": "stdout",
     "output_type": "stream",
     "text": [
      "elapsed 1.2855498999997508\n",
      "(1000, 8, <class 'tokenizers.implementations.sentencepiece_unigram.SentencePieceUnigramTokenizer'>, [0, 5000])\n",
      "training tokenizer: number 1000, batch 8, token <class 'tokenizers.implementations.sentencepiece_unigram.SentencePieceUnigramTokenizer'>, lengths [0, 5000]\n"
     ]
    },
    {
     "name": "stderr",
     "output_type": "stream",
     "text": [
      "100%|██████████| 3/3 [00:01<00:00,  2.53ba/s]\n"
     ]
    },
    {
     "name": "stdout",
     "output_type": "stream",
     "text": [
      "elapsed 1.2152356000005966\n",
      "(1000, 8, <class 'tokenizers.implementations.sentencepiece_unigram.SentencePieceUnigramTokenizer'>, [5000, 10000])\n",
      "training tokenizer: number 1000, batch 8, token <class 'tokenizers.implementations.sentencepiece_unigram.SentencePieceUnigramTokenizer'>, lengths [5000, 10000]\n"
     ]
    },
    {
     "name": "stderr",
     "output_type": "stream",
     "text": [
      "100%|██████████| 3/3 [00:01<00:00,  2.34ba/s]\n"
     ]
    },
    {
     "name": "stdout",
     "output_type": "stream",
     "text": [
      "elapsed 1.333075499998813\n",
      "(1000, 8, <class 'tokenizers.implementations.sentencepiece_unigram.SentencePieceUnigramTokenizer'>, [10000, 15000])\n",
      "training tokenizer: number 1000, batch 8, token <class 'tokenizers.implementations.sentencepiece_unigram.SentencePieceUnigramTokenizer'>, lengths [10000, 15000]\n"
     ]
    },
    {
     "name": "stderr",
     "output_type": "stream",
     "text": [
      "100%|██████████| 3/3 [00:01<00:00,  2.42ba/s]\n"
     ]
    },
    {
     "name": "stdout",
     "output_type": "stream",
     "text": [
      "elapsed 1.314418800000567\n",
      "(1000, 8, <class 'tokenizers.implementations.byte_level_bpe.ByteLevelBPETokenizer'>, [0, 5000])\n",
      "training tokenizer: number 1000, batch 8, token <class 'tokenizers.implementations.byte_level_bpe.ByteLevelBPETokenizer'>, lengths [0, 5000]\n"
     ]
    },
    {
     "name": "stderr",
     "output_type": "stream",
     "text": [
      "100%|██████████| 3/3 [00:01<00:00,  2.47ba/s]\n"
     ]
    },
    {
     "name": "stdout",
     "output_type": "stream",
     "text": [
      "elapsed 1.227751200000057\n",
      "(1000, 8, <class 'tokenizers.implementations.byte_level_bpe.ByteLevelBPETokenizer'>, [5000, 10000])\n",
      "training tokenizer: number 1000, batch 8, token <class 'tokenizers.implementations.byte_level_bpe.ByteLevelBPETokenizer'>, lengths [5000, 10000]\n"
     ]
    },
    {
     "name": "stderr",
     "output_type": "stream",
     "text": [
      "100%|██████████| 3/3 [00:01<00:00,  2.34ba/s]\n"
     ]
    },
    {
     "name": "stdout",
     "output_type": "stream",
     "text": [
      "elapsed 1.3303415999980643\n",
      "(1000, 8, <class 'tokenizers.implementations.byte_level_bpe.ByteLevelBPETokenizer'>, [10000, 15000])\n",
      "training tokenizer: number 1000, batch 8, token <class 'tokenizers.implementations.byte_level_bpe.ByteLevelBPETokenizer'>, lengths [10000, 15000]\n"
     ]
    },
    {
     "name": "stderr",
     "output_type": "stream",
     "text": [
      "100%|██████████| 3/3 [00:01<00:00,  2.42ba/s]\n"
     ]
    },
    {
     "name": "stdout",
     "output_type": "stream",
     "text": [
      "elapsed 1.331898700002057\n",
      "(1000, 8, <class 'tokenizers.implementations.bert_wordpiece.BertWordPieceTokenizer'>, [0, 5000])\n",
      "training tokenizer: number 1000, batch 8, token <class 'tokenizers.implementations.bert_wordpiece.BertWordPieceTokenizer'>, lengths [0, 5000]\n"
     ]
    },
    {
     "name": "stderr",
     "output_type": "stream",
     "text": [
      "100%|██████████| 3/3 [00:01<00:00,  2.40ba/s]\n"
     ]
    },
    {
     "name": "stdout",
     "output_type": "stream",
     "text": [
      "elapsed 1.2676386000021012\n",
      "(1000, 8, <class 'tokenizers.implementations.bert_wordpiece.BertWordPieceTokenizer'>, [5000, 10000])\n",
      "training tokenizer: number 1000, batch 8, token <class 'tokenizers.implementations.bert_wordpiece.BertWordPieceTokenizer'>, lengths [5000, 10000]\n"
     ]
    },
    {
     "name": "stderr",
     "output_type": "stream",
     "text": [
      "100%|██████████| 3/3 [00:01<00:00,  2.44ba/s]\n"
     ]
    },
    {
     "name": "stdout",
     "output_type": "stream",
     "text": [
      "elapsed 1.2736834999959683\n",
      "(1000, 8, <class 'tokenizers.implementations.bert_wordpiece.BertWordPieceTokenizer'>, [10000, 15000])\n",
      "training tokenizer: number 1000, batch 8, token <class 'tokenizers.implementations.bert_wordpiece.BertWordPieceTokenizer'>, lengths [10000, 15000]\n"
     ]
    },
    {
     "name": "stderr",
     "output_type": "stream",
     "text": [
      "100%|██████████| 3/3 [00:01<00:00,  2.42ba/s]\n"
     ]
    },
    {
     "name": "stdout",
     "output_type": "stream",
     "text": [
      "elapsed 1.3048737999997684\n",
      "(1000, 16, <class 'tokenizers.implementations.sentencepiece_bpe.SentencePieceBPETokenizer'>, [0, 5000])\n",
      "training tokenizer: number 1000, batch 16, token <class 'tokenizers.implementations.sentencepiece_bpe.SentencePieceBPETokenizer'>, lengths [0, 5000]\n"
     ]
    },
    {
     "name": "stderr",
     "output_type": "stream",
     "text": [
      "100%|██████████| 3/3 [00:01<00:00,  2.38ba/s]\n"
     ]
    },
    {
     "name": "stdout",
     "output_type": "stream",
     "text": [
      "elapsed 1.272738700004993\n",
      "(1000, 16, <class 'tokenizers.implementations.sentencepiece_bpe.SentencePieceBPETokenizer'>, [5000, 10000])\n",
      "training tokenizer: number 1000, batch 16, token <class 'tokenizers.implementations.sentencepiece_bpe.SentencePieceBPETokenizer'>, lengths [5000, 10000]\n"
     ]
    },
    {
     "name": "stderr",
     "output_type": "stream",
     "text": [
      "100%|██████████| 3/3 [00:01<00:00,  2.40ba/s]\n"
     ]
    },
    {
     "name": "stdout",
     "output_type": "stream",
     "text": [
      "elapsed 1.2925355000043055\n",
      "(1000, 16, <class 'tokenizers.implementations.sentencepiece_bpe.SentencePieceBPETokenizer'>, [10000, 15000])\n",
      "training tokenizer: number 1000, batch 16, token <class 'tokenizers.implementations.sentencepiece_bpe.SentencePieceBPETokenizer'>, lengths [10000, 15000]\n"
     ]
    },
    {
     "name": "stderr",
     "output_type": "stream",
     "text": [
      "100%|██████████| 3/3 [00:01<00:00,  2.42ba/s]\n"
     ]
    },
    {
     "name": "stdout",
     "output_type": "stream",
     "text": [
      "elapsed 1.3182401999947615\n",
      "(1000, 16, <class 'tokenizers.implementations.char_level_bpe.CharBPETokenizer'>, [0, 5000])\n",
      "training tokenizer: number 1000, batch 16, token <class 'tokenizers.implementations.char_level_bpe.CharBPETokenizer'>, lengths [0, 5000]\n"
     ]
    },
    {
     "name": "stderr",
     "output_type": "stream",
     "text": [
      "100%|██████████| 3/3 [00:01<00:00,  2.41ba/s]\n"
     ]
    },
    {
     "name": "stdout",
     "output_type": "stream",
     "text": [
      "elapsed 1.2520533999995678\n",
      "(1000, 16, <class 'tokenizers.implementations.char_level_bpe.CharBPETokenizer'>, [5000, 10000])\n",
      "training tokenizer: number 1000, batch 16, token <class 'tokenizers.implementations.char_level_bpe.CharBPETokenizer'>, lengths [5000, 10000]\n"
     ]
    },
    {
     "name": "stderr",
     "output_type": "stream",
     "text": [
      "100%|██████████| 3/3 [00:01<00:00,  2.46ba/s]\n"
     ]
    },
    {
     "name": "stdout",
     "output_type": "stream",
     "text": [
      "elapsed 1.2581883000020753\n",
      "(1000, 16, <class 'tokenizers.implementations.char_level_bpe.CharBPETokenizer'>, [10000, 15000])\n",
      "training tokenizer: number 1000, batch 16, token <class 'tokenizers.implementations.char_level_bpe.CharBPETokenizer'>, lengths [10000, 15000]\n"
     ]
    },
    {
     "name": "stderr",
     "output_type": "stream",
     "text": [
      "100%|██████████| 3/3 [00:01<00:00,  2.40ba/s]\n"
     ]
    },
    {
     "name": "stdout",
     "output_type": "stream",
     "text": [
      "elapsed 1.3406093000012334\n",
      "(1000, 16, <class 'tokenizers.implementations.sentencepiece_unigram.SentencePieceUnigramTokenizer'>, [0, 5000])\n",
      "training tokenizer: number 1000, batch 16, token <class 'tokenizers.implementations.sentencepiece_unigram.SentencePieceUnigramTokenizer'>, lengths [0, 5000]\n"
     ]
    },
    {
     "name": "stderr",
     "output_type": "stream",
     "text": [
      "100%|██████████| 3/3 [00:01<00:00,  2.45ba/s]\n"
     ]
    },
    {
     "name": "stdout",
     "output_type": "stream",
     "text": [
      "elapsed 1.2483636000033584\n",
      "(1000, 16, <class 'tokenizers.implementations.sentencepiece_unigram.SentencePieceUnigramTokenizer'>, [5000, 10000])\n",
      "training tokenizer: number 1000, batch 16, token <class 'tokenizers.implementations.sentencepiece_unigram.SentencePieceUnigramTokenizer'>, lengths [5000, 10000]\n"
     ]
    },
    {
     "name": "stderr",
     "output_type": "stream",
     "text": [
      "100%|██████████| 3/3 [00:01<00:00,  2.46ba/s]\n"
     ]
    },
    {
     "name": "stdout",
     "output_type": "stream",
     "text": [
      "elapsed 1.2688587000011466\n",
      "(1000, 16, <class 'tokenizers.implementations.sentencepiece_unigram.SentencePieceUnigramTokenizer'>, [10000, 15000])\n",
      "training tokenizer: number 1000, batch 16, token <class 'tokenizers.implementations.sentencepiece_unigram.SentencePieceUnigramTokenizer'>, lengths [10000, 15000]\n"
     ]
    },
    {
     "name": "stderr",
     "output_type": "stream",
     "text": [
      "100%|██████████| 3/3 [00:01<00:00,  2.38ba/s]\n"
     ]
    },
    {
     "name": "stdout",
     "output_type": "stream",
     "text": [
      "elapsed 1.3368304000032367\n",
      "(1000, 16, <class 'tokenizers.implementations.byte_level_bpe.ByteLevelBPETokenizer'>, [0, 5000])\n",
      "training tokenizer: number 1000, batch 16, token <class 'tokenizers.implementations.byte_level_bpe.ByteLevelBPETokenizer'>, lengths [0, 5000]\n"
     ]
    },
    {
     "name": "stderr",
     "output_type": "stream",
     "text": [
      "100%|██████████| 3/3 [00:01<00:00,  2.35ba/s]\n"
     ]
    },
    {
     "name": "stdout",
     "output_type": "stream",
     "text": [
      "elapsed 1.2952283000049647\n",
      "(1000, 16, <class 'tokenizers.implementations.byte_level_bpe.ByteLevelBPETokenizer'>, [5000, 10000])\n",
      "training tokenizer: number 1000, batch 16, token <class 'tokenizers.implementations.byte_level_bpe.ByteLevelBPETokenizer'>, lengths [5000, 10000]\n"
     ]
    },
    {
     "name": "stderr",
     "output_type": "stream",
     "text": [
      "100%|██████████| 3/3 [00:01<00:00,  2.46ba/s]\n"
     ]
    },
    {
     "name": "stdout",
     "output_type": "stream",
     "text": [
      "elapsed 1.2610511999955634\n",
      "(1000, 16, <class 'tokenizers.implementations.byte_level_bpe.ByteLevelBPETokenizer'>, [10000, 15000])\n",
      "training tokenizer: number 1000, batch 16, token <class 'tokenizers.implementations.byte_level_bpe.ByteLevelBPETokenizer'>, lengths [10000, 15000]\n"
     ]
    },
    {
     "name": "stderr",
     "output_type": "stream",
     "text": [
      "100%|██████████| 3/3 [00:01<00:00,  2.38ba/s]\n"
     ]
    },
    {
     "name": "stdout",
     "output_type": "stream",
     "text": [
      "elapsed 1.3699772000036319\n",
      "(1000, 16, <class 'tokenizers.implementations.bert_wordpiece.BertWordPieceTokenizer'>, [0, 5000])\n",
      "training tokenizer: number 1000, batch 16, token <class 'tokenizers.implementations.bert_wordpiece.BertWordPieceTokenizer'>, lengths [0, 5000]\n"
     ]
    },
    {
     "name": "stderr",
     "output_type": "stream",
     "text": [
      "100%|██████████| 3/3 [00:01<00:00,  2.21ba/s]\n"
     ]
    },
    {
     "name": "stdout",
     "output_type": "stream",
     "text": [
      "elapsed 1.3796446999986074\n",
      "(1000, 16, <class 'tokenizers.implementations.bert_wordpiece.BertWordPieceTokenizer'>, [5000, 10000])\n",
      "training tokenizer: number 1000, batch 16, token <class 'tokenizers.implementations.bert_wordpiece.BertWordPieceTokenizer'>, lengths [5000, 10000]\n"
     ]
    },
    {
     "name": "stderr",
     "output_type": "stream",
     "text": [
      "100%|██████████| 3/3 [00:01<00:00,  2.44ba/s]\n"
     ]
    },
    {
     "name": "stdout",
     "output_type": "stream",
     "text": [
      "elapsed 1.2708786000002874\n",
      "(1000, 16, <class 'tokenizers.implementations.bert_wordpiece.BertWordPieceTokenizer'>, [10000, 15000])\n",
      "training tokenizer: number 1000, batch 16, token <class 'tokenizers.implementations.bert_wordpiece.BertWordPieceTokenizer'>, lengths [10000, 15000]\n"
     ]
    },
    {
     "name": "stderr",
     "output_type": "stream",
     "text": [
      "100%|██████████| 3/3 [00:01<00:00,  2.49ba/s]\n"
     ]
    },
    {
     "name": "stdout",
     "output_type": "stream",
     "text": [
      "elapsed 1.2660964999959106\n",
      "(1000, 128, <class 'tokenizers.implementations.sentencepiece_bpe.SentencePieceBPETokenizer'>, [0, 5000])\n",
      "training tokenizer: number 1000, batch 128, token <class 'tokenizers.implementations.sentencepiece_bpe.SentencePieceBPETokenizer'>, lengths [0, 5000]\n"
     ]
    },
    {
     "name": "stderr",
     "output_type": "stream",
     "text": [
      "100%|██████████| 3/3 [00:01<00:00,  2.24ba/s]\n"
     ]
    },
    {
     "name": "stdout",
     "output_type": "stream",
     "text": [
      "elapsed 1.3571021000025212\n",
      "(1000, 128, <class 'tokenizers.implementations.sentencepiece_bpe.SentencePieceBPETokenizer'>, [5000, 10000])\n",
      "training tokenizer: number 1000, batch 128, token <class 'tokenizers.implementations.sentencepiece_bpe.SentencePieceBPETokenizer'>, lengths [5000, 10000]\n"
     ]
    },
    {
     "name": "stderr",
     "output_type": "stream",
     "text": [
      "100%|██████████| 3/3 [00:01<00:00,  2.12ba/s]\n"
     ]
    },
    {
     "name": "stdout",
     "output_type": "stream",
     "text": [
      "elapsed 1.4524744000009377\n",
      "(1000, 128, <class 'tokenizers.implementations.sentencepiece_bpe.SentencePieceBPETokenizer'>, [10000, 15000])\n",
      "training tokenizer: number 1000, batch 128, token <class 'tokenizers.implementations.sentencepiece_bpe.SentencePieceBPETokenizer'>, lengths [10000, 15000]\n"
     ]
    },
    {
     "name": "stderr",
     "output_type": "stream",
     "text": [
      "100%|██████████| 3/3 [00:01<00:00,  2.28ba/s]\n"
     ]
    },
    {
     "name": "stdout",
     "output_type": "stream",
     "text": [
      "elapsed 1.4048234000001685\n",
      "(1000, 128, <class 'tokenizers.implementations.char_level_bpe.CharBPETokenizer'>, [0, 5000])\n",
      "training tokenizer: number 1000, batch 128, token <class 'tokenizers.implementations.char_level_bpe.CharBPETokenizer'>, lengths [0, 5000]\n"
     ]
    },
    {
     "name": "stderr",
     "output_type": "stream",
     "text": [
      "100%|██████████| 3/3 [00:01<00:00,  2.33ba/s]\n"
     ]
    },
    {
     "name": "stdout",
     "output_type": "stream",
     "text": [
      "elapsed 1.2922557000056258\n",
      "(1000, 128, <class 'tokenizers.implementations.char_level_bpe.CharBPETokenizer'>, [5000, 10000])\n",
      "training tokenizer: number 1000, batch 128, token <class 'tokenizers.implementations.char_level_bpe.CharBPETokenizer'>, lengths [5000, 10000]\n"
     ]
    },
    {
     "name": "stderr",
     "output_type": "stream",
     "text": [
      "100%|██████████| 3/3 [00:01<00:00,  2.45ba/s]\n"
     ]
    },
    {
     "name": "stdout",
     "output_type": "stream",
     "text": [
      "elapsed 1.25656980000349\n",
      "(1000, 128, <class 'tokenizers.implementations.char_level_bpe.CharBPETokenizer'>, [10000, 15000])\n",
      "training tokenizer: number 1000, batch 128, token <class 'tokenizers.implementations.char_level_bpe.CharBPETokenizer'>, lengths [10000, 15000]\n"
     ]
    },
    {
     "name": "stderr",
     "output_type": "stream",
     "text": [
      "100%|██████████| 3/3 [00:01<00:00,  2.42ba/s]\n"
     ]
    },
    {
     "name": "stdout",
     "output_type": "stream",
     "text": [
      "elapsed 1.3027540999974008\n",
      "(1000, 128, <class 'tokenizers.implementations.sentencepiece_unigram.SentencePieceUnigramTokenizer'>, [0, 5000])\n",
      "training tokenizer: number 1000, batch 128, token <class 'tokenizers.implementations.sentencepiece_unigram.SentencePieceUnigramTokenizer'>, lengths [0, 5000]\n"
     ]
    },
    {
     "name": "stderr",
     "output_type": "stream",
     "text": [
      "100%|██████████| 3/3 [00:01<00:00,  2.31ba/s]\n"
     ]
    },
    {
     "name": "stdout",
     "output_type": "stream",
     "text": [
      "elapsed 1.319533900001261\n",
      "(1000, 128, <class 'tokenizers.implementations.sentencepiece_unigram.SentencePieceUnigramTokenizer'>, [5000, 10000])\n",
      "training tokenizer: number 1000, batch 128, token <class 'tokenizers.implementations.sentencepiece_unigram.SentencePieceUnigramTokenizer'>, lengths [5000, 10000]\n"
     ]
    },
    {
     "name": "stderr",
     "output_type": "stream",
     "text": [
      "100%|██████████| 3/3 [00:01<00:00,  2.40ba/s]\n"
     ]
    },
    {
     "name": "stdout",
     "output_type": "stream",
     "text": [
      "elapsed 1.2894654999981867\n",
      "(1000, 128, <class 'tokenizers.implementations.sentencepiece_unigram.SentencePieceUnigramTokenizer'>, [10000, 15000])\n",
      "training tokenizer: number 1000, batch 128, token <class 'tokenizers.implementations.sentencepiece_unigram.SentencePieceUnigramTokenizer'>, lengths [10000, 15000]\n"
     ]
    },
    {
     "name": "stderr",
     "output_type": "stream",
     "text": [
      "100%|██████████| 3/3 [00:01<00:00,  2.44ba/s]\n"
     ]
    },
    {
     "name": "stdout",
     "output_type": "stream",
     "text": [
      "elapsed 1.3020045999946888\n",
      "(1000, 128, <class 'tokenizers.implementations.byte_level_bpe.ByteLevelBPETokenizer'>, [0, 5000])\n",
      "training tokenizer: number 1000, batch 128, token <class 'tokenizers.implementations.byte_level_bpe.ByteLevelBPETokenizer'>, lengths [0, 5000]\n"
     ]
    },
    {
     "name": "stderr",
     "output_type": "stream",
     "text": [
      "100%|██████████| 3/3 [00:01<00:00,  2.33ba/s]\n"
     ]
    },
    {
     "name": "stdout",
     "output_type": "stream",
     "text": [
      "elapsed 1.307457599999907\n",
      "(1000, 128, <class 'tokenizers.implementations.byte_level_bpe.ByteLevelBPETokenizer'>, [5000, 10000])\n",
      "training tokenizer: number 1000, batch 128, token <class 'tokenizers.implementations.byte_level_bpe.ByteLevelBPETokenizer'>, lengths [5000, 10000]\n"
     ]
    },
    {
     "name": "stderr",
     "output_type": "stream",
     "text": [
      "100%|██████████| 3/3 [00:01<00:00,  2.35ba/s]\n"
     ]
    },
    {
     "name": "stdout",
     "output_type": "stream",
     "text": [
      "elapsed 1.3251754000011715\n",
      "(1000, 128, <class 'tokenizers.implementations.byte_level_bpe.ByteLevelBPETokenizer'>, [10000, 15000])\n",
      "training tokenizer: number 1000, batch 128, token <class 'tokenizers.implementations.byte_level_bpe.ByteLevelBPETokenizer'>, lengths [10000, 15000]\n"
     ]
    },
    {
     "name": "stderr",
     "output_type": "stream",
     "text": [
      "100%|██████████| 3/3 [00:01<00:00,  2.38ba/s]\n"
     ]
    },
    {
     "name": "stdout",
     "output_type": "stream",
     "text": [
      "elapsed 1.351829599996563\n",
      "(1000, 128, <class 'tokenizers.implementations.bert_wordpiece.BertWordPieceTokenizer'>, [0, 5000])\n",
      "training tokenizer: number 1000, batch 128, token <class 'tokenizers.implementations.bert_wordpiece.BertWordPieceTokenizer'>, lengths [0, 5000]\n"
     ]
    },
    {
     "name": "stderr",
     "output_type": "stream",
     "text": [
      "100%|██████████| 3/3 [00:01<00:00,  2.32ba/s]\n"
     ]
    },
    {
     "name": "stdout",
     "output_type": "stream",
     "text": [
      "elapsed 1.314896800002316\n",
      "(1000, 128, <class 'tokenizers.implementations.bert_wordpiece.BertWordPieceTokenizer'>, [5000, 10000])\n",
      "training tokenizer: number 1000, batch 128, token <class 'tokenizers.implementations.bert_wordpiece.BertWordPieceTokenizer'>, lengths [5000, 10000]\n"
     ]
    },
    {
     "name": "stderr",
     "output_type": "stream",
     "text": [
      "100%|██████████| 3/3 [00:01<00:00,  2.29ba/s]\n"
     ]
    },
    {
     "name": "stdout",
     "output_type": "stream",
     "text": [
      "elapsed 1.358013299999584\n",
      "(1000, 128, <class 'tokenizers.implementations.bert_wordpiece.BertWordPieceTokenizer'>, [10000, 15000])\n",
      "training tokenizer: number 1000, batch 128, token <class 'tokenizers.implementations.bert_wordpiece.BertWordPieceTokenizer'>, lengths [10000, 15000]\n"
     ]
    },
    {
     "name": "stderr",
     "output_type": "stream",
     "text": [
      "100%|██████████| 3/3 [00:01<00:00,  2.42ba/s]\n"
     ]
    },
    {
     "name": "stdout",
     "output_type": "stream",
     "text": [
      "elapsed 1.3118658000021242\n",
      "(1000, 512, <class 'tokenizers.implementations.sentencepiece_bpe.SentencePieceBPETokenizer'>, [0, 5000])\n",
      "training tokenizer: number 1000, batch 512, token <class 'tokenizers.implementations.sentencepiece_bpe.SentencePieceBPETokenizer'>, lengths [0, 5000]\n"
     ]
    },
    {
     "name": "stderr",
     "output_type": "stream",
     "text": [
      "100%|██████████| 3/3 [00:01<00:00,  2.31ba/s]\n"
     ]
    },
    {
     "name": "stdout",
     "output_type": "stream",
     "text": [
      "elapsed 1.3204022999998415\n",
      "(1000, 512, <class 'tokenizers.implementations.sentencepiece_bpe.SentencePieceBPETokenizer'>, [5000, 10000])\n",
      "training tokenizer: number 1000, batch 512, token <class 'tokenizers.implementations.sentencepiece_bpe.SentencePieceBPETokenizer'>, lengths [5000, 10000]\n"
     ]
    },
    {
     "name": "stderr",
     "output_type": "stream",
     "text": [
      "100%|██████████| 3/3 [00:01<00:00,  2.38ba/s]\n"
     ]
    },
    {
     "name": "stdout",
     "output_type": "stream",
     "text": [
      "elapsed 1.3180799999972805\n",
      "(1000, 512, <class 'tokenizers.implementations.sentencepiece_bpe.SentencePieceBPETokenizer'>, [10000, 15000])\n",
      "training tokenizer: number 1000, batch 512, token <class 'tokenizers.implementations.sentencepiece_bpe.SentencePieceBPETokenizer'>, lengths [10000, 15000]\n"
     ]
    },
    {
     "name": "stderr",
     "output_type": "stream",
     "text": [
      "100%|██████████| 3/3 [00:01<00:00,  2.46ba/s]\n"
     ]
    },
    {
     "name": "stdout",
     "output_type": "stream",
     "text": [
      "elapsed 1.2952651000014157\n",
      "(1000, 512, <class 'tokenizers.implementations.char_level_bpe.CharBPETokenizer'>, [0, 5000])\n",
      "training tokenizer: number 1000, batch 512, token <class 'tokenizers.implementations.char_level_bpe.CharBPETokenizer'>, lengths [0, 5000]\n"
     ]
    },
    {
     "name": "stderr",
     "output_type": "stream",
     "text": [
      "100%|██████████| 3/3 [00:01<00:00,  2.42ba/s]\n"
     ]
    },
    {
     "name": "stdout",
     "output_type": "stream",
     "text": [
      "elapsed 1.2553640999976778\n",
      "(1000, 512, <class 'tokenizers.implementations.char_level_bpe.CharBPETokenizer'>, [5000, 10000])\n",
      "training tokenizer: number 1000, batch 512, token <class 'tokenizers.implementations.char_level_bpe.CharBPETokenizer'>, lengths [5000, 10000]\n"
     ]
    },
    {
     "name": "stderr",
     "output_type": "stream",
     "text": [
      "100%|██████████| 3/3 [00:01<00:00,  2.31ba/s]\n"
     ]
    },
    {
     "name": "stdout",
     "output_type": "stream",
     "text": [
      "elapsed 1.3448980000030133\n",
      "(1000, 512, <class 'tokenizers.implementations.char_level_bpe.CharBPETokenizer'>, [10000, 15000])\n",
      "training tokenizer: number 1000, batch 512, token <class 'tokenizers.implementations.char_level_bpe.CharBPETokenizer'>, lengths [10000, 15000]\n"
     ]
    },
    {
     "name": "stderr",
     "output_type": "stream",
     "text": [
      "100%|██████████| 3/3 [00:01<00:00,  2.48ba/s]\n"
     ]
    },
    {
     "name": "stdout",
     "output_type": "stream",
     "text": [
      "elapsed 1.2873660000041127\n",
      "(1000, 512, <class 'tokenizers.implementations.sentencepiece_unigram.SentencePieceUnigramTokenizer'>, [0, 5000])\n",
      "training tokenizer: number 1000, batch 512, token <class 'tokenizers.implementations.sentencepiece_unigram.SentencePieceUnigramTokenizer'>, lengths [0, 5000]\n"
     ]
    },
    {
     "name": "stderr",
     "output_type": "stream",
     "text": [
      "100%|██████████| 3/3 [00:01<00:00,  2.42ba/s]\n"
     ]
    },
    {
     "name": "stdout",
     "output_type": "stream",
     "text": [
      "elapsed 1.2567354999991949\n",
      "(1000, 512, <class 'tokenizers.implementations.sentencepiece_unigram.SentencePieceUnigramTokenizer'>, [5000, 10000])\n",
      "training tokenizer: number 1000, batch 512, token <class 'tokenizers.implementations.sentencepiece_unigram.SentencePieceUnigramTokenizer'>, lengths [5000, 10000]\n"
     ]
    },
    {
     "name": "stderr",
     "output_type": "stream",
     "text": [
      "100%|██████████| 3/3 [00:01<00:00,  2.35ba/s]\n"
     ]
    },
    {
     "name": "stdout",
     "output_type": "stream",
     "text": [
      "elapsed 1.3324554999999236\n",
      "(1000, 512, <class 'tokenizers.implementations.sentencepiece_unigram.SentencePieceUnigramTokenizer'>, [10000, 15000])\n",
      "training tokenizer: number 1000, batch 512, token <class 'tokenizers.implementations.sentencepiece_unigram.SentencePieceUnigramTokenizer'>, lengths [10000, 15000]\n"
     ]
    },
    {
     "name": "stderr",
     "output_type": "stream",
     "text": [
      "100%|██████████| 3/3 [00:01<00:00,  2.46ba/s]\n"
     ]
    },
    {
     "name": "stdout",
     "output_type": "stream",
     "text": [
      "elapsed 1.2970981999969808\n",
      "(1000, 512, <class 'tokenizers.implementations.byte_level_bpe.ByteLevelBPETokenizer'>, [0, 5000])\n",
      "training tokenizer: number 1000, batch 512, token <class 'tokenizers.implementations.byte_level_bpe.ByteLevelBPETokenizer'>, lengths [0, 5000]\n"
     ]
    },
    {
     "name": "stderr",
     "output_type": "stream",
     "text": [
      "100%|██████████| 3/3 [00:01<00:00,  2.44ba/s]\n"
     ]
    },
    {
     "name": "stdout",
     "output_type": "stream",
     "text": [
      "elapsed 1.2490162000030978\n",
      "(1000, 512, <class 'tokenizers.implementations.byte_level_bpe.ByteLevelBPETokenizer'>, [5000, 10000])\n",
      "training tokenizer: number 1000, batch 512, token <class 'tokenizers.implementations.byte_level_bpe.ByteLevelBPETokenizer'>, lengths [5000, 10000]\n"
     ]
    },
    {
     "name": "stderr",
     "output_type": "stream",
     "text": [
      "100%|██████████| 3/3 [00:01<00:00,  2.47ba/s]\n"
     ]
    },
    {
     "name": "stdout",
     "output_type": "stream",
     "text": [
      "elapsed 1.2681501999977627\n",
      "(1000, 512, <class 'tokenizers.implementations.byte_level_bpe.ByteLevelBPETokenizer'>, [10000, 15000])\n",
      "training tokenizer: number 1000, batch 512, token <class 'tokenizers.implementations.byte_level_bpe.ByteLevelBPETokenizer'>, lengths [10000, 15000]\n"
     ]
    },
    {
     "name": "stderr",
     "output_type": "stream",
     "text": [
      "100%|██████████| 3/3 [00:01<00:00,  2.40ba/s]\n"
     ]
    },
    {
     "name": "stdout",
     "output_type": "stream",
     "text": [
      "elapsed 1.350388099999691\n",
      "(1000, 512, <class 'tokenizers.implementations.bert_wordpiece.BertWordPieceTokenizer'>, [0, 5000])\n",
      "training tokenizer: number 1000, batch 512, token <class 'tokenizers.implementations.bert_wordpiece.BertWordPieceTokenizer'>, lengths [0, 5000]\n"
     ]
    },
    {
     "name": "stderr",
     "output_type": "stream",
     "text": [
      "100%|██████████| 3/3 [00:01<00:00,  2.43ba/s]\n"
     ]
    },
    {
     "name": "stdout",
     "output_type": "stream",
     "text": [
      "elapsed 1.2539929999984452\n",
      "(1000, 512, <class 'tokenizers.implementations.bert_wordpiece.BertWordPieceTokenizer'>, [5000, 10000])\n",
      "training tokenizer: number 1000, batch 512, token <class 'tokenizers.implementations.bert_wordpiece.BertWordPieceTokenizer'>, lengths [5000, 10000]\n"
     ]
    },
    {
     "name": "stderr",
     "output_type": "stream",
     "text": [
      "100%|██████████| 3/3 [00:01<00:00,  2.36ba/s]\n"
     ]
    },
    {
     "name": "stdout",
     "output_type": "stream",
     "text": [
      "elapsed 1.3114386999950511\n",
      "(1000, 512, <class 'tokenizers.implementations.bert_wordpiece.BertWordPieceTokenizer'>, [10000, 15000])\n",
      "training tokenizer: number 1000, batch 512, token <class 'tokenizers.implementations.bert_wordpiece.BertWordPieceTokenizer'>, lengths [10000, 15000]\n"
     ]
    },
    {
     "name": "stderr",
     "output_type": "stream",
     "text": [
      "100%|██████████| 3/3 [00:01<00:00,  2.36ba/s]\n"
     ]
    },
    {
     "name": "stdout",
     "output_type": "stream",
     "text": [
      "elapsed 1.3456772999998066\n",
      "(5000, 2, <class 'tokenizers.implementations.sentencepiece_bpe.SentencePieceBPETokenizer'>, [0, 5000])\n",
      "training tokenizer: number 5000, batch 2, token <class 'tokenizers.implementations.sentencepiece_bpe.SentencePieceBPETokenizer'>, lengths [0, 5000]\n"
     ]
    },
    {
     "name": "stderr",
     "output_type": "stream",
     "text": [
      "100%|██████████| 3/3 [00:01<00:00,  2.28ba/s]\n"
     ]
    },
    {
     "name": "stdout",
     "output_type": "stream",
     "text": [
      "batch 0 of 5000\n",
      "elapsed 1.329110300001048\n",
      "(5000, 2, <class 'tokenizers.implementations.sentencepiece_bpe.SentencePieceBPETokenizer'>, [5000, 10000])\n",
      "training tokenizer: number 5000, batch 2, token <class 'tokenizers.implementations.sentencepiece_bpe.SentencePieceBPETokenizer'>, lengths [5000, 10000]\n"
     ]
    },
    {
     "name": "stderr",
     "output_type": "stream",
     "text": [
      "100%|██████████| 3/3 [00:01<00:00,  2.50ba/s]\n"
     ]
    },
    {
     "name": "stdout",
     "output_type": "stream",
     "text": [
      "elapsed 1.2390035999997053\n",
      "(5000, 2, <class 'tokenizers.implementations.sentencepiece_bpe.SentencePieceBPETokenizer'>, [10000, 15000])\n",
      "training tokenizer: number 5000, batch 2, token <class 'tokenizers.implementations.sentencepiece_bpe.SentencePieceBPETokenizer'>, lengths [10000, 15000]\n"
     ]
    },
    {
     "name": "stderr",
     "output_type": "stream",
     "text": [
      "100%|██████████| 3/3 [00:01<00:00,  2.35ba/s]\n"
     ]
    },
    {
     "name": "stdout",
     "output_type": "stream",
     "text": [
      "batch 0 of 5000\n",
      "elapsed 1.3590739999999641\n",
      "(5000, 2, <class 'tokenizers.implementations.char_level_bpe.CharBPETokenizer'>, [0, 5000])\n",
      "training tokenizer: number 5000, batch 2, token <class 'tokenizers.implementations.char_level_bpe.CharBPETokenizer'>, lengths [0, 5000]\n"
     ]
    },
    {
     "name": "stderr",
     "output_type": "stream",
     "text": [
      "100%|██████████| 3/3 [00:01<00:00,  2.36ba/s]\n"
     ]
    },
    {
     "name": "stdout",
     "output_type": "stream",
     "text": [
      "batch 0 of 5000\n",
      "elapsed 1.292099899997993\n",
      "(5000, 2, <class 'tokenizers.implementations.char_level_bpe.CharBPETokenizer'>, [5000, 10000])\n",
      "training tokenizer: number 5000, batch 2, token <class 'tokenizers.implementations.char_level_bpe.CharBPETokenizer'>, lengths [5000, 10000]\n"
     ]
    },
    {
     "name": "stderr",
     "output_type": "stream",
     "text": [
      "100%|██████████| 3/3 [00:01<00:00,  2.45ba/s]\n"
     ]
    },
    {
     "name": "stdout",
     "output_type": "stream",
     "text": [
      "elapsed 1.2652719999969122\n",
      "(5000, 2, <class 'tokenizers.implementations.char_level_bpe.CharBPETokenizer'>, [10000, 15000])\n",
      "training tokenizer: number 5000, batch 2, token <class 'tokenizers.implementations.char_level_bpe.CharBPETokenizer'>, lengths [10000, 15000]\n"
     ]
    },
    {
     "name": "stderr",
     "output_type": "stream",
     "text": [
      "100%|██████████| 3/3 [00:01<00:00,  2.34ba/s]\n"
     ]
    },
    {
     "name": "stdout",
     "output_type": "stream",
     "text": [
      "batch 0 of 5000\n",
      "elapsed 1.3505603000012343\n",
      "(5000, 2, <class 'tokenizers.implementations.sentencepiece_unigram.SentencePieceUnigramTokenizer'>, [0, 5000])\n",
      "training tokenizer: number 5000, batch 2, token <class 'tokenizers.implementations.sentencepiece_unigram.SentencePieceUnigramTokenizer'>, lengths [0, 5000]\n"
     ]
    },
    {
     "name": "stderr",
     "output_type": "stream",
     "text": [
      "100%|██████████| 3/3 [00:01<00:00,  2.35ba/s]\n"
     ]
    },
    {
     "name": "stdout",
     "output_type": "stream",
     "text": [
      "batch 0 of 5000\n",
      "elapsed 1.299893900002644\n",
      "(5000, 2, <class 'tokenizers.implementations.sentencepiece_unigram.SentencePieceUnigramTokenizer'>, [5000, 10000])\n",
      "training tokenizer: number 5000, batch 2, token <class 'tokenizers.implementations.sentencepiece_unigram.SentencePieceUnigramTokenizer'>, lengths [5000, 10000]\n"
     ]
    },
    {
     "name": "stderr",
     "output_type": "stream",
     "text": [
      "100%|██████████| 3/3 [00:01<00:00,  2.46ba/s]\n"
     ]
    },
    {
     "name": "stdout",
     "output_type": "stream",
     "text": [
      "elapsed 1.264629800003604\n",
      "(5000, 2, <class 'tokenizers.implementations.sentencepiece_unigram.SentencePieceUnigramTokenizer'>, [10000, 15000])\n",
      "training tokenizer: number 5000, batch 2, token <class 'tokenizers.implementations.sentencepiece_unigram.SentencePieceUnigramTokenizer'>, lengths [10000, 15000]\n"
     ]
    },
    {
     "name": "stderr",
     "output_type": "stream",
     "text": [
      "100%|██████████| 3/3 [00:01<00:00,  2.48ba/s]\n"
     ]
    },
    {
     "name": "stdout",
     "output_type": "stream",
     "text": [
      "batch 0 of 5000\n",
      "elapsed 1.2824107999986154\n",
      "(5000, 2, <class 'tokenizers.implementations.byte_level_bpe.ByteLevelBPETokenizer'>, [0, 5000])\n",
      "training tokenizer: number 5000, batch 2, token <class 'tokenizers.implementations.byte_level_bpe.ByteLevelBPETokenizer'>, lengths [0, 5000]\n"
     ]
    },
    {
     "name": "stderr",
     "output_type": "stream",
     "text": [
      "100%|██████████| 3/3 [00:01<00:00,  2.29ba/s]\n"
     ]
    },
    {
     "name": "stdout",
     "output_type": "stream",
     "text": [
      "batch 0 of 5000\n",
      "elapsed 1.3249858999988646\n",
      "(5000, 2, <class 'tokenizers.implementations.byte_level_bpe.ByteLevelBPETokenizer'>, [5000, 10000])\n",
      "training tokenizer: number 5000, batch 2, token <class 'tokenizers.implementations.byte_level_bpe.ByteLevelBPETokenizer'>, lengths [5000, 10000]\n"
     ]
    },
    {
     "name": "stderr",
     "output_type": "stream",
     "text": [
      "100%|██████████| 3/3 [00:01<00:00,  2.37ba/s]\n"
     ]
    },
    {
     "name": "stdout",
     "output_type": "stream",
     "text": [
      "elapsed 1.3186052999953972\n",
      "(5000, 2, <class 'tokenizers.implementations.byte_level_bpe.ByteLevelBPETokenizer'>, [10000, 15000])\n",
      "training tokenizer: number 5000, batch 2, token <class 'tokenizers.implementations.byte_level_bpe.ByteLevelBPETokenizer'>, lengths [10000, 15000]\n"
     ]
    },
    {
     "name": "stderr",
     "output_type": "stream",
     "text": [
      "100%|██████████| 3/3 [00:01<00:00,  2.27ba/s]\n"
     ]
    },
    {
     "name": "stdout",
     "output_type": "stream",
     "text": [
      "batch 0 of 5000\n",
      "elapsed 1.4121297000019695\n",
      "(5000, 2, <class 'tokenizers.implementations.bert_wordpiece.BertWordPieceTokenizer'>, [0, 5000])\n",
      "training tokenizer: number 5000, batch 2, token <class 'tokenizers.implementations.bert_wordpiece.BertWordPieceTokenizer'>, lengths [0, 5000]\n"
     ]
    },
    {
     "name": "stderr",
     "output_type": "stream",
     "text": [
      "100%|██████████| 3/3 [00:01<00:00,  2.02ba/s]\n"
     ]
    },
    {
     "name": "stdout",
     "output_type": "stream",
     "text": [
      "batch 0 of 5000\n",
      "elapsed 1.4993319999994128\n",
      "(5000, 2, <class 'tokenizers.implementations.bert_wordpiece.BertWordPieceTokenizer'>, [5000, 10000])\n",
      "training tokenizer: number 5000, batch 2, token <class 'tokenizers.implementations.bert_wordpiece.BertWordPieceTokenizer'>, lengths [5000, 10000]\n"
     ]
    },
    {
     "name": "stderr",
     "output_type": "stream",
     "text": [
      "100%|██████████| 3/3 [00:01<00:00,  2.18ba/s]\n"
     ]
    },
    {
     "name": "stdout",
     "output_type": "stream",
     "text": [
      "elapsed 1.4238438999964274\n",
      "(5000, 2, <class 'tokenizers.implementations.bert_wordpiece.BertWordPieceTokenizer'>, [10000, 15000])\n",
      "training tokenizer: number 5000, batch 2, token <class 'tokenizers.implementations.bert_wordpiece.BertWordPieceTokenizer'>, lengths [10000, 15000]\n"
     ]
    },
    {
     "name": "stderr",
     "output_type": "stream",
     "text": [
      "100%|██████████| 3/3 [00:01<00:00,  2.21ba/s]\n"
     ]
    },
    {
     "name": "stdout",
     "output_type": "stream",
     "text": [
      "batch 0 of 5000\n",
      "elapsed 1.434465899998031\n",
      "(5000, 4, <class 'tokenizers.implementations.sentencepiece_bpe.SentencePieceBPETokenizer'>, [0, 5000])\n",
      "training tokenizer: number 5000, batch 4, token <class 'tokenizers.implementations.sentencepiece_bpe.SentencePieceBPETokenizer'>, lengths [0, 5000]\n"
     ]
    },
    {
     "name": "stderr",
     "output_type": "stream",
     "text": [
      "100%|██████████| 3/3 [00:01<00:00,  2.31ba/s]\n"
     ]
    },
    {
     "name": "stdout",
     "output_type": "stream",
     "text": [
      "elapsed 1.3082035000043106\n",
      "(5000, 4, <class 'tokenizers.implementations.sentencepiece_bpe.SentencePieceBPETokenizer'>, [5000, 10000])\n",
      "training tokenizer: number 5000, batch 4, token <class 'tokenizers.implementations.sentencepiece_bpe.SentencePieceBPETokenizer'>, lengths [5000, 10000]\n"
     ]
    },
    {
     "name": "stderr",
     "output_type": "stream",
     "text": [
      "100%|██████████| 3/3 [00:01<00:00,  2.10ba/s]\n"
     ]
    },
    {
     "name": "stdout",
     "output_type": "stream",
     "text": [
      "elapsed 1.4839636000033352\n",
      "(5000, 4, <class 'tokenizers.implementations.sentencepiece_bpe.SentencePieceBPETokenizer'>, [10000, 15000])\n",
      "training tokenizer: number 5000, batch 4, token <class 'tokenizers.implementations.sentencepiece_bpe.SentencePieceBPETokenizer'>, lengths [10000, 15000]\n"
     ]
    },
    {
     "name": "stderr",
     "output_type": "stream",
     "text": [
      "100%|██████████| 3/3 [00:01<00:00,  2.38ba/s]\n"
     ]
    },
    {
     "name": "stdout",
     "output_type": "stream",
     "text": [
      "elapsed 1.3623833999954513\n",
      "(5000, 4, <class 'tokenizers.implementations.char_level_bpe.CharBPETokenizer'>, [0, 5000])\n",
      "training tokenizer: number 5000, batch 4, token <class 'tokenizers.implementations.char_level_bpe.CharBPETokenizer'>, lengths [0, 5000]\n"
     ]
    },
    {
     "name": "stderr",
     "output_type": "stream",
     "text": [
      "100%|██████████| 3/3 [00:01<00:00,  2.35ba/s]\n"
     ]
    },
    {
     "name": "stdout",
     "output_type": "stream",
     "text": [
      "elapsed 1.2953351000032853\n",
      "(5000, 4, <class 'tokenizers.implementations.char_level_bpe.CharBPETokenizer'>, [5000, 10000])\n",
      "training tokenizer: number 5000, batch 4, token <class 'tokenizers.implementations.char_level_bpe.CharBPETokenizer'>, lengths [5000, 10000]\n"
     ]
    },
    {
     "name": "stderr",
     "output_type": "stream",
     "text": [
      "100%|██████████| 3/3 [00:01<00:00,  2.25ba/s]\n"
     ]
    },
    {
     "name": "stdout",
     "output_type": "stream",
     "text": [
      "elapsed 1.3873683999991044\n",
      "(5000, 4, <class 'tokenizers.implementations.char_level_bpe.CharBPETokenizer'>, [10000, 15000])\n",
      "training tokenizer: number 5000, batch 4, token <class 'tokenizers.implementations.char_level_bpe.CharBPETokenizer'>, lengths [10000, 15000]\n"
     ]
    },
    {
     "name": "stderr",
     "output_type": "stream",
     "text": [
      "100%|██████████| 3/3 [00:01<00:00,  2.31ba/s]\n"
     ]
    },
    {
     "name": "stdout",
     "output_type": "stream",
     "text": [
      "elapsed 1.3739287000062177\n",
      "(5000, 4, <class 'tokenizers.implementations.sentencepiece_unigram.SentencePieceUnigramTokenizer'>, [0, 5000])\n",
      "training tokenizer: number 5000, batch 4, token <class 'tokenizers.implementations.sentencepiece_unigram.SentencePieceUnigramTokenizer'>, lengths [0, 5000]\n"
     ]
    },
    {
     "name": "stderr",
     "output_type": "stream",
     "text": [
      "100%|██████████| 3/3 [00:01<00:00,  2.37ba/s]\n"
     ]
    },
    {
     "name": "stdout",
     "output_type": "stream",
     "text": [
      "elapsed 1.28705269999773\n",
      "(5000, 4, <class 'tokenizers.implementations.sentencepiece_unigram.SentencePieceUnigramTokenizer'>, [5000, 10000])\n",
      "training tokenizer: number 5000, batch 4, token <class 'tokenizers.implementations.sentencepiece_unigram.SentencePieceUnigramTokenizer'>, lengths [5000, 10000]\n"
     ]
    },
    {
     "name": "stderr",
     "output_type": "stream",
     "text": [
      "100%|██████████| 3/3 [00:01<00:00,  1.95ba/s]\n"
     ]
    },
    {
     "name": "stdout",
     "output_type": "stream",
     "text": [
      "elapsed 1.598878800003149\n",
      "(5000, 4, <class 'tokenizers.implementations.sentencepiece_unigram.SentencePieceUnigramTokenizer'>, [10000, 15000])\n",
      "training tokenizer: number 5000, batch 4, token <class 'tokenizers.implementations.sentencepiece_unigram.SentencePieceUnigramTokenizer'>, lengths [10000, 15000]\n"
     ]
    },
    {
     "name": "stderr",
     "output_type": "stream",
     "text": [
      "100%|██████████| 3/3 [00:01<00:00,  2.17ba/s]\n"
     ]
    },
    {
     "name": "stdout",
     "output_type": "stream",
     "text": [
      "elapsed 1.4970352000018465\n",
      "(5000, 4, <class 'tokenizers.implementations.byte_level_bpe.ByteLevelBPETokenizer'>, [0, 5000])\n",
      "training tokenizer: number 5000, batch 4, token <class 'tokenizers.implementations.byte_level_bpe.ByteLevelBPETokenizer'>, lengths [0, 5000]\n"
     ]
    },
    {
     "name": "stderr",
     "output_type": "stream",
     "text": [
      "100%|██████████| 3/3 [00:01<00:00,  1.93ba/s]\n"
     ]
    },
    {
     "name": "stdout",
     "output_type": "stream",
     "text": [
      "elapsed 1.6180222000039066\n",
      "(5000, 4, <class 'tokenizers.implementations.byte_level_bpe.ByteLevelBPETokenizer'>, [5000, 10000])\n",
      "training tokenizer: number 5000, batch 4, token <class 'tokenizers.implementations.byte_level_bpe.ByteLevelBPETokenizer'>, lengths [5000, 10000]\n"
     ]
    },
    {
     "name": "stderr",
     "output_type": "stream",
     "text": [
      "100%|██████████| 3/3 [00:01<00:00,  2.14ba/s]\n"
     ]
    },
    {
     "name": "stdout",
     "output_type": "stream",
     "text": [
      "elapsed 1.45802150000236\n",
      "(5000, 4, <class 'tokenizers.implementations.byte_level_bpe.ByteLevelBPETokenizer'>, [10000, 15000])\n",
      "training tokenizer: number 5000, batch 4, token <class 'tokenizers.implementations.byte_level_bpe.ByteLevelBPETokenizer'>, lengths [10000, 15000]\n"
     ]
    },
    {
     "name": "stderr",
     "output_type": "stream",
     "text": [
      "100%|██████████| 3/3 [00:01<00:00,  2.14ba/s]\n"
     ]
    },
    {
     "name": "stdout",
     "output_type": "stream",
     "text": [
      "elapsed 1.5017280999963987\n",
      "(5000, 4, <class 'tokenizers.implementations.bert_wordpiece.BertWordPieceTokenizer'>, [0, 5000])\n",
      "training tokenizer: number 5000, batch 4, token <class 'tokenizers.implementations.bert_wordpiece.BertWordPieceTokenizer'>, lengths [0, 5000]\n"
     ]
    },
    {
     "name": "stderr",
     "output_type": "stream",
     "text": [
      "100%|██████████| 3/3 [00:01<00:00,  2.25ba/s]\n"
     ]
    },
    {
     "name": "stdout",
     "output_type": "stream",
     "text": [
      "elapsed 1.3551173999949242\n",
      "(5000, 4, <class 'tokenizers.implementations.bert_wordpiece.BertWordPieceTokenizer'>, [5000, 10000])\n",
      "training tokenizer: number 5000, batch 4, token <class 'tokenizers.implementations.bert_wordpiece.BertWordPieceTokenizer'>, lengths [5000, 10000]\n"
     ]
    },
    {
     "name": "stderr",
     "output_type": "stream",
     "text": [
      "100%|██████████| 3/3 [00:01<00:00,  2.25ba/s]\n"
     ]
    },
    {
     "name": "stdout",
     "output_type": "stream",
     "text": [
      "elapsed 1.379759200004628\n",
      "(5000, 4, <class 'tokenizers.implementations.bert_wordpiece.BertWordPieceTokenizer'>, [10000, 15000])\n",
      "training tokenizer: number 5000, batch 4, token <class 'tokenizers.implementations.bert_wordpiece.BertWordPieceTokenizer'>, lengths [10000, 15000]\n"
     ]
    },
    {
     "name": "stderr",
     "output_type": "stream",
     "text": [
      "100%|██████████| 3/3 [00:01<00:00,  2.23ba/s]\n"
     ]
    },
    {
     "name": "stdout",
     "output_type": "stream",
     "text": [
      "elapsed 1.4362769999934244\n",
      "(5000, 8, <class 'tokenizers.implementations.sentencepiece_bpe.SentencePieceBPETokenizer'>, [0, 5000])\n",
      "training tokenizer: number 5000, batch 8, token <class 'tokenizers.implementations.sentencepiece_bpe.SentencePieceBPETokenizer'>, lengths [0, 5000]\n"
     ]
    },
    {
     "name": "stderr",
     "output_type": "stream",
     "text": [
      "100%|██████████| 3/3 [00:01<00:00,  2.08ba/s]\n"
     ]
    },
    {
     "name": "stdout",
     "output_type": "stream",
     "text": [
      "elapsed 1.4607130000003963\n",
      "(5000, 8, <class 'tokenizers.implementations.sentencepiece_bpe.SentencePieceBPETokenizer'>, [5000, 10000])\n",
      "training tokenizer: number 5000, batch 8, token <class 'tokenizers.implementations.sentencepiece_bpe.SentencePieceBPETokenizer'>, lengths [5000, 10000]\n"
     ]
    },
    {
     "name": "stderr",
     "output_type": "stream",
     "text": [
      "100%|██████████| 3/3 [00:01<00:00,  2.11ba/s]\n"
     ]
    },
    {
     "name": "stdout",
     "output_type": "stream",
     "text": [
      "elapsed 1.4628260000026785\n",
      "(5000, 8, <class 'tokenizers.implementations.sentencepiece_bpe.SentencePieceBPETokenizer'>, [10000, 15000])\n",
      "training tokenizer: number 5000, batch 8, token <class 'tokenizers.implementations.sentencepiece_bpe.SentencePieceBPETokenizer'>, lengths [10000, 15000]\n"
     ]
    },
    {
     "name": "stderr",
     "output_type": "stream",
     "text": [
      "100%|██████████| 3/3 [00:01<00:00,  2.30ba/s]\n"
     ]
    },
    {
     "name": "stdout",
     "output_type": "stream",
     "text": [
      "elapsed 1.4112865999995847\n",
      "(5000, 8, <class 'tokenizers.implementations.char_level_bpe.CharBPETokenizer'>, [0, 5000])\n",
      "training tokenizer: number 5000, batch 8, token <class 'tokenizers.implementations.char_level_bpe.CharBPETokenizer'>, lengths [0, 5000]\n"
     ]
    },
    {
     "name": "stderr",
     "output_type": "stream",
     "text": [
      "100%|██████████| 3/3 [00:01<00:00,  2.35ba/s]\n"
     ]
    },
    {
     "name": "stdout",
     "output_type": "stream",
     "text": [
      "elapsed 1.2949411000008695\n",
      "(5000, 8, <class 'tokenizers.implementations.char_level_bpe.CharBPETokenizer'>, [5000, 10000])\n",
      "training tokenizer: number 5000, batch 8, token <class 'tokenizers.implementations.char_level_bpe.CharBPETokenizer'>, lengths [5000, 10000]\n"
     ]
    },
    {
     "name": "stderr",
     "output_type": "stream",
     "text": [
      "100%|██████████| 3/3 [00:01<00:00,  2.28ba/s]\n"
     ]
    },
    {
     "name": "stdout",
     "output_type": "stream",
     "text": [
      "elapsed 1.3577501999970991\n",
      "(5000, 8, <class 'tokenizers.implementations.char_level_bpe.CharBPETokenizer'>, [10000, 15000])\n",
      "training tokenizer: number 5000, batch 8, token <class 'tokenizers.implementations.char_level_bpe.CharBPETokenizer'>, lengths [10000, 15000]\n"
     ]
    },
    {
     "name": "stderr",
     "output_type": "stream",
     "text": [
      "100%|██████████| 3/3 [00:01<00:00,  2.22ba/s]\n"
     ]
    },
    {
     "name": "stdout",
     "output_type": "stream",
     "text": [
      "elapsed 1.4367186999952537\n",
      "(5000, 8, <class 'tokenizers.implementations.sentencepiece_unigram.SentencePieceUnigramTokenizer'>, [0, 5000])\n",
      "training tokenizer: number 5000, batch 8, token <class 'tokenizers.implementations.sentencepiece_unigram.SentencePieceUnigramTokenizer'>, lengths [0, 5000]\n"
     ]
    },
    {
     "name": "stderr",
     "output_type": "stream",
     "text": [
      "100%|██████████| 3/3 [00:01<00:00,  2.33ba/s]\n"
     ]
    },
    {
     "name": "stdout",
     "output_type": "stream",
     "text": [
      "elapsed 1.317804199999955\n",
      "(5000, 8, <class 'tokenizers.implementations.sentencepiece_unigram.SentencePieceUnigramTokenizer'>, [5000, 10000])\n",
      "training tokenizer: number 5000, batch 8, token <class 'tokenizers.implementations.sentencepiece_unigram.SentencePieceUnigramTokenizer'>, lengths [5000, 10000]\n"
     ]
    },
    {
     "name": "stderr",
     "output_type": "stream",
     "text": [
      "100%|██████████| 3/3 [00:01<00:00,  2.29ba/s]\n"
     ]
    },
    {
     "name": "stdout",
     "output_type": "stream",
     "text": [
      "elapsed 1.3498419000025024\n",
      "(5000, 8, <class 'tokenizers.implementations.sentencepiece_unigram.SentencePieceUnigramTokenizer'>, [10000, 15000])\n",
      "training tokenizer: number 5000, batch 8, token <class 'tokenizers.implementations.sentencepiece_unigram.SentencePieceUnigramTokenizer'>, lengths [10000, 15000]\n"
     ]
    },
    {
     "name": "stderr",
     "output_type": "stream",
     "text": [
      "100%|██████████| 3/3 [00:01<00:00,  2.20ba/s]\n"
     ]
    },
    {
     "name": "stdout",
     "output_type": "stream",
     "text": [
      "elapsed 1.4418108999961987\n",
      "(5000, 8, <class 'tokenizers.implementations.byte_level_bpe.ByteLevelBPETokenizer'>, [0, 5000])\n",
      "training tokenizer: number 5000, batch 8, token <class 'tokenizers.implementations.byte_level_bpe.ByteLevelBPETokenizer'>, lengths [0, 5000]\n"
     ]
    },
    {
     "name": "stderr",
     "output_type": "stream",
     "text": [
      "100%|██████████| 3/3 [00:01<00:00,  2.42ba/s]\n"
     ]
    },
    {
     "name": "stdout",
     "output_type": "stream",
     "text": [
      "elapsed 1.2569395000027725\n",
      "(5000, 8, <class 'tokenizers.implementations.byte_level_bpe.ByteLevelBPETokenizer'>, [5000, 10000])\n",
      "training tokenizer: number 5000, batch 8, token <class 'tokenizers.implementations.byte_level_bpe.ByteLevelBPETokenizer'>, lengths [5000, 10000]\n"
     ]
    },
    {
     "name": "stderr",
     "output_type": "stream",
     "text": [
      "100%|██████████| 3/3 [00:01<00:00,  2.13ba/s]\n"
     ]
    },
    {
     "name": "stdout",
     "output_type": "stream",
     "text": [
      "elapsed 1.479823600006057\n",
      "(5000, 8, <class 'tokenizers.implementations.byte_level_bpe.ByteLevelBPETokenizer'>, [10000, 15000])\n",
      "training tokenizer: number 5000, batch 8, token <class 'tokenizers.implementations.byte_level_bpe.ByteLevelBPETokenizer'>, lengths [10000, 15000]\n"
     ]
    },
    {
     "name": "stderr",
     "output_type": "stream",
     "text": [
      "100%|██████████| 3/3 [00:01<00:00,  2.24ba/s]\n"
     ]
    },
    {
     "name": "stdout",
     "output_type": "stream",
     "text": [
      "elapsed 1.4349426999979187\n",
      "(5000, 8, <class 'tokenizers.implementations.bert_wordpiece.BertWordPieceTokenizer'>, [0, 5000])\n",
      "training tokenizer: number 5000, batch 8, token <class 'tokenizers.implementations.bert_wordpiece.BertWordPieceTokenizer'>, lengths [0, 5000]\n"
     ]
    },
    {
     "name": "stderr",
     "output_type": "stream",
     "text": [
      "100%|██████████| 3/3 [00:01<00:00,  2.39ba/s]\n"
     ]
    },
    {
     "name": "stdout",
     "output_type": "stream",
     "text": [
      "elapsed 1.273845399999118\n",
      "(5000, 8, <class 'tokenizers.implementations.bert_wordpiece.BertWordPieceTokenizer'>, [5000, 10000])\n",
      "training tokenizer: number 5000, batch 8, token <class 'tokenizers.implementations.bert_wordpiece.BertWordPieceTokenizer'>, lengths [5000, 10000]\n"
     ]
    },
    {
     "name": "stderr",
     "output_type": "stream",
     "text": [
      "100%|██████████| 3/3 [00:01<00:00,  2.27ba/s]\n"
     ]
    },
    {
     "name": "stdout",
     "output_type": "stream",
     "text": [
      "elapsed 1.3738346000027377\n",
      "(5000, 8, <class 'tokenizers.implementations.bert_wordpiece.BertWordPieceTokenizer'>, [10000, 15000])\n",
      "training tokenizer: number 5000, batch 8, token <class 'tokenizers.implementations.bert_wordpiece.BertWordPieceTokenizer'>, lengths [10000, 15000]\n"
     ]
    },
    {
     "name": "stderr",
     "output_type": "stream",
     "text": [
      "100%|██████████| 3/3 [00:01<00:00,  2.18ba/s]\n"
     ]
    },
    {
     "name": "stdout",
     "output_type": "stream",
     "text": [
      "elapsed 1.4578916000027675\n",
      "(5000, 16, <class 'tokenizers.implementations.sentencepiece_bpe.SentencePieceBPETokenizer'>, [0, 5000])\n",
      "training tokenizer: number 5000, batch 16, token <class 'tokenizers.implementations.sentencepiece_bpe.SentencePieceBPETokenizer'>, lengths [0, 5000]\n"
     ]
    },
    {
     "name": "stderr",
     "output_type": "stream",
     "text": [
      "100%|██████████| 3/3 [00:01<00:00,  2.41ba/s]\n"
     ]
    },
    {
     "name": "stdout",
     "output_type": "stream",
     "text": [
      "elapsed 1.25376729999698\n",
      "(5000, 16, <class 'tokenizers.implementations.sentencepiece_bpe.SentencePieceBPETokenizer'>, [5000, 10000])\n",
      "training tokenizer: number 5000, batch 16, token <class 'tokenizers.implementations.sentencepiece_bpe.SentencePieceBPETokenizer'>, lengths [5000, 10000]\n"
     ]
    },
    {
     "name": "stderr",
     "output_type": "stream",
     "text": [
      "100%|██████████| 3/3 [00:01<00:00,  2.34ba/s]\n"
     ]
    },
    {
     "name": "stdout",
     "output_type": "stream",
     "text": [
      "elapsed 1.329052100001718\n",
      "(5000, 16, <class 'tokenizers.implementations.sentencepiece_bpe.SentencePieceBPETokenizer'>, [10000, 15000])\n",
      "training tokenizer: number 5000, batch 16, token <class 'tokenizers.implementations.sentencepiece_bpe.SentencePieceBPETokenizer'>, lengths [10000, 15000]\n"
     ]
    },
    {
     "name": "stderr",
     "output_type": "stream",
     "text": [
      "100%|██████████| 3/3 [00:01<00:00,  2.36ba/s]\n"
     ]
    },
    {
     "name": "stdout",
     "output_type": "stream",
     "text": [
      "elapsed 1.358776000000944\n",
      "(5000, 16, <class 'tokenizers.implementations.char_level_bpe.CharBPETokenizer'>, [0, 5000])\n",
      "training tokenizer: number 5000, batch 16, token <class 'tokenizers.implementations.char_level_bpe.CharBPETokenizer'>, lengths [0, 5000]\n"
     ]
    },
    {
     "name": "stderr",
     "output_type": "stream",
     "text": [
      "100%|██████████| 3/3 [00:01<00:00,  2.34ba/s]\n"
     ]
    },
    {
     "name": "stdout",
     "output_type": "stream",
     "text": [
      "elapsed 1.310626599995885\n",
      "(5000, 16, <class 'tokenizers.implementations.char_level_bpe.CharBPETokenizer'>, [5000, 10000])\n",
      "training tokenizer: number 5000, batch 16, token <class 'tokenizers.implementations.char_level_bpe.CharBPETokenizer'>, lengths [5000, 10000]\n"
     ]
    },
    {
     "name": "stderr",
     "output_type": "stream",
     "text": [
      "100%|██████████| 3/3 [00:01<00:00,  2.29ba/s]\n"
     ]
    },
    {
     "name": "stdout",
     "output_type": "stream",
     "text": [
      "elapsed 1.369862400002603\n",
      "(5000, 16, <class 'tokenizers.implementations.char_level_bpe.CharBPETokenizer'>, [10000, 15000])\n",
      "training tokenizer: number 5000, batch 16, token <class 'tokenizers.implementations.char_level_bpe.CharBPETokenizer'>, lengths [10000, 15000]\n"
     ]
    },
    {
     "name": "stderr",
     "output_type": "stream",
     "text": [
      "100%|██████████| 3/3 [00:01<00:00,  2.38ba/s]\n"
     ]
    },
    {
     "name": "stdout",
     "output_type": "stream",
     "text": [
      "elapsed 1.3389246999940951\n",
      "(5000, 16, <class 'tokenizers.implementations.sentencepiece_unigram.SentencePieceUnigramTokenizer'>, [0, 5000])\n",
      "training tokenizer: number 5000, batch 16, token <class 'tokenizers.implementations.sentencepiece_unigram.SentencePieceUnigramTokenizer'>, lengths [0, 5000]\n"
     ]
    },
    {
     "name": "stderr",
     "output_type": "stream",
     "text": [
      "100%|██████████| 3/3 [00:01<00:00,  2.35ba/s]\n"
     ]
    },
    {
     "name": "stdout",
     "output_type": "stream",
     "text": [
      "elapsed 1.2999700000000303\n",
      "(5000, 16, <class 'tokenizers.implementations.sentencepiece_unigram.SentencePieceUnigramTokenizer'>, [5000, 10000])\n",
      "training tokenizer: number 5000, batch 16, token <class 'tokenizers.implementations.sentencepiece_unigram.SentencePieceUnigramTokenizer'>, lengths [5000, 10000]\n"
     ]
    },
    {
     "name": "stderr",
     "output_type": "stream",
     "text": [
      "100%|██████████| 3/3 [00:01<00:00,  2.28ba/s]\n"
     ]
    },
    {
     "name": "stdout",
     "output_type": "stream",
     "text": [
      "elapsed 1.3615768000017852\n",
      "(5000, 16, <class 'tokenizers.implementations.sentencepiece_unigram.SentencePieceUnigramTokenizer'>, [10000, 15000])\n",
      "training tokenizer: number 5000, batch 16, token <class 'tokenizers.implementations.sentencepiece_unigram.SentencePieceUnigramTokenizer'>, lengths [10000, 15000]\n"
     ]
    },
    {
     "name": "stderr",
     "output_type": "stream",
     "text": [
      "100%|██████████| 3/3 [00:01<00:00,  2.40ba/s]\n"
     ]
    },
    {
     "name": "stdout",
     "output_type": "stream",
     "text": [
      "elapsed 1.3290689999994356\n",
      "(5000, 16, <class 'tokenizers.implementations.byte_level_bpe.ByteLevelBPETokenizer'>, [0, 5000])\n",
      "training tokenizer: number 5000, batch 16, token <class 'tokenizers.implementations.byte_level_bpe.ByteLevelBPETokenizer'>, lengths [0, 5000]\n"
     ]
    },
    {
     "name": "stderr",
     "output_type": "stream",
     "text": [
      "100%|██████████| 3/3 [00:01<00:00,  2.39ba/s]\n"
     ]
    },
    {
     "name": "stdout",
     "output_type": "stream",
     "text": [
      "elapsed 1.2786641000056989\n",
      "(5000, 16, <class 'tokenizers.implementations.byte_level_bpe.ByteLevelBPETokenizer'>, [5000, 10000])\n",
      "training tokenizer: number 5000, batch 16, token <class 'tokenizers.implementations.byte_level_bpe.ByteLevelBPETokenizer'>, lengths [5000, 10000]\n"
     ]
    },
    {
     "name": "stderr",
     "output_type": "stream",
     "text": [
      "100%|██████████| 3/3 [00:01<00:00,  2.29ba/s]\n"
     ]
    },
    {
     "name": "stdout",
     "output_type": "stream",
     "text": [
      "elapsed 1.360210899998492\n",
      "(5000, 16, <class 'tokenizers.implementations.byte_level_bpe.ByteLevelBPETokenizer'>, [10000, 15000])\n",
      "training tokenizer: number 5000, batch 16, token <class 'tokenizers.implementations.byte_level_bpe.ByteLevelBPETokenizer'>, lengths [10000, 15000]\n"
     ]
    },
    {
     "name": "stderr",
     "output_type": "stream",
     "text": [
      "100%|██████████| 3/3 [00:01<00:00,  2.42ba/s]\n"
     ]
    },
    {
     "name": "stdout",
     "output_type": "stream",
     "text": [
      "elapsed 1.3279500999997254\n",
      "(5000, 16, <class 'tokenizers.implementations.bert_wordpiece.BertWordPieceTokenizer'>, [0, 5000])\n",
      "training tokenizer: number 5000, batch 16, token <class 'tokenizers.implementations.bert_wordpiece.BertWordPieceTokenizer'>, lengths [0, 5000]\n"
     ]
    },
    {
     "name": "stderr",
     "output_type": "stream",
     "text": [
      "100%|██████████| 3/3 [00:01<00:00,  2.40ba/s]\n"
     ]
    },
    {
     "name": "stdout",
     "output_type": "stream",
     "text": [
      "elapsed 1.2663689000037266\n",
      "(5000, 16, <class 'tokenizers.implementations.bert_wordpiece.BertWordPieceTokenizer'>, [5000, 10000])\n",
      "training tokenizer: number 5000, batch 16, token <class 'tokenizers.implementations.bert_wordpiece.BertWordPieceTokenizer'>, lengths [5000, 10000]\n"
     ]
    },
    {
     "name": "stderr",
     "output_type": "stream",
     "text": [
      "100%|██████████| 3/3 [00:01<00:00,  2.20ba/s]\n"
     ]
    },
    {
     "name": "stdout",
     "output_type": "stream",
     "text": [
      "elapsed 1.4099415999953635\n",
      "(5000, 16, <class 'tokenizers.implementations.bert_wordpiece.BertWordPieceTokenizer'>, [10000, 15000])\n",
      "training tokenizer: number 5000, batch 16, token <class 'tokenizers.implementations.bert_wordpiece.BertWordPieceTokenizer'>, lengths [10000, 15000]\n"
     ]
    },
    {
     "name": "stderr",
     "output_type": "stream",
     "text": [
      "100%|██████████| 3/3 [00:01<00:00,  2.37ba/s]\n"
     ]
    },
    {
     "name": "stdout",
     "output_type": "stream",
     "text": [
      "elapsed 1.3348925999962375\n",
      "(5000, 128, <class 'tokenizers.implementations.sentencepiece_bpe.SentencePieceBPETokenizer'>, [0, 5000])\n",
      "training tokenizer: number 5000, batch 128, token <class 'tokenizers.implementations.sentencepiece_bpe.SentencePieceBPETokenizer'>, lengths [0, 5000]\n"
     ]
    },
    {
     "name": "stderr",
     "output_type": "stream",
     "text": [
      "100%|██████████| 3/3 [00:01<00:00,  2.36ba/s]\n"
     ]
    },
    {
     "name": "stdout",
     "output_type": "stream",
     "text": [
      "elapsed 1.2741964000015287\n",
      "(5000, 128, <class 'tokenizers.implementations.sentencepiece_bpe.SentencePieceBPETokenizer'>, [5000, 10000])\n",
      "training tokenizer: number 5000, batch 128, token <class 'tokenizers.implementations.sentencepiece_bpe.SentencePieceBPETokenizer'>, lengths [5000, 10000]\n"
     ]
    },
    {
     "name": "stderr",
     "output_type": "stream",
     "text": [
      "100%|██████████| 3/3 [00:01<00:00,  2.35ba/s]\n"
     ]
    },
    {
     "name": "stdout",
     "output_type": "stream",
     "text": [
      "elapsed 1.326464500001748\n",
      "(5000, 128, <class 'tokenizers.implementations.sentencepiece_bpe.SentencePieceBPETokenizer'>, [10000, 15000])\n",
      "training tokenizer: number 5000, batch 128, token <class 'tokenizers.implementations.sentencepiece_bpe.SentencePieceBPETokenizer'>, lengths [10000, 15000]\n"
     ]
    },
    {
     "name": "stderr",
     "output_type": "stream",
     "text": [
      "100%|██████████| 3/3 [00:01<00:00,  2.39ba/s]\n"
     ]
    },
    {
     "name": "stdout",
     "output_type": "stream",
     "text": [
      "elapsed 1.350051599998551\n",
      "(5000, 128, <class 'tokenizers.implementations.char_level_bpe.CharBPETokenizer'>, [0, 5000])\n",
      "training tokenizer: number 5000, batch 128, token <class 'tokenizers.implementations.char_level_bpe.CharBPETokenizer'>, lengths [0, 5000]\n"
     ]
    },
    {
     "name": "stderr",
     "output_type": "stream",
     "text": [
      "100%|██████████| 3/3 [00:01<00:00,  2.14ba/s]\n"
     ]
    },
    {
     "name": "stdout",
     "output_type": "stream",
     "text": [
      "elapsed 1.4118308999968576\n",
      "(5000, 128, <class 'tokenizers.implementations.char_level_bpe.CharBPETokenizer'>, [5000, 10000])\n",
      "training tokenizer: number 5000, batch 128, token <class 'tokenizers.implementations.char_level_bpe.CharBPETokenizer'>, lengths [5000, 10000]\n"
     ]
    },
    {
     "name": "stderr",
     "output_type": "stream",
     "text": [
      "100%|██████████| 3/3 [00:01<00:00,  2.27ba/s]\n"
     ]
    },
    {
     "name": "stdout",
     "output_type": "stream",
     "text": [
      "elapsed 1.3671210000029532\n",
      "(5000, 128, <class 'tokenizers.implementations.char_level_bpe.CharBPETokenizer'>, [10000, 15000])\n",
      "training tokenizer: number 5000, batch 128, token <class 'tokenizers.implementations.char_level_bpe.CharBPETokenizer'>, lengths [10000, 15000]\n"
     ]
    },
    {
     "name": "stderr",
     "output_type": "stream",
     "text": [
      "100%|██████████| 3/3 [00:01<00:00,  2.27ba/s]\n"
     ]
    },
    {
     "name": "stdout",
     "output_type": "stream",
     "text": [
      "elapsed 1.3934253999977955\n",
      "(5000, 128, <class 'tokenizers.implementations.sentencepiece_unigram.SentencePieceUnigramTokenizer'>, [0, 5000])\n",
      "training tokenizer: number 5000, batch 128, token <class 'tokenizers.implementations.sentencepiece_unigram.SentencePieceUnigramTokenizer'>, lengths [0, 5000]\n"
     ]
    },
    {
     "name": "stderr",
     "output_type": "stream",
     "text": [
      "100%|██████████| 3/3 [00:01<00:00,  2.16ba/s]\n"
     ]
    },
    {
     "name": "stdout",
     "output_type": "stream",
     "text": [
      "elapsed 1.4142405999955372\n",
      "(5000, 128, <class 'tokenizers.implementations.sentencepiece_unigram.SentencePieceUnigramTokenizer'>, [5000, 10000])\n",
      "training tokenizer: number 5000, batch 128, token <class 'tokenizers.implementations.sentencepiece_unigram.SentencePieceUnigramTokenizer'>, lengths [5000, 10000]\n"
     ]
    },
    {
     "name": "stderr",
     "output_type": "stream",
     "text": [
      "100%|██████████| 3/3 [00:01<00:00,  2.16ba/s]\n"
     ]
    },
    {
     "name": "stdout",
     "output_type": "stream",
     "text": [
      "elapsed 1.4364686999979313\n",
      "(5000, 128, <class 'tokenizers.implementations.sentencepiece_unigram.SentencePieceUnigramTokenizer'>, [10000, 15000])\n",
      "training tokenizer: number 5000, batch 128, token <class 'tokenizers.implementations.sentencepiece_unigram.SentencePieceUnigramTokenizer'>, lengths [10000, 15000]\n"
     ]
    },
    {
     "name": "stderr",
     "output_type": "stream",
     "text": [
      "100%|██████████| 3/3 [00:01<00:00,  2.31ba/s]\n"
     ]
    },
    {
     "name": "stdout",
     "output_type": "stream",
     "text": [
      "elapsed 1.3890929999979562\n",
      "(5000, 128, <class 'tokenizers.implementations.byte_level_bpe.ByteLevelBPETokenizer'>, [0, 5000])\n",
      "training tokenizer: number 5000, batch 128, token <class 'tokenizers.implementations.byte_level_bpe.ByteLevelBPETokenizer'>, lengths [0, 5000]\n"
     ]
    },
    {
     "name": "stderr",
     "output_type": "stream",
     "text": [
      "100%|██████████| 3/3 [00:01<00:00,  2.22ba/s]\n"
     ]
    },
    {
     "name": "stdout",
     "output_type": "stream",
     "text": [
      "elapsed 1.3699290000004112\n",
      "(5000, 128, <class 'tokenizers.implementations.byte_level_bpe.ByteLevelBPETokenizer'>, [5000, 10000])\n",
      "training tokenizer: number 5000, batch 128, token <class 'tokenizers.implementations.byte_level_bpe.ByteLevelBPETokenizer'>, lengths [5000, 10000]\n"
     ]
    },
    {
     "name": "stderr",
     "output_type": "stream",
     "text": [
      "100%|██████████| 3/3 [00:01<00:00,  2.28ba/s]\n"
     ]
    },
    {
     "name": "stdout",
     "output_type": "stream",
     "text": [
      "elapsed 1.3705952999953297\n",
      "(5000, 128, <class 'tokenizers.implementations.byte_level_bpe.ByteLevelBPETokenizer'>, [10000, 15000])\n",
      "training tokenizer: number 5000, batch 128, token <class 'tokenizers.implementations.byte_level_bpe.ByteLevelBPETokenizer'>, lengths [10000, 15000]\n"
     ]
    },
    {
     "name": "stderr",
     "output_type": "stream",
     "text": [
      "100%|██████████| 3/3 [00:01<00:00,  2.14ba/s]\n"
     ]
    },
    {
     "name": "stdout",
     "output_type": "stream",
     "text": [
      "elapsed 1.4874221999998554\n",
      "(5000, 128, <class 'tokenizers.implementations.bert_wordpiece.BertWordPieceTokenizer'>, [0, 5000])\n",
      "training tokenizer: number 5000, batch 128, token <class 'tokenizers.implementations.bert_wordpiece.BertWordPieceTokenizer'>, lengths [0, 5000]\n"
     ]
    },
    {
     "name": "stderr",
     "output_type": "stream",
     "text": [
      "100%|██████████| 3/3 [00:01<00:00,  2.31ba/s]\n"
     ]
    },
    {
     "name": "stdout",
     "output_type": "stream",
     "text": [
      "elapsed 1.3168287000007695\n",
      "(5000, 128, <class 'tokenizers.implementations.bert_wordpiece.BertWordPieceTokenizer'>, [5000, 10000])\n",
      "training tokenizer: number 5000, batch 128, token <class 'tokenizers.implementations.bert_wordpiece.BertWordPieceTokenizer'>, lengths [5000, 10000]\n"
     ]
    },
    {
     "name": "stderr",
     "output_type": "stream",
     "text": [
      "100%|██████████| 3/3 [00:01<00:00,  2.34ba/s]\n"
     ]
    },
    {
     "name": "stdout",
     "output_type": "stream",
     "text": [
      "elapsed 1.3315935999999056\n",
      "(5000, 128, <class 'tokenizers.implementations.bert_wordpiece.BertWordPieceTokenizer'>, [10000, 15000])\n",
      "training tokenizer: number 5000, batch 128, token <class 'tokenizers.implementations.bert_wordpiece.BertWordPieceTokenizer'>, lengths [10000, 15000]\n"
     ]
    },
    {
     "name": "stderr",
     "output_type": "stream",
     "text": [
      "100%|██████████| 3/3 [00:01<00:00,  2.18ba/s]\n"
     ]
    },
    {
     "name": "stdout",
     "output_type": "stream",
     "text": [
      "elapsed 1.4627046000023256\n",
      "(5000, 512, <class 'tokenizers.implementations.sentencepiece_bpe.SentencePieceBPETokenizer'>, [0, 5000])\n",
      "training tokenizer: number 5000, batch 512, token <class 'tokenizers.implementations.sentencepiece_bpe.SentencePieceBPETokenizer'>, lengths [0, 5000]\n"
     ]
    },
    {
     "name": "stderr",
     "output_type": "stream",
     "text": [
      "100%|██████████| 3/3 [00:01<00:00,  2.38ba/s]\n"
     ]
    },
    {
     "name": "stdout",
     "output_type": "stream",
     "text": [
      "elapsed 1.274149299999408\n",
      "(5000, 512, <class 'tokenizers.implementations.sentencepiece_bpe.SentencePieceBPETokenizer'>, [5000, 10000])\n",
      "training tokenizer: number 5000, batch 512, token <class 'tokenizers.implementations.sentencepiece_bpe.SentencePieceBPETokenizer'>, lengths [5000, 10000]\n"
     ]
    },
    {
     "name": "stderr",
     "output_type": "stream",
     "text": [
      "100%|██████████| 3/3 [00:01<00:00,  2.24ba/s]\n"
     ]
    },
    {
     "name": "stdout",
     "output_type": "stream",
     "text": [
      "elapsed 1.3845269000012195\n",
      "(5000, 512, <class 'tokenizers.implementations.sentencepiece_bpe.SentencePieceBPETokenizer'>, [10000, 15000])\n",
      "training tokenizer: number 5000, batch 512, token <class 'tokenizers.implementations.sentencepiece_bpe.SentencePieceBPETokenizer'>, lengths [10000, 15000]\n"
     ]
    },
    {
     "name": "stderr",
     "output_type": "stream",
     "text": [
      "100%|██████████| 3/3 [00:01<00:00,  2.31ba/s]\n"
     ]
    },
    {
     "name": "stdout",
     "output_type": "stream",
     "text": [
      "elapsed 1.3872714999961318\n",
      "(5000, 512, <class 'tokenizers.implementations.char_level_bpe.CharBPETokenizer'>, [0, 5000])\n",
      "training tokenizer: number 5000, batch 512, token <class 'tokenizers.implementations.char_level_bpe.CharBPETokenizer'>, lengths [0, 5000]\n"
     ]
    },
    {
     "name": "stderr",
     "output_type": "stream",
     "text": [
      "100%|██████████| 3/3 [00:01<00:00,  2.13ba/s]\n"
     ]
    },
    {
     "name": "stdout",
     "output_type": "stream",
     "text": [
      "elapsed 1.422992499996326\n",
      "(5000, 512, <class 'tokenizers.implementations.char_level_bpe.CharBPETokenizer'>, [5000, 10000])\n",
      "training tokenizer: number 5000, batch 512, token <class 'tokenizers.implementations.char_level_bpe.CharBPETokenizer'>, lengths [5000, 10000]\n"
     ]
    },
    {
     "name": "stderr",
     "output_type": "stream",
     "text": [
      "100%|██████████| 3/3 [00:01<00:00,  1.88ba/s]\n"
     ]
    },
    {
     "name": "stdout",
     "output_type": "stream",
     "text": [
      "elapsed 1.6405472999977064\n",
      "(5000, 512, <class 'tokenizers.implementations.char_level_bpe.CharBPETokenizer'>, [10000, 15000])\n",
      "training tokenizer: number 5000, batch 512, token <class 'tokenizers.implementations.char_level_bpe.CharBPETokenizer'>, lengths [10000, 15000]\n"
     ]
    },
    {
     "name": "stderr",
     "output_type": "stream",
     "text": [
      "100%|██████████| 3/3 [00:01<00:00,  2.22ba/s]\n"
     ]
    },
    {
     "name": "stdout",
     "output_type": "stream",
     "text": [
      "elapsed 1.4402187000014237\n",
      "(5000, 512, <class 'tokenizers.implementations.sentencepiece_unigram.SentencePieceUnigramTokenizer'>, [0, 5000])\n",
      "training tokenizer: number 5000, batch 512, token <class 'tokenizers.implementations.sentencepiece_unigram.SentencePieceUnigramTokenizer'>, lengths [0, 5000]\n"
     ]
    },
    {
     "name": "stderr",
     "output_type": "stream",
     "text": [
      "100%|██████████| 3/3 [00:01<00:00,  2.03ba/s]\n"
     ]
    },
    {
     "name": "stdout",
     "output_type": "stream",
     "text": [
      "elapsed 1.4975778999942122\n",
      "(5000, 512, <class 'tokenizers.implementations.sentencepiece_unigram.SentencePieceUnigramTokenizer'>, [5000, 10000])\n",
      "training tokenizer: number 5000, batch 512, token <class 'tokenizers.implementations.sentencepiece_unigram.SentencePieceUnigramTokenizer'>, lengths [5000, 10000]\n"
     ]
    },
    {
     "name": "stderr",
     "output_type": "stream",
     "text": [
      "100%|██████████| 3/3 [00:01<00:00,  2.04ba/s]\n"
     ]
    },
    {
     "name": "stdout",
     "output_type": "stream",
     "text": [
      "elapsed 1.5234302000026219\n",
      "(5000, 512, <class 'tokenizers.implementations.sentencepiece_unigram.SentencePieceUnigramTokenizer'>, [10000, 15000])\n",
      "training tokenizer: number 5000, batch 512, token <class 'tokenizers.implementations.sentencepiece_unigram.SentencePieceUnigramTokenizer'>, lengths [10000, 15000]\n"
     ]
    },
    {
     "name": "stderr",
     "output_type": "stream",
     "text": [
      "100%|██████████| 3/3 [00:01<00:00,  2.19ba/s]\n"
     ]
    },
    {
     "name": "stdout",
     "output_type": "stream",
     "text": [
      "elapsed 1.463088600001356\n",
      "(5000, 512, <class 'tokenizers.implementations.byte_level_bpe.ByteLevelBPETokenizer'>, [0, 5000])\n",
      "training tokenizer: number 5000, batch 512, token <class 'tokenizers.implementations.byte_level_bpe.ByteLevelBPETokenizer'>, lengths [0, 5000]\n"
     ]
    },
    {
     "name": "stderr",
     "output_type": "stream",
     "text": [
      "100%|██████████| 3/3 [00:01<00:00,  2.24ba/s]\n"
     ]
    },
    {
     "name": "stdout",
     "output_type": "stream",
     "text": [
      "elapsed 1.4097698999976274\n",
      "(5000, 512, <class 'tokenizers.implementations.byte_level_bpe.ByteLevelBPETokenizer'>, [5000, 10000])\n",
      "training tokenizer: number 5000, batch 512, token <class 'tokenizers.implementations.byte_level_bpe.ByteLevelBPETokenizer'>, lengths [5000, 10000]\n"
     ]
    },
    {
     "name": "stderr",
     "output_type": "stream",
     "text": [
      "100%|██████████| 3/3 [00:01<00:00,  2.33ba/s]\n"
     ]
    },
    {
     "name": "stdout",
     "output_type": "stream",
     "text": [
      "elapsed 1.3427956000014092\n",
      "(5000, 512, <class 'tokenizers.implementations.byte_level_bpe.ByteLevelBPETokenizer'>, [10000, 15000])\n",
      "training tokenizer: number 5000, batch 512, token <class 'tokenizers.implementations.byte_level_bpe.ByteLevelBPETokenizer'>, lengths [10000, 15000]\n"
     ]
    },
    {
     "name": "stderr",
     "output_type": "stream",
     "text": [
      "100%|██████████| 3/3 [00:01<00:00,  2.22ba/s]\n"
     ]
    },
    {
     "name": "stdout",
     "output_type": "stream",
     "text": [
      "elapsed 1.4377601000014693\n",
      "(5000, 512, <class 'tokenizers.implementations.bert_wordpiece.BertWordPieceTokenizer'>, [0, 5000])\n",
      "training tokenizer: number 5000, batch 512, token <class 'tokenizers.implementations.bert_wordpiece.BertWordPieceTokenizer'>, lengths [0, 5000]\n"
     ]
    },
    {
     "name": "stderr",
     "output_type": "stream",
     "text": [
      "100%|██████████| 3/3 [00:01<00:00,  2.26ba/s]\n"
     ]
    },
    {
     "name": "stdout",
     "output_type": "stream",
     "text": [
      "elapsed 1.3401593000016874\n",
      "(5000, 512, <class 'tokenizers.implementations.bert_wordpiece.BertWordPieceTokenizer'>, [5000, 10000])\n",
      "training tokenizer: number 5000, batch 512, token <class 'tokenizers.implementations.bert_wordpiece.BertWordPieceTokenizer'>, lengths [5000, 10000]\n"
     ]
    },
    {
     "name": "stderr",
     "output_type": "stream",
     "text": [
      "100%|██████████| 3/3 [00:01<00:00,  2.11ba/s]\n"
     ]
    },
    {
     "name": "stdout",
     "output_type": "stream",
     "text": [
      "elapsed 1.4971432000020286\n",
      "(5000, 512, <class 'tokenizers.implementations.bert_wordpiece.BertWordPieceTokenizer'>, [10000, 15000])\n",
      "training tokenizer: number 5000, batch 512, token <class 'tokenizers.implementations.bert_wordpiece.BertWordPieceTokenizer'>, lengths [10000, 15000]\n"
     ]
    },
    {
     "name": "stderr",
     "output_type": "stream",
     "text": [
      "100%|██████████| 3/3 [00:01<00:00,  2.16ba/s]\n"
     ]
    },
    {
     "name": "stdout",
     "output_type": "stream",
     "text": [
      "elapsed 1.484722100001818\n",
      "(10000, 2, <class 'tokenizers.implementations.sentencepiece_bpe.SentencePieceBPETokenizer'>, [0, 5000])\n",
      "training tokenizer: number 10000, batch 2, token <class 'tokenizers.implementations.sentencepiece_bpe.SentencePieceBPETokenizer'>, lengths [0, 5000]\n"
     ]
    },
    {
     "name": "stderr",
     "output_type": "stream",
     "text": [
      "100%|██████████| 3/3 [00:01<00:00,  2.31ba/s]\n"
     ]
    },
    {
     "name": "stdout",
     "output_type": "stream",
     "text": [
      "batch 0 of 10000\n",
      "elapsed 1.3219893999994383\n",
      "(10000, 2, <class 'tokenizers.implementations.sentencepiece_bpe.SentencePieceBPETokenizer'>, [5000, 10000])\n",
      "training tokenizer: number 10000, batch 2, token <class 'tokenizers.implementations.sentencepiece_bpe.SentencePieceBPETokenizer'>, lengths [5000, 10000]\n"
     ]
    },
    {
     "name": "stderr",
     "output_type": "stream",
     "text": [
      "100%|██████████| 3/3 [00:01<00:00,  2.26ba/s]\n"
     ]
    },
    {
     "name": "stdout",
     "output_type": "stream",
     "text": [
      "elapsed 1.3788956999997026\n",
      "(10000, 2, <class 'tokenizers.implementations.sentencepiece_bpe.SentencePieceBPETokenizer'>, [10000, 15000])\n",
      "training tokenizer: number 10000, batch 2, token <class 'tokenizers.implementations.sentencepiece_bpe.SentencePieceBPETokenizer'>, lengths [10000, 15000]\n"
     ]
    },
    {
     "name": "stderr",
     "output_type": "stream",
     "text": [
      "100%|██████████| 3/3 [00:01<00:00,  2.20ba/s]\n"
     ]
    },
    {
     "name": "stdout",
     "output_type": "stream",
     "text": [
      "batch 0 of 10000\n",
      "elapsed 1.4433292000030633\n",
      "(10000, 2, <class 'tokenizers.implementations.char_level_bpe.CharBPETokenizer'>, [0, 5000])\n",
      "training tokenizer: number 10000, batch 2, token <class 'tokenizers.implementations.char_level_bpe.CharBPETokenizer'>, lengths [0, 5000]\n"
     ]
    },
    {
     "name": "stderr",
     "output_type": "stream",
     "text": [
      "100%|██████████| 3/3 [00:01<00:00,  2.13ba/s]\n"
     ]
    },
    {
     "name": "stdout",
     "output_type": "stream",
     "text": [
      "batch 0 of 10000\n",
      "elapsed 1.4466494000007515\n",
      "(10000, 2, <class 'tokenizers.implementations.char_level_bpe.CharBPETokenizer'>, [5000, 10000])\n",
      "training tokenizer: number 10000, batch 2, token <class 'tokenizers.implementations.char_level_bpe.CharBPETokenizer'>, lengths [5000, 10000]\n"
     ]
    },
    {
     "name": "stderr",
     "output_type": "stream",
     "text": [
      "100%|██████████| 3/3 [00:01<00:00,  2.34ba/s]\n"
     ]
    },
    {
     "name": "stdout",
     "output_type": "stream",
     "text": [
      "elapsed 1.3253198000020348\n",
      "(10000, 2, <class 'tokenizers.implementations.char_level_bpe.CharBPETokenizer'>, [10000, 15000])\n",
      "training tokenizer: number 10000, batch 2, token <class 'tokenizers.implementations.char_level_bpe.CharBPETokenizer'>, lengths [10000, 15000]\n"
     ]
    },
    {
     "name": "stderr",
     "output_type": "stream",
     "text": [
      "100%|██████████| 3/3 [00:01<00:00,  2.01ba/s]\n"
     ]
    },
    {
     "name": "stdout",
     "output_type": "stream",
     "text": [
      "batch 0 of 10000\n",
      "elapsed 1.6113498999984586\n",
      "(10000, 2, <class 'tokenizers.implementations.sentencepiece_unigram.SentencePieceUnigramTokenizer'>, [0, 5000])\n",
      "training tokenizer: number 10000, batch 2, token <class 'tokenizers.implementations.sentencepiece_unigram.SentencePieceUnigramTokenizer'>, lengths [0, 5000]\n"
     ]
    },
    {
     "name": "stderr",
     "output_type": "stream",
     "text": [
      "100%|██████████| 3/3 [00:01<00:00,  2.38ba/s]\n"
     ]
    },
    {
     "name": "stdout",
     "output_type": "stream",
     "text": [
      "batch 0 of 10000\n",
      "elapsed 1.291017000003194\n",
      "(10000, 2, <class 'tokenizers.implementations.sentencepiece_unigram.SentencePieceUnigramTokenizer'>, [5000, 10000])\n",
      "training tokenizer: number 10000, batch 2, token <class 'tokenizers.implementations.sentencepiece_unigram.SentencePieceUnigramTokenizer'>, lengths [5000, 10000]\n"
     ]
    },
    {
     "name": "stderr",
     "output_type": "stream",
     "text": [
      "100%|██████████| 3/3 [00:01<00:00,  2.19ba/s]\n"
     ]
    },
    {
     "name": "stdout",
     "output_type": "stream",
     "text": [
      "elapsed 1.4138271999981953\n",
      "(10000, 2, <class 'tokenizers.implementations.sentencepiece_unigram.SentencePieceUnigramTokenizer'>, [10000, 15000])\n",
      "training tokenizer: number 10000, batch 2, token <class 'tokenizers.implementations.sentencepiece_unigram.SentencePieceUnigramTokenizer'>, lengths [10000, 15000]\n"
     ]
    },
    {
     "name": "stderr",
     "output_type": "stream",
     "text": [
      "100%|██████████| 3/3 [00:01<00:00,  2.26ba/s]\n"
     ]
    },
    {
     "name": "stdout",
     "output_type": "stream",
     "text": [
      "batch 0 of 10000\n",
      "elapsed 1.4124547000028542\n",
      "(10000, 2, <class 'tokenizers.implementations.byte_level_bpe.ByteLevelBPETokenizer'>, [0, 5000])\n",
      "training tokenizer: number 10000, batch 2, token <class 'tokenizers.implementations.byte_level_bpe.ByteLevelBPETokenizer'>, lengths [0, 5000]\n"
     ]
    },
    {
     "name": "stderr",
     "output_type": "stream",
     "text": [
      "100%|██████████| 3/3 [00:01<00:00,  2.31ba/s]\n"
     ]
    },
    {
     "name": "stdout",
     "output_type": "stream",
     "text": [
      "batch 0 of 10000\n",
      "elapsed 1.3237083999993047\n",
      "(10000, 2, <class 'tokenizers.implementations.byte_level_bpe.ByteLevelBPETokenizer'>, [5000, 10000])\n",
      "training tokenizer: number 10000, batch 2, token <class 'tokenizers.implementations.byte_level_bpe.ByteLevelBPETokenizer'>, lengths [5000, 10000]\n"
     ]
    },
    {
     "name": "stderr",
     "output_type": "stream",
     "text": [
      "100%|██████████| 3/3 [00:01<00:00,  2.31ba/s]\n"
     ]
    },
    {
     "name": "stdout",
     "output_type": "stream",
     "text": [
      "elapsed 1.3568699000024935\n",
      "(10000, 2, <class 'tokenizers.implementations.byte_level_bpe.ByteLevelBPETokenizer'>, [10000, 15000])\n",
      "training tokenizer: number 10000, batch 2, token <class 'tokenizers.implementations.byte_level_bpe.ByteLevelBPETokenizer'>, lengths [10000, 15000]\n"
     ]
    },
    {
     "name": "stderr",
     "output_type": "stream",
     "text": [
      "100%|██████████| 3/3 [00:01<00:00,  2.27ba/s]\n"
     ]
    },
    {
     "name": "stdout",
     "output_type": "stream",
     "text": [
      "batch 0 of 10000\n",
      "elapsed 1.4118359000058263\n",
      "(10000, 2, <class 'tokenizers.implementations.bert_wordpiece.BertWordPieceTokenizer'>, [0, 5000])\n",
      "training tokenizer: number 10000, batch 2, token <class 'tokenizers.implementations.bert_wordpiece.BertWordPieceTokenizer'>, lengths [0, 5000]\n"
     ]
    },
    {
     "name": "stderr",
     "output_type": "stream",
     "text": [
      "100%|██████████| 3/3 [00:01<00:00,  2.41ba/s]\n"
     ]
    },
    {
     "name": "stdout",
     "output_type": "stream",
     "text": [
      "batch 0 of 10000\n",
      "elapsed 1.2675487000014982\n",
      "(10000, 2, <class 'tokenizers.implementations.bert_wordpiece.BertWordPieceTokenizer'>, [5000, 10000])\n",
      "training tokenizer: number 10000, batch 2, token <class 'tokenizers.implementations.bert_wordpiece.BertWordPieceTokenizer'>, lengths [5000, 10000]\n"
     ]
    },
    {
     "name": "stderr",
     "output_type": "stream",
     "text": [
      "100%|██████████| 3/3 [00:01<00:00,  2.24ba/s]\n"
     ]
    },
    {
     "name": "stdout",
     "output_type": "stream",
     "text": [
      "elapsed 1.3787685999996029\n",
      "(10000, 2, <class 'tokenizers.implementations.bert_wordpiece.BertWordPieceTokenizer'>, [10000, 15000])\n",
      "training tokenizer: number 10000, batch 2, token <class 'tokenizers.implementations.bert_wordpiece.BertWordPieceTokenizer'>, lengths [10000, 15000]\n"
     ]
    },
    {
     "name": "stderr",
     "output_type": "stream",
     "text": [
      "100%|██████████| 3/3 [00:01<00:00,  2.31ba/s]\n"
     ]
    },
    {
     "name": "stdout",
     "output_type": "stream",
     "text": [
      "batch 0 of 10000\n",
      "elapsed 1.3859240999954636\n",
      "(10000, 4, <class 'tokenizers.implementations.sentencepiece_bpe.SentencePieceBPETokenizer'>, [0, 5000])\n",
      "training tokenizer: number 10000, batch 4, token <class 'tokenizers.implementations.sentencepiece_bpe.SentencePieceBPETokenizer'>, lengths [0, 5000]\n"
     ]
    },
    {
     "name": "stderr",
     "output_type": "stream",
     "text": [
      "100%|██████████| 3/3 [00:01<00:00,  2.44ba/s]\n"
     ]
    },
    {
     "name": "stdout",
     "output_type": "stream",
     "text": [
      "elapsed 1.2502753000007942\n",
      "(10000, 4, <class 'tokenizers.implementations.sentencepiece_bpe.SentencePieceBPETokenizer'>, [5000, 10000])\n",
      "training tokenizer: number 10000, batch 4, token <class 'tokenizers.implementations.sentencepiece_bpe.SentencePieceBPETokenizer'>, lengths [5000, 10000]\n"
     ]
    },
    {
     "name": "stderr",
     "output_type": "stream",
     "text": [
      "100%|██████████| 3/3 [00:01<00:00,  2.17ba/s]\n"
     ]
    },
    {
     "name": "stdout",
     "output_type": "stream",
     "text": [
      "elapsed 1.4356311000010464\n",
      "(10000, 4, <class 'tokenizers.implementations.sentencepiece_bpe.SentencePieceBPETokenizer'>, [10000, 15000])\n",
      "training tokenizer: number 10000, batch 4, token <class 'tokenizers.implementations.sentencepiece_bpe.SentencePieceBPETokenizer'>, lengths [10000, 15000]\n"
     ]
    },
    {
     "name": "stderr",
     "output_type": "stream",
     "text": [
      "100%|██████████| 3/3 [00:01<00:00,  2.16ba/s]\n"
     ]
    },
    {
     "name": "stdout",
     "output_type": "stream",
     "text": [
      "elapsed 1.4718590999982553\n",
      "(10000, 4, <class 'tokenizers.implementations.char_level_bpe.CharBPETokenizer'>, [0, 5000])\n",
      "training tokenizer: number 10000, batch 4, token <class 'tokenizers.implementations.char_level_bpe.CharBPETokenizer'>, lengths [0, 5000]\n"
     ]
    },
    {
     "name": "stderr",
     "output_type": "stream",
     "text": [
      "100%|██████████| 3/3 [00:01<00:00,  2.19ba/s]\n"
     ]
    },
    {
     "name": "stdout",
     "output_type": "stream",
     "text": [
      "elapsed 1.3753908999933628\n",
      "(10000, 4, <class 'tokenizers.implementations.char_level_bpe.CharBPETokenizer'>, [5000, 10000])\n",
      "training tokenizer: number 10000, batch 4, token <class 'tokenizers.implementations.char_level_bpe.CharBPETokenizer'>, lengths [5000, 10000]\n"
     ]
    },
    {
     "name": "stderr",
     "output_type": "stream",
     "text": [
      "100%|██████████| 3/3 [00:01<00:00,  2.21ba/s]\n"
     ]
    },
    {
     "name": "stdout",
     "output_type": "stream",
     "text": [
      "elapsed 1.410282400000142\n",
      "(10000, 4, <class 'tokenizers.implementations.char_level_bpe.CharBPETokenizer'>, [10000, 15000])\n",
      "training tokenizer: number 10000, batch 4, token <class 'tokenizers.implementations.char_level_bpe.CharBPETokenizer'>, lengths [10000, 15000]\n"
     ]
    },
    {
     "name": "stderr",
     "output_type": "stream",
     "text": [
      "100%|██████████| 3/3 [00:01<00:00,  2.31ba/s]\n"
     ]
    },
    {
     "name": "stdout",
     "output_type": "stream",
     "text": [
      "elapsed 1.3640213999970001\n",
      "(10000, 4, <class 'tokenizers.implementations.sentencepiece_unigram.SentencePieceUnigramTokenizer'>, [0, 5000])\n",
      "training tokenizer: number 10000, batch 4, token <class 'tokenizers.implementations.sentencepiece_unigram.SentencePieceUnigramTokenizer'>, lengths [0, 5000]\n"
     ]
    },
    {
     "name": "stderr",
     "output_type": "stream",
     "text": [
      "100%|██████████| 3/3 [00:01<00:00,  2.19ba/s]\n"
     ]
    },
    {
     "name": "stdout",
     "output_type": "stream",
     "text": [
      "elapsed 1.3930880000043544\n",
      "(10000, 4, <class 'tokenizers.implementations.sentencepiece_unigram.SentencePieceUnigramTokenizer'>, [5000, 10000])\n",
      "training tokenizer: number 10000, batch 4, token <class 'tokenizers.implementations.sentencepiece_unigram.SentencePieceUnigramTokenizer'>, lengths [5000, 10000]\n"
     ]
    },
    {
     "name": "stderr",
     "output_type": "stream",
     "text": [
      "100%|██████████| 3/3 [00:01<00:00,  2.27ba/s]\n"
     ]
    },
    {
     "name": "stdout",
     "output_type": "stream",
     "text": [
      "elapsed 1.3697268999967491\n",
      "(10000, 4, <class 'tokenizers.implementations.sentencepiece_unigram.SentencePieceUnigramTokenizer'>, [10000, 15000])\n",
      "training tokenizer: number 10000, batch 4, token <class 'tokenizers.implementations.sentencepiece_unigram.SentencePieceUnigramTokenizer'>, lengths [10000, 15000]\n"
     ]
    },
    {
     "name": "stderr",
     "output_type": "stream",
     "text": [
      "100%|██████████| 3/3 [00:01<00:00,  2.34ba/s]\n"
     ]
    },
    {
     "name": "stdout",
     "output_type": "stream",
     "text": [
      "elapsed 1.3639172999974107\n",
      "(10000, 4, <class 'tokenizers.implementations.byte_level_bpe.ByteLevelBPETokenizer'>, [0, 5000])\n",
      "training tokenizer: number 10000, batch 4, token <class 'tokenizers.implementations.byte_level_bpe.ByteLevelBPETokenizer'>, lengths [0, 5000]\n"
     ]
    },
    {
     "name": "stderr",
     "output_type": "stream",
     "text": [
      "100%|██████████| 3/3 [00:01<00:00,  2.24ba/s]\n"
     ]
    },
    {
     "name": "stdout",
     "output_type": "stream",
     "text": [
      "elapsed 1.3585166999982903\n",
      "(10000, 4, <class 'tokenizers.implementations.byte_level_bpe.ByteLevelBPETokenizer'>, [5000, 10000])\n",
      "training tokenizer: number 10000, batch 4, token <class 'tokenizers.implementations.byte_level_bpe.ByteLevelBPETokenizer'>, lengths [5000, 10000]\n"
     ]
    },
    {
     "name": "stderr",
     "output_type": "stream",
     "text": [
      "100%|██████████| 3/3 [00:01<00:00,  2.12ba/s]\n"
     ]
    },
    {
     "name": "stdout",
     "output_type": "stream",
     "text": [
      "elapsed 1.4721379999973578\n",
      "(10000, 4, <class 'tokenizers.implementations.byte_level_bpe.ByteLevelBPETokenizer'>, [10000, 15000])\n",
      "training tokenizer: number 10000, batch 4, token <class 'tokenizers.implementations.byte_level_bpe.ByteLevelBPETokenizer'>, lengths [10000, 15000]\n"
     ]
    },
    {
     "name": "stderr",
     "output_type": "stream",
     "text": [
      "100%|██████████| 3/3 [00:01<00:00,  2.25ba/s]\n"
     ]
    },
    {
     "name": "stdout",
     "output_type": "stream",
     "text": [
      "elapsed 1.4303647999986424\n",
      "(10000, 4, <class 'tokenizers.implementations.bert_wordpiece.BertWordPieceTokenizer'>, [0, 5000])\n",
      "training tokenizer: number 10000, batch 4, token <class 'tokenizers.implementations.bert_wordpiece.BertWordPieceTokenizer'>, lengths [0, 5000]\n"
     ]
    },
    {
     "name": "stderr",
     "output_type": "stream",
     "text": [
      "100%|██████████| 3/3 [00:01<00:00,  2.45ba/s]\n"
     ]
    },
    {
     "name": "stdout",
     "output_type": "stream",
     "text": [
      "elapsed 1.2446373000057065\n",
      "(10000, 4, <class 'tokenizers.implementations.bert_wordpiece.BertWordPieceTokenizer'>, [5000, 10000])\n",
      "training tokenizer: number 10000, batch 4, token <class 'tokenizers.implementations.bert_wordpiece.BertWordPieceTokenizer'>, lengths [5000, 10000]\n"
     ]
    },
    {
     "name": "stderr",
     "output_type": "stream",
     "text": [
      "100%|██████████| 3/3 [00:01<00:00,  2.29ba/s]\n"
     ]
    },
    {
     "name": "stdout",
     "output_type": "stream",
     "text": [
      "elapsed 1.3619959999996354\n",
      "(10000, 4, <class 'tokenizers.implementations.bert_wordpiece.BertWordPieceTokenizer'>, [10000, 15000])\n",
      "training tokenizer: number 10000, batch 4, token <class 'tokenizers.implementations.bert_wordpiece.BertWordPieceTokenizer'>, lengths [10000, 15000]\n"
     ]
    },
    {
     "name": "stderr",
     "output_type": "stream",
     "text": [
      "100%|██████████| 3/3 [00:01<00:00,  2.26ba/s]\n"
     ]
    },
    {
     "name": "stdout",
     "output_type": "stream",
     "text": [
      "elapsed 1.4091268999982276\n",
      "(10000, 8, <class 'tokenizers.implementations.sentencepiece_bpe.SentencePieceBPETokenizer'>, [0, 5000])\n",
      "training tokenizer: number 10000, batch 8, token <class 'tokenizers.implementations.sentencepiece_bpe.SentencePieceBPETokenizer'>, lengths [0, 5000]\n"
     ]
    },
    {
     "name": "stderr",
     "output_type": "stream",
     "text": [
      "100%|██████████| 3/3 [00:01<00:00,  2.33ba/s]\n"
     ]
    },
    {
     "name": "stdout",
     "output_type": "stream",
     "text": [
      "elapsed 1.3080265000025975\n",
      "(10000, 8, <class 'tokenizers.implementations.sentencepiece_bpe.SentencePieceBPETokenizer'>, [5000, 10000])\n",
      "training tokenizer: number 10000, batch 8, token <class 'tokenizers.implementations.sentencepiece_bpe.SentencePieceBPETokenizer'>, lengths [5000, 10000]\n"
     ]
    },
    {
     "name": "stderr",
     "output_type": "stream",
     "text": [
      "100%|██████████| 3/3 [00:01<00:00,  2.25ba/s]\n"
     ]
    },
    {
     "name": "stdout",
     "output_type": "stream",
     "text": [
      "elapsed 1.3783019999973476\n",
      "(10000, 8, <class 'tokenizers.implementations.sentencepiece_bpe.SentencePieceBPETokenizer'>, [10000, 15000])\n",
      "training tokenizer: number 10000, batch 8, token <class 'tokenizers.implementations.sentencepiece_bpe.SentencePieceBPETokenizer'>, lengths [10000, 15000]\n"
     ]
    },
    {
     "name": "stderr",
     "output_type": "stream",
     "text": [
      "100%|██████████| 3/3 [00:01<00:00,  2.28ba/s]\n"
     ]
    },
    {
     "name": "stdout",
     "output_type": "stream",
     "text": [
      "elapsed 1.4023556000029203\n",
      "(10000, 8, <class 'tokenizers.implementations.char_level_bpe.CharBPETokenizer'>, [0, 5000])\n",
      "training tokenizer: number 10000, batch 8, token <class 'tokenizers.implementations.char_level_bpe.CharBPETokenizer'>, lengths [0, 5000]\n"
     ]
    },
    {
     "name": "stderr",
     "output_type": "stream",
     "text": [
      "100%|██████████| 3/3 [00:01<00:00,  2.22ba/s]\n"
     ]
    },
    {
     "name": "stdout",
     "output_type": "stream",
     "text": [
      "elapsed 1.3710253000026569\n",
      "(10000, 8, <class 'tokenizers.implementations.char_level_bpe.CharBPETokenizer'>, [5000, 10000])\n",
      "training tokenizer: number 10000, batch 8, token <class 'tokenizers.implementations.char_level_bpe.CharBPETokenizer'>, lengths [5000, 10000]\n"
     ]
    },
    {
     "name": "stderr",
     "output_type": "stream",
     "text": [
      "100%|██████████| 3/3 [00:01<00:00,  2.23ba/s]\n"
     ]
    },
    {
     "name": "stdout",
     "output_type": "stream",
     "text": [
      "elapsed 1.3923064999980852\n",
      "(10000, 8, <class 'tokenizers.implementations.char_level_bpe.CharBPETokenizer'>, [10000, 15000])\n",
      "training tokenizer: number 10000, batch 8, token <class 'tokenizers.implementations.char_level_bpe.CharBPETokenizer'>, lengths [10000, 15000]\n"
     ]
    },
    {
     "name": "stderr",
     "output_type": "stream",
     "text": [
      "100%|██████████| 3/3 [00:01<00:00,  2.39ba/s]\n"
     ]
    },
    {
     "name": "stdout",
     "output_type": "stream",
     "text": [
      "elapsed 1.3350793000063277\n",
      "(10000, 8, <class 'tokenizers.implementations.sentencepiece_unigram.SentencePieceUnigramTokenizer'>, [0, 5000])\n",
      "training tokenizer: number 10000, batch 8, token <class 'tokenizers.implementations.sentencepiece_unigram.SentencePieceUnigramTokenizer'>, lengths [0, 5000]\n"
     ]
    },
    {
     "name": "stderr",
     "output_type": "stream",
     "text": [
      "100%|██████████| 3/3 [00:01<00:00,  2.24ba/s]\n"
     ]
    },
    {
     "name": "stdout",
     "output_type": "stream",
     "text": [
      "elapsed 1.3663742000062484\n",
      "(10000, 8, <class 'tokenizers.implementations.sentencepiece_unigram.SentencePieceUnigramTokenizer'>, [5000, 10000])\n",
      "training tokenizer: number 10000, batch 8, token <class 'tokenizers.implementations.sentencepiece_unigram.SentencePieceUnigramTokenizer'>, lengths [5000, 10000]\n"
     ]
    },
    {
     "name": "stderr",
     "output_type": "stream",
     "text": [
      "100%|██████████| 3/3 [00:01<00:00,  2.18ba/s]\n"
     ]
    },
    {
     "name": "stdout",
     "output_type": "stream",
     "text": [
      "elapsed 1.420347600003879\n",
      "(10000, 8, <class 'tokenizers.implementations.sentencepiece_unigram.SentencePieceUnigramTokenizer'>, [10000, 15000])\n",
      "training tokenizer: number 10000, batch 8, token <class 'tokenizers.implementations.sentencepiece_unigram.SentencePieceUnigramTokenizer'>, lengths [10000, 15000]\n"
     ]
    },
    {
     "name": "stderr",
     "output_type": "stream",
     "text": [
      "100%|██████████| 3/3 [00:01<00:00,  2.30ba/s]\n"
     ]
    },
    {
     "name": "stdout",
     "output_type": "stream",
     "text": [
      "elapsed 1.3816522999986773\n",
      "(10000, 8, <class 'tokenizers.implementations.byte_level_bpe.ByteLevelBPETokenizer'>, [0, 5000])\n",
      "training tokenizer: number 10000, batch 8, token <class 'tokenizers.implementations.byte_level_bpe.ByteLevelBPETokenizer'>, lengths [0, 5000]\n"
     ]
    },
    {
     "name": "stderr",
     "output_type": "stream",
     "text": [
      "100%|██████████| 3/3 [00:01<00:00,  2.19ba/s]\n"
     ]
    },
    {
     "name": "stdout",
     "output_type": "stream",
     "text": [
      "elapsed 1.389831000000413\n",
      "(10000, 8, <class 'tokenizers.implementations.byte_level_bpe.ByteLevelBPETokenizer'>, [5000, 10000])\n",
      "training tokenizer: number 10000, batch 8, token <class 'tokenizers.implementations.byte_level_bpe.ByteLevelBPETokenizer'>, lengths [5000, 10000]\n"
     ]
    },
    {
     "name": "stderr",
     "output_type": "stream",
     "text": [
      "100%|██████████| 3/3 [00:01<00:00,  2.23ba/s]\n"
     ]
    },
    {
     "name": "stdout",
     "output_type": "stream",
     "text": [
      "elapsed 1.3987832999991952\n",
      "(10000, 8, <class 'tokenizers.implementations.byte_level_bpe.ByteLevelBPETokenizer'>, [10000, 15000])\n",
      "training tokenizer: number 10000, batch 8, token <class 'tokenizers.implementations.byte_level_bpe.ByteLevelBPETokenizer'>, lengths [10000, 15000]\n"
     ]
    },
    {
     "name": "stderr",
     "output_type": "stream",
     "text": [
      "100%|██████████| 3/3 [00:01<00:00,  2.31ba/s]\n"
     ]
    },
    {
     "name": "stdout",
     "output_type": "stream",
     "text": [
      "elapsed 1.388585200002126\n",
      "(10000, 8, <class 'tokenizers.implementations.bert_wordpiece.BertWordPieceTokenizer'>, [0, 5000])\n",
      "training tokenizer: number 10000, batch 8, token <class 'tokenizers.implementations.bert_wordpiece.BertWordPieceTokenizer'>, lengths [0, 5000]\n"
     ]
    },
    {
     "name": "stderr",
     "output_type": "stream",
     "text": [
      "100%|██████████| 3/3 [00:01<00:00,  2.26ba/s]\n"
     ]
    },
    {
     "name": "stdout",
     "output_type": "stream",
     "text": [
      "elapsed 1.3477109000014025\n",
      "(10000, 8, <class 'tokenizers.implementations.bert_wordpiece.BertWordPieceTokenizer'>, [5000, 10000])\n",
      "training tokenizer: number 10000, batch 8, token <class 'tokenizers.implementations.bert_wordpiece.BertWordPieceTokenizer'>, lengths [5000, 10000]\n"
     ]
    },
    {
     "name": "stderr",
     "output_type": "stream",
     "text": [
      "100%|██████████| 3/3 [00:01<00:00,  2.32ba/s]\n"
     ]
    },
    {
     "name": "stdout",
     "output_type": "stream",
     "text": [
      "elapsed 1.3414534000039566\n",
      "(10000, 8, <class 'tokenizers.implementations.bert_wordpiece.BertWordPieceTokenizer'>, [10000, 15000])\n",
      "training tokenizer: number 10000, batch 8, token <class 'tokenizers.implementations.bert_wordpiece.BertWordPieceTokenizer'>, lengths [10000, 15000]\n"
     ]
    },
    {
     "name": "stderr",
     "output_type": "stream",
     "text": [
      "100%|██████████| 3/3 [00:01<00:00,  2.25ba/s]\n"
     ]
    },
    {
     "name": "stdout",
     "output_type": "stream",
     "text": [
      "elapsed 1.418507000002137\n",
      "(10000, 16, <class 'tokenizers.implementations.sentencepiece_bpe.SentencePieceBPETokenizer'>, [0, 5000])\n",
      "training tokenizer: number 10000, batch 16, token <class 'tokenizers.implementations.sentencepiece_bpe.SentencePieceBPETokenizer'>, lengths [0, 5000]\n"
     ]
    },
    {
     "name": "stderr",
     "output_type": "stream",
     "text": [
      "100%|██████████| 3/3 [00:01<00:00,  2.11ba/s]\n"
     ]
    },
    {
     "name": "stdout",
     "output_type": "stream",
     "text": [
      "elapsed 1.4577980999965803\n",
      "(10000, 16, <class 'tokenizers.implementations.sentencepiece_bpe.SentencePieceBPETokenizer'>, [5000, 10000])\n",
      "training tokenizer: number 10000, batch 16, token <class 'tokenizers.implementations.sentencepiece_bpe.SentencePieceBPETokenizer'>, lengths [5000, 10000]\n"
     ]
    },
    {
     "name": "stderr",
     "output_type": "stream",
     "text": [
      "100%|██████████| 3/3 [00:01<00:00,  2.13ba/s]\n"
     ]
    },
    {
     "name": "stdout",
     "output_type": "stream",
     "text": [
      "elapsed 1.455736000003526\n",
      "(10000, 16, <class 'tokenizers.implementations.sentencepiece_bpe.SentencePieceBPETokenizer'>, [10000, 15000])\n",
      "training tokenizer: number 10000, batch 16, token <class 'tokenizers.implementations.sentencepiece_bpe.SentencePieceBPETokenizer'>, lengths [10000, 15000]\n"
     ]
    },
    {
     "name": "stderr",
     "output_type": "stream",
     "text": [
      "100%|██████████| 3/3 [00:01<00:00,  2.03ba/s]\n"
     ]
    },
    {
     "name": "stdout",
     "output_type": "stream",
     "text": [
      "elapsed 1.5730136999991373\n",
      "(10000, 16, <class 'tokenizers.implementations.char_level_bpe.CharBPETokenizer'>, [0, 5000])\n",
      "training tokenizer: number 10000, batch 16, token <class 'tokenizers.implementations.char_level_bpe.CharBPETokenizer'>, lengths [0, 5000]\n"
     ]
    },
    {
     "name": "stderr",
     "output_type": "stream",
     "text": [
      "100%|██████████| 3/3 [00:01<00:00,  2.11ba/s]\n"
     ]
    },
    {
     "name": "stdout",
     "output_type": "stream",
     "text": [
      "elapsed 1.438917899999069\n",
      "(10000, 16, <class 'tokenizers.implementations.char_level_bpe.CharBPETokenizer'>, [5000, 10000])\n",
      "training tokenizer: number 10000, batch 16, token <class 'tokenizers.implementations.char_level_bpe.CharBPETokenizer'>, lengths [5000, 10000]\n"
     ]
    },
    {
     "name": "stderr",
     "output_type": "stream",
     "text": [
      "100%|██████████| 3/3 [00:01<00:00,  2.14ba/s]\n"
     ]
    },
    {
     "name": "stdout",
     "output_type": "stream",
     "text": [
      "elapsed 1.4471553999974276\n",
      "(10000, 16, <class 'tokenizers.implementations.char_level_bpe.CharBPETokenizer'>, [10000, 15000])\n",
      "training tokenizer: number 10000, batch 16, token <class 'tokenizers.implementations.char_level_bpe.CharBPETokenizer'>, lengths [10000, 15000]\n"
     ]
    },
    {
     "name": "stderr",
     "output_type": "stream",
     "text": [
      "100%|██████████| 3/3 [00:01<00:00,  2.14ba/s]\n"
     ]
    },
    {
     "name": "stdout",
     "output_type": "stream",
     "text": [
      "elapsed 1.478328600001987\n",
      "(10000, 16, <class 'tokenizers.implementations.sentencepiece_unigram.SentencePieceUnigramTokenizer'>, [0, 5000])\n",
      "training tokenizer: number 10000, batch 16, token <class 'tokenizers.implementations.sentencepiece_unigram.SentencePieceUnigramTokenizer'>, lengths [0, 5000]\n"
     ]
    },
    {
     "name": "stderr",
     "output_type": "stream",
     "text": [
      "100%|██████████| 3/3 [00:01<00:00,  2.20ba/s]\n"
     ]
    },
    {
     "name": "stdout",
     "output_type": "stream",
     "text": [
      "elapsed 1.388844600005541\n",
      "(10000, 16, <class 'tokenizers.implementations.sentencepiece_unigram.SentencePieceUnigramTokenizer'>, [5000, 10000])\n",
      "training tokenizer: number 10000, batch 16, token <class 'tokenizers.implementations.sentencepiece_unigram.SentencePieceUnigramTokenizer'>, lengths [5000, 10000]\n"
     ]
    },
    {
     "name": "stderr",
     "output_type": "stream",
     "text": [
      "100%|██████████| 3/3 [00:01<00:00,  2.30ba/s]\n"
     ]
    },
    {
     "name": "stdout",
     "output_type": "stream",
     "text": [
      "elapsed 1.35809860000154\n",
      "(10000, 16, <class 'tokenizers.implementations.sentencepiece_unigram.SentencePieceUnigramTokenizer'>, [10000, 15000])\n",
      "training tokenizer: number 10000, batch 16, token <class 'tokenizers.implementations.sentencepiece_unigram.SentencePieceUnigramTokenizer'>, lengths [10000, 15000]\n"
     ]
    },
    {
     "name": "stderr",
     "output_type": "stream",
     "text": [
      "100%|██████████| 3/3 [00:01<00:00,  2.25ba/s]\n"
     ]
    },
    {
     "name": "stdout",
     "output_type": "stream",
     "text": [
      "elapsed 1.4194032000013976\n",
      "(10000, 16, <class 'tokenizers.implementations.byte_level_bpe.ByteLevelBPETokenizer'>, [0, 5000])\n",
      "training tokenizer: number 10000, batch 16, token <class 'tokenizers.implementations.byte_level_bpe.ByteLevelBPETokenizer'>, lengths [0, 5000]\n"
     ]
    },
    {
     "name": "stderr",
     "output_type": "stream",
     "text": [
      "100%|██████████| 3/3 [00:01<00:00,  2.22ba/s]\n"
     ]
    },
    {
     "name": "stdout",
     "output_type": "stream",
     "text": [
      "elapsed 1.3684047999995528\n",
      "(10000, 16, <class 'tokenizers.implementations.byte_level_bpe.ByteLevelBPETokenizer'>, [5000, 10000])\n",
      "training tokenizer: number 10000, batch 16, token <class 'tokenizers.implementations.byte_level_bpe.ByteLevelBPETokenizer'>, lengths [5000, 10000]\n"
     ]
    },
    {
     "name": "stderr",
     "output_type": "stream",
     "text": [
      "100%|██████████| 3/3 [00:01<00:00,  2.24ba/s]\n"
     ]
    },
    {
     "name": "stdout",
     "output_type": "stream",
     "text": [
      "elapsed 1.3937700000024051\n",
      "(10000, 16, <class 'tokenizers.implementations.byte_level_bpe.ByteLevelBPETokenizer'>, [10000, 15000])\n",
      "training tokenizer: number 10000, batch 16, token <class 'tokenizers.implementations.byte_level_bpe.ByteLevelBPETokenizer'>, lengths [10000, 15000]\n"
     ]
    },
    {
     "name": "stderr",
     "output_type": "stream",
     "text": [
      "100%|██████████| 3/3 [00:01<00:00,  2.24ba/s]\n"
     ]
    },
    {
     "name": "stdout",
     "output_type": "stream",
     "text": [
      "elapsed 1.4390150000035646\n",
      "(10000, 16, <class 'tokenizers.implementations.bert_wordpiece.BertWordPieceTokenizer'>, [0, 5000])\n",
      "training tokenizer: number 10000, batch 16, token <class 'tokenizers.implementations.bert_wordpiece.BertWordPieceTokenizer'>, lengths [0, 5000]\n"
     ]
    },
    {
     "name": "stderr",
     "output_type": "stream",
     "text": [
      "100%|██████████| 3/3 [00:01<00:00,  2.28ba/s]\n"
     ]
    },
    {
     "name": "stdout",
     "output_type": "stream",
     "text": [
      "elapsed 1.3337009999959264\n",
      "(10000, 16, <class 'tokenizers.implementations.bert_wordpiece.BertWordPieceTokenizer'>, [5000, 10000])\n",
      "training tokenizer: number 10000, batch 16, token <class 'tokenizers.implementations.bert_wordpiece.BertWordPieceTokenizer'>, lengths [5000, 10000]\n"
     ]
    },
    {
     "name": "stderr",
     "output_type": "stream",
     "text": [
      "100%|██████████| 3/3 [00:01<00:00,  2.32ba/s]\n"
     ]
    },
    {
     "name": "stdout",
     "output_type": "stream",
     "text": [
      "elapsed 1.3595730000015465\n",
      "(10000, 16, <class 'tokenizers.implementations.bert_wordpiece.BertWordPieceTokenizer'>, [10000, 15000])\n",
      "training tokenizer: number 10000, batch 16, token <class 'tokenizers.implementations.bert_wordpiece.BertWordPieceTokenizer'>, lengths [10000, 15000]\n"
     ]
    },
    {
     "name": "stderr",
     "output_type": "stream",
     "text": [
      "100%|██████████| 3/3 [00:01<00:00,  2.31ba/s]\n"
     ]
    },
    {
     "name": "stdout",
     "output_type": "stream",
     "text": [
      "elapsed 1.378846400002658\n",
      "(10000, 128, <class 'tokenizers.implementations.sentencepiece_bpe.SentencePieceBPETokenizer'>, [0, 5000])\n",
      "training tokenizer: number 10000, batch 128, token <class 'tokenizers.implementations.sentencepiece_bpe.SentencePieceBPETokenizer'>, lengths [0, 5000]\n"
     ]
    },
    {
     "name": "stderr",
     "output_type": "stream",
     "text": [
      "100%|██████████| 3/3 [00:01<00:00,  2.32ba/s]\n"
     ]
    },
    {
     "name": "stdout",
     "output_type": "stream",
     "text": [
      "elapsed 1.3125007999988156\n",
      "(10000, 128, <class 'tokenizers.implementations.sentencepiece_bpe.SentencePieceBPETokenizer'>, [5000, 10000])\n",
      "training tokenizer: number 10000, batch 128, token <class 'tokenizers.implementations.sentencepiece_bpe.SentencePieceBPETokenizer'>, lengths [5000, 10000]\n"
     ]
    },
    {
     "name": "stderr",
     "output_type": "stream",
     "text": [
      "100%|██████████| 3/3 [00:01<00:00,  2.26ba/s]\n"
     ]
    },
    {
     "name": "stdout",
     "output_type": "stream",
     "text": [
      "elapsed 1.3781693000055384\n",
      "(10000, 128, <class 'tokenizers.implementations.sentencepiece_bpe.SentencePieceBPETokenizer'>, [10000, 15000])\n",
      "training tokenizer: number 10000, batch 128, token <class 'tokenizers.implementations.sentencepiece_bpe.SentencePieceBPETokenizer'>, lengths [10000, 15000]\n"
     ]
    },
    {
     "name": "stderr",
     "output_type": "stream",
     "text": [
      "100%|██████████| 3/3 [00:01<00:00,  2.25ba/s]\n"
     ]
    },
    {
     "name": "stdout",
     "output_type": "stream",
     "text": [
      "elapsed 1.4146165999991354\n",
      "(10000, 128, <class 'tokenizers.implementations.char_level_bpe.CharBPETokenizer'>, [0, 5000])\n",
      "training tokenizer: number 10000, batch 128, token <class 'tokenizers.implementations.char_level_bpe.CharBPETokenizer'>, lengths [0, 5000]\n"
     ]
    },
    {
     "name": "stderr",
     "output_type": "stream",
     "text": [
      "100%|██████████| 3/3 [00:01<00:00,  2.11ba/s]\n"
     ]
    },
    {
     "name": "stdout",
     "output_type": "stream",
     "text": [
      "elapsed 1.4389564000011887\n",
      "(10000, 128, <class 'tokenizers.implementations.char_level_bpe.CharBPETokenizer'>, [5000, 10000])\n",
      "training tokenizer: number 10000, batch 128, token <class 'tokenizers.implementations.char_level_bpe.CharBPETokenizer'>, lengths [5000, 10000]\n"
     ]
    },
    {
     "name": "stderr",
     "output_type": "stream",
     "text": [
      "100%|██████████| 3/3 [00:01<00:00,  2.19ba/s]\n"
     ]
    },
    {
     "name": "stdout",
     "output_type": "stream",
     "text": [
      "elapsed 1.4120239999974729\n",
      "(10000, 128, <class 'tokenizers.implementations.char_level_bpe.CharBPETokenizer'>, [10000, 15000])\n",
      "training tokenizer: number 10000, batch 128, token <class 'tokenizers.implementations.char_level_bpe.CharBPETokenizer'>, lengths [10000, 15000]\n"
     ]
    },
    {
     "name": "stderr",
     "output_type": "stream",
     "text": [
      "100%|██████████| 3/3 [00:01<00:00,  2.38ba/s]\n"
     ]
    },
    {
     "name": "stdout",
     "output_type": "stream",
     "text": [
      "elapsed 1.3440297999986797\n",
      "(10000, 128, <class 'tokenizers.implementations.sentencepiece_unigram.SentencePieceUnigramTokenizer'>, [0, 5000])\n",
      "training tokenizer: number 10000, batch 128, token <class 'tokenizers.implementations.sentencepiece_unigram.SentencePieceUnigramTokenizer'>, lengths [0, 5000]\n"
     ]
    },
    {
     "name": "stderr",
     "output_type": "stream",
     "text": [
      "100%|██████████| 3/3 [00:01<00:00,  2.35ba/s]\n"
     ]
    },
    {
     "name": "stdout",
     "output_type": "stream",
     "text": [
      "elapsed 1.2911983999947552\n",
      "(10000, 128, <class 'tokenizers.implementations.sentencepiece_unigram.SentencePieceUnigramTokenizer'>, [5000, 10000])\n",
      "training tokenizer: number 10000, batch 128, token <class 'tokenizers.implementations.sentencepiece_unigram.SentencePieceUnigramTokenizer'>, lengths [5000, 10000]\n"
     ]
    },
    {
     "name": "stderr",
     "output_type": "stream",
     "text": [
      "100%|██████████| 3/3 [00:01<00:00,  2.28ba/s]\n"
     ]
    },
    {
     "name": "stdout",
     "output_type": "stream",
     "text": [
      "elapsed 1.36539410000114\n",
      "(10000, 128, <class 'tokenizers.implementations.sentencepiece_unigram.SentencePieceUnigramTokenizer'>, [10000, 15000])\n",
      "training tokenizer: number 10000, batch 128, token <class 'tokenizers.implementations.sentencepiece_unigram.SentencePieceUnigramTokenizer'>, lengths [10000, 15000]\n"
     ]
    },
    {
     "name": "stderr",
     "output_type": "stream",
     "text": [
      "100%|██████████| 3/3 [00:01<00:00,  2.42ba/s]\n"
     ]
    },
    {
     "name": "stdout",
     "output_type": "stream",
     "text": [
      "elapsed 1.314383999997517\n",
      "(10000, 128, <class 'tokenizers.implementations.byte_level_bpe.ByteLevelBPETokenizer'>, [0, 5000])\n",
      "training tokenizer: number 10000, batch 128, token <class 'tokenizers.implementations.byte_level_bpe.ByteLevelBPETokenizer'>, lengths [0, 5000]\n"
     ]
    },
    {
     "name": "stderr",
     "output_type": "stream",
     "text": [
      "100%|██████████| 3/3 [00:01<00:00,  2.29ba/s]\n"
     ]
    },
    {
     "name": "stdout",
     "output_type": "stream",
     "text": [
      "elapsed 1.328509099999792\n",
      "(10000, 128, <class 'tokenizers.implementations.byte_level_bpe.ByteLevelBPETokenizer'>, [5000, 10000])\n",
      "training tokenizer: number 10000, batch 128, token <class 'tokenizers.implementations.byte_level_bpe.ByteLevelBPETokenizer'>, lengths [5000, 10000]\n"
     ]
    },
    {
     "name": "stderr",
     "output_type": "stream",
     "text": [
      "100%|██████████| 3/3 [00:01<00:00,  2.27ba/s]\n"
     ]
    },
    {
     "name": "stdout",
     "output_type": "stream",
     "text": [
      "elapsed 1.371450200000254\n",
      "(10000, 128, <class 'tokenizers.implementations.byte_level_bpe.ByteLevelBPETokenizer'>, [10000, 15000])\n",
      "training tokenizer: number 10000, batch 128, token <class 'tokenizers.implementations.byte_level_bpe.ByteLevelBPETokenizer'>, lengths [10000, 15000]\n"
     ]
    },
    {
     "name": "stderr",
     "output_type": "stream",
     "text": [
      "100%|██████████| 3/3 [00:01<00:00,  2.42ba/s]\n"
     ]
    },
    {
     "name": "stdout",
     "output_type": "stream",
     "text": [
      "elapsed 1.3081891000038013\n",
      "(10000, 128, <class 'tokenizers.implementations.bert_wordpiece.BertWordPieceTokenizer'>, [0, 5000])\n",
      "training tokenizer: number 10000, batch 128, token <class 'tokenizers.implementations.bert_wordpiece.BertWordPieceTokenizer'>, lengths [0, 5000]\n"
     ]
    },
    {
     "name": "stderr",
     "output_type": "stream",
     "text": [
      "100%|██████████| 3/3 [00:01<00:00,  2.23ba/s]\n"
     ]
    },
    {
     "name": "stdout",
     "output_type": "stream",
     "text": [
      "elapsed 1.371899999998277\n",
      "(10000, 128, <class 'tokenizers.implementations.bert_wordpiece.BertWordPieceTokenizer'>, [5000, 10000])\n",
      "training tokenizer: number 10000, batch 128, token <class 'tokenizers.implementations.bert_wordpiece.BertWordPieceTokenizer'>, lengths [5000, 10000]\n"
     ]
    },
    {
     "name": "stderr",
     "output_type": "stream",
     "text": [
      "100%|██████████| 3/3 [00:01<00:00,  2.33ba/s]\n"
     ]
    },
    {
     "name": "stdout",
     "output_type": "stream",
     "text": [
      "elapsed 1.3385811999978614\n",
      "(10000, 128, <class 'tokenizers.implementations.bert_wordpiece.BertWordPieceTokenizer'>, [10000, 15000])\n",
      "training tokenizer: number 10000, batch 128, token <class 'tokenizers.implementations.bert_wordpiece.BertWordPieceTokenizer'>, lengths [10000, 15000]\n"
     ]
    },
    {
     "name": "stderr",
     "output_type": "stream",
     "text": [
      "100%|██████████| 3/3 [00:01<00:00,  2.42ba/s]\n"
     ]
    },
    {
     "name": "stdout",
     "output_type": "stream",
     "text": [
      "elapsed 1.3145698000007542\n",
      "(10000, 512, <class 'tokenizers.implementations.sentencepiece_bpe.SentencePieceBPETokenizer'>, [0, 5000])\n",
      "training tokenizer: number 10000, batch 512, token <class 'tokenizers.implementations.sentencepiece_bpe.SentencePieceBPETokenizer'>, lengths [0, 5000]\n"
     ]
    },
    {
     "name": "stderr",
     "output_type": "stream",
     "text": [
      "100%|██████████| 3/3 [00:01<00:00,  2.39ba/s]\n"
     ]
    },
    {
     "name": "stdout",
     "output_type": "stream",
     "text": [
      "elapsed 1.2729987999991863\n",
      "(10000, 512, <class 'tokenizers.implementations.sentencepiece_bpe.SentencePieceBPETokenizer'>, [5000, 10000])\n",
      "training tokenizer: number 10000, batch 512, token <class 'tokenizers.implementations.sentencepiece_bpe.SentencePieceBPETokenizer'>, lengths [5000, 10000]\n"
     ]
    },
    {
     "name": "stderr",
     "output_type": "stream",
     "text": [
      "100%|██████████| 3/3 [00:01<00:00,  2.24ba/s]\n"
     ]
    },
    {
     "name": "stdout",
     "output_type": "stream",
     "text": [
      "elapsed 1.3834779000026174\n",
      "(10000, 512, <class 'tokenizers.implementations.sentencepiece_bpe.SentencePieceBPETokenizer'>, [10000, 15000])\n",
      "training tokenizer: number 10000, batch 512, token <class 'tokenizers.implementations.sentencepiece_bpe.SentencePieceBPETokenizer'>, lengths [10000, 15000]\n"
     ]
    },
    {
     "name": "stderr",
     "output_type": "stream",
     "text": [
      "100%|██████████| 3/3 [00:01<00:00,  2.39ba/s]\n"
     ]
    },
    {
     "name": "stdout",
     "output_type": "stream",
     "text": [
      "elapsed 1.340383800001291\n",
      "(10000, 512, <class 'tokenizers.implementations.char_level_bpe.CharBPETokenizer'>, [0, 5000])\n",
      "training tokenizer: number 10000, batch 512, token <class 'tokenizers.implementations.char_level_bpe.CharBPETokenizer'>, lengths [0, 5000]\n"
     ]
    },
    {
     "name": "stderr",
     "output_type": "stream",
     "text": [
      "100%|██████████| 3/3 [00:01<00:00,  2.35ba/s]\n"
     ]
    },
    {
     "name": "stdout",
     "output_type": "stream",
     "text": [
      "elapsed 1.2887613000057172\n",
      "(10000, 512, <class 'tokenizers.implementations.char_level_bpe.CharBPETokenizer'>, [5000, 10000])\n",
      "training tokenizer: number 10000, batch 512, token <class 'tokenizers.implementations.char_level_bpe.CharBPETokenizer'>, lengths [5000, 10000]\n"
     ]
    },
    {
     "name": "stderr",
     "output_type": "stream",
     "text": [
      "100%|██████████| 3/3 [00:01<00:00,  2.24ba/s]\n"
     ]
    },
    {
     "name": "stdout",
     "output_type": "stream",
     "text": [
      "elapsed 1.3865051999964635\n",
      "(10000, 512, <class 'tokenizers.implementations.char_level_bpe.CharBPETokenizer'>, [10000, 15000])\n",
      "training tokenizer: number 10000, batch 512, token <class 'tokenizers.implementations.char_level_bpe.CharBPETokenizer'>, lengths [10000, 15000]\n"
     ]
    },
    {
     "name": "stderr",
     "output_type": "stream",
     "text": [
      "100%|██████████| 3/3 [00:01<00:00,  2.31ba/s]\n"
     ]
    },
    {
     "name": "stdout",
     "output_type": "stream",
     "text": [
      "elapsed 1.3624775000062073\n",
      "(10000, 512, <class 'tokenizers.implementations.sentencepiece_unigram.SentencePieceUnigramTokenizer'>, [0, 5000])\n",
      "training tokenizer: number 10000, batch 512, token <class 'tokenizers.implementations.sentencepiece_unigram.SentencePieceUnigramTokenizer'>, lengths [0, 5000]\n"
     ]
    },
    {
     "name": "stderr",
     "output_type": "stream",
     "text": [
      "100%|██████████| 3/3 [00:01<00:00,  2.39ba/s]\n"
     ]
    },
    {
     "name": "stdout",
     "output_type": "stream",
     "text": [
      "elapsed 1.2783521999954246\n",
      "(10000, 512, <class 'tokenizers.implementations.sentencepiece_unigram.SentencePieceUnigramTokenizer'>, [5000, 10000])\n",
      "training tokenizer: number 10000, batch 512, token <class 'tokenizers.implementations.sentencepiece_unigram.SentencePieceUnigramTokenizer'>, lengths [5000, 10000]\n"
     ]
    },
    {
     "name": "stderr",
     "output_type": "stream",
     "text": [
      "100%|██████████| 3/3 [00:01<00:00,  2.19ba/s]\n"
     ]
    },
    {
     "name": "stdout",
     "output_type": "stream",
     "text": [
      "elapsed 1.4055128000036348\n",
      "(10000, 512, <class 'tokenizers.implementations.sentencepiece_unigram.SentencePieceUnigramTokenizer'>, [10000, 15000])\n",
      "training tokenizer: number 10000, batch 512, token <class 'tokenizers.implementations.sentencepiece_unigram.SentencePieceUnigramTokenizer'>, lengths [10000, 15000]\n"
     ]
    },
    {
     "name": "stderr",
     "output_type": "stream",
     "text": [
      "100%|██████████| 3/3 [00:01<00:00,  2.34ba/s]\n"
     ]
    },
    {
     "name": "stdout",
     "output_type": "stream",
     "text": [
      "elapsed 1.3574027000067872\n",
      "(10000, 512, <class 'tokenizers.implementations.byte_level_bpe.ByteLevelBPETokenizer'>, [0, 5000])\n",
      "training tokenizer: number 10000, batch 512, token <class 'tokenizers.implementations.byte_level_bpe.ByteLevelBPETokenizer'>, lengths [0, 5000]\n"
     ]
    },
    {
     "name": "stderr",
     "output_type": "stream",
     "text": [
      "100%|██████████| 3/3 [00:01<00:00,  2.28ba/s]\n"
     ]
    },
    {
     "name": "stdout",
     "output_type": "stream",
     "text": [
      "elapsed 1.3471714999977848\n",
      "(10000, 512, <class 'tokenizers.implementations.byte_level_bpe.ByteLevelBPETokenizer'>, [5000, 10000])\n",
      "training tokenizer: number 10000, batch 512, token <class 'tokenizers.implementations.byte_level_bpe.ByteLevelBPETokenizer'>, lengths [5000, 10000]\n"
     ]
    },
    {
     "name": "stderr",
     "output_type": "stream",
     "text": [
      "100%|██████████| 3/3 [00:01<00:00,  2.26ba/s]\n"
     ]
    },
    {
     "name": "stdout",
     "output_type": "stream",
     "text": [
      "elapsed 1.382874199996877\n",
      "(10000, 512, <class 'tokenizers.implementations.byte_level_bpe.ByteLevelBPETokenizer'>, [10000, 15000])\n",
      "training tokenizer: number 10000, batch 512, token <class 'tokenizers.implementations.byte_level_bpe.ByteLevelBPETokenizer'>, lengths [10000, 15000]\n"
     ]
    },
    {
     "name": "stderr",
     "output_type": "stream",
     "text": [
      "100%|██████████| 3/3 [00:01<00:00,  2.36ba/s]\n"
     ]
    },
    {
     "name": "stdout",
     "output_type": "stream",
     "text": [
      "elapsed 1.3268754999953671\n",
      "(10000, 512, <class 'tokenizers.implementations.bert_wordpiece.BertWordPieceTokenizer'>, [0, 5000])\n",
      "training tokenizer: number 10000, batch 512, token <class 'tokenizers.implementations.bert_wordpiece.BertWordPieceTokenizer'>, lengths [0, 5000]\n"
     ]
    },
    {
     "name": "stderr",
     "output_type": "stream",
     "text": [
      "100%|██████████| 3/3 [00:01<00:00,  2.23ba/s]\n"
     ]
    },
    {
     "name": "stdout",
     "output_type": "stream",
     "text": [
      "elapsed 1.3636760000008508\n",
      "(10000, 512, <class 'tokenizers.implementations.bert_wordpiece.BertWordPieceTokenizer'>, [5000, 10000])\n",
      "training tokenizer: number 10000, batch 512, token <class 'tokenizers.implementations.bert_wordpiece.BertWordPieceTokenizer'>, lengths [5000, 10000]\n"
     ]
    },
    {
     "name": "stderr",
     "output_type": "stream",
     "text": [
      "100%|██████████| 3/3 [00:01<00:00,  2.38ba/s]\n"
     ]
    },
    {
     "name": "stdout",
     "output_type": "stream",
     "text": [
      "elapsed 1.3089316000041435\n",
      "(10000, 512, <class 'tokenizers.implementations.bert_wordpiece.BertWordPieceTokenizer'>, [10000, 15000])\n",
      "training tokenizer: number 10000, batch 512, token <class 'tokenizers.implementations.bert_wordpiece.BertWordPieceTokenizer'>, lengths [10000, 15000]\n"
     ]
    },
    {
     "name": "stderr",
     "output_type": "stream",
     "text": [
      "100%|██████████| 3/3 [00:01<00:00,  2.41ba/s]"
     ]
    },
    {
     "name": "stdout",
     "output_type": "stream",
     "text": [
      "elapsed 1.3253727999981493\n"
     ]
    },
    {
     "name": "stderr",
     "output_type": "stream",
     "text": [
      "\n"
     ]
    }
   ],
   "source": [
    "#Define our examination parameters\n",
    "\n",
    "n_batches = [100, 1000, 5000, 10000]\n",
    "batch_sizes = [2, 4, 8, 16, 128, 512]\n",
    "tokenizers = [SentencePieceBPETokenizer,\n",
    "              CharBPETokenizer,\n",
    "              SentencePieceUnigramTokenizer,\n",
    "              ByteLevelBPETokenizer,\n",
    "              BertWordPieceTokenizer,\n",
    "              ]\n",
    "lengths = [[0, 5000], [5000, 10000], [10000, 15000]]\n",
    "options = product(n_batches, batch_sizes, tokenizers, lengths)\n",
    "\n",
    "#Train tokenizers\n",
    "statistics = []\n",
    "for option in options:\n",
    "    print(option)\n",
    "    statistics.append(train_tokenizer(training, *option))\n",
    "\n"
   ],
   "metadata": {
    "collapsed": false,
    "pycharm": {
     "name": "#%%\n"
    }
   }
  },
  {
   "cell_type": "code",
   "execution_count": 106,
   "outputs": [
    {
     "data": {
      "text/plain": "     n_batches  batch_size                    tokenizer   elapsed\n0          100           2  SentencePieceBPETokenizer'>  1.469867\n1          100           2  SentencePieceBPETokenizer'>  1.262609\n2          100           2  SentencePieceBPETokenizer'>  1.402710\n3          100           2           CharBPETokenizer'>  1.308308\n4          100           2           CharBPETokenizer'>  1.303662\n..         ...         ...                          ...       ...\n355      10000         512      ByteLevelBPETokenizer'>  1.382874\n356      10000         512      ByteLevelBPETokenizer'>  1.326875\n357      10000         512     BertWordPieceTokenizer'>  1.363676\n358      10000         512     BertWordPieceTokenizer'>  1.308932\n359      10000         512     BertWordPieceTokenizer'>  1.325373\n\n[360 rows x 4 columns]",
      "text/html": "<div>\n<style scoped>\n    .dataframe tbody tr th:only-of-type {\n        vertical-align: middle;\n    }\n\n    .dataframe tbody tr th {\n        vertical-align: top;\n    }\n\n    .dataframe thead th {\n        text-align: right;\n    }\n</style>\n<table border=\"1\" class=\"dataframe\">\n  <thead>\n    <tr style=\"text-align: right;\">\n      <th></th>\n      <th>n_batches</th>\n      <th>batch_size</th>\n      <th>tokenizer</th>\n      <th>elapsed</th>\n    </tr>\n  </thead>\n  <tbody>\n    <tr>\n      <th>0</th>\n      <td>100</td>\n      <td>2</td>\n      <td>SentencePieceBPETokenizer'&gt;</td>\n      <td>1.469867</td>\n    </tr>\n    <tr>\n      <th>1</th>\n      <td>100</td>\n      <td>2</td>\n      <td>SentencePieceBPETokenizer'&gt;</td>\n      <td>1.262609</td>\n    </tr>\n    <tr>\n      <th>2</th>\n      <td>100</td>\n      <td>2</td>\n      <td>SentencePieceBPETokenizer'&gt;</td>\n      <td>1.402710</td>\n    </tr>\n    <tr>\n      <th>3</th>\n      <td>100</td>\n      <td>2</td>\n      <td>CharBPETokenizer'&gt;</td>\n      <td>1.308308</td>\n    </tr>\n    <tr>\n      <th>4</th>\n      <td>100</td>\n      <td>2</td>\n      <td>CharBPETokenizer'&gt;</td>\n      <td>1.303662</td>\n    </tr>\n    <tr>\n      <th>...</th>\n      <td>...</td>\n      <td>...</td>\n      <td>...</td>\n      <td>...</td>\n    </tr>\n    <tr>\n      <th>355</th>\n      <td>10000</td>\n      <td>512</td>\n      <td>ByteLevelBPETokenizer'&gt;</td>\n      <td>1.382874</td>\n    </tr>\n    <tr>\n      <th>356</th>\n      <td>10000</td>\n      <td>512</td>\n      <td>ByteLevelBPETokenizer'&gt;</td>\n      <td>1.326875</td>\n    </tr>\n    <tr>\n      <th>357</th>\n      <td>10000</td>\n      <td>512</td>\n      <td>BertWordPieceTokenizer'&gt;</td>\n      <td>1.363676</td>\n    </tr>\n    <tr>\n      <th>358</th>\n      <td>10000</td>\n      <td>512</td>\n      <td>BertWordPieceTokenizer'&gt;</td>\n      <td>1.308932</td>\n    </tr>\n    <tr>\n      <th>359</th>\n      <td>10000</td>\n      <td>512</td>\n      <td>BertWordPieceTokenizer'&gt;</td>\n      <td>1.325373</td>\n    </tr>\n  </tbody>\n</table>\n<p>360 rows × 4 columns</p>\n</div>"
     },
     "execution_count": 106,
     "metadata": {},
     "output_type": "execute_result"
    }
   ],
   "source": [
    "# Analyze this a little with some pandas frames\n",
    "\n",
    "import pandas as pd\n",
    "df = pd.DataFrame(statistics)\n",
    "df['tokenizer'] = df['tokenizer'].apply(lambda x : x.split(\".\")[-1])\n",
    "df = df.drop('tkn', axis=1)\n",
    "df"
   ],
   "metadata": {
    "collapsed": false,
    "pycharm": {
     "name": "#%%\n"
    }
   }
  },
  {
   "cell_type": "code",
   "execution_count": 107,
   "outputs": [
    {
     "data": {
      "text/plain": "<Figure size 540x540 with 12 Axes>",
      "image/png": "[encoded data removed]"
     },
     "metadata": {
      "needs_background": "light"
     },
     "output_type": "display_data"
    }
   ],
   "source": [
    "#Use seaborn to example behavior\n",
    "import seaborn as sns\n",
    "from matplotlib import pyplot as plt\n",
    "\n",
    "pg = sns.PairGrid(data=df)\n",
    "pg.map_diag(sns.histplot)\n",
    "pg.map_offdiag(sns.scatterplot)\n",
    "plt.show()"
   ],
   "metadata": {
    "collapsed": false,
    "pycharm": {
     "name": "#%%\n"
    }
   }
  },
  {
   "cell_type": "code",
   "execution_count": null,
   "outputs": [],
   "source": [],
   "metadata": {
    "collapsed": false,
    "pycharm": {
     "name": "#%%\n"
    }
   }
  },
  {
   "cell_type": "code",
   "execution_count": null,
   "outputs": [],
   "source": [],
   "metadata": {
    "collapsed": false,
    "pycharm": {
     "name": "#%%\n"
    }
   }
  }
 ],
 "metadata": {
  "kernelspec": {
   "display_name": "Python 3",
   "language": "python",
   "name": "python3"
  },
  "language_info": {
   "codemirror_mode": {
    "name": "ipython",
    "version": 2
   },
   "file_extension": ".py",
   "mimetype": "text/x-python",
   "name": "python",
   "nbconvert_exporter": "python",
   "pygments_lexer": "ipython2",
   "version": "2.7.6"
  }
 },
 "nbformat": 4,
 "nbformat_minor": 0
}