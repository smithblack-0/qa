{
 "cells": [
  {
   "cell_type": "code",
   "execution_count": 56,
   "id": "453c8395",
   "metadata": {
    "pycharm": {
     "name": "#%%\n"
    }
   },
   "outputs": [],
   "source": [
    "from typing import List\n",
    "import numpy as np\n",
    "\n",
    "import supertransformerlib\n",
    "import datasets\n"
   ]
  },
  {
   "cell_type": "markdown",
   "source": [
    "# Create the databases\n",
    "\n",
    "This section contains two important logical\n",
    "tasks. These are chunking the source data,\n",
    "and creating the dataloaders.\n",
    "\n",
    "\n"
   ],
   "metadata": {
    "collapsed": false,
    "pycharm": {
     "name": "#%% md\n"
    }
   }
  },
  {
   "cell_type": "code",
   "execution_count": 58,
   "outputs": [
    {
     "name": "stderr",
     "output_type": "stream",
     "text": [
      "Reusing dataset lambada (C:\\Users\\chris\\.cache\\huggingface\\datasets\\lambada\\plain_text\\1.1.0\\e32d76a7236c9ebb30099bc73d677c3acf32ddffb411836fe9ffc091ad3f3bec)\n",
      "100%|██████████| 3/3 [00:00<00:00, 21.56it/s]\n",
      "Reusing dataset squad (C:\\Users\\chris\\.cache\\huggingface\\datasets\\squad\\plain_text\\1.0.0\\d6ec3ceb99ca480ce37cdd35555d6cb2511d223b9150cce08a837ef62ffea453)\n",
      "100%|██████████| 2/2 [00:00<00:00, 105.17it/s]\n"
     ]
    }
   ],
   "source": [
    "lambada_ds = datasets.load_dataset(\"lambada\")\n",
    "squad_ds = datasets.load_dataset(\"squad\")\n",
    "\n"
   ],
   "metadata": {
    "collapsed": false,
    "pycharm": {
     "name": "#%%\n"
    }
   }
  },
  {
   "cell_type": "markdown",
   "source": [],
   "metadata": {
    "collapsed": false,
    "pycharm": {
     "name": "#%% md\n"
    }
   }
  },
  {
   "cell_type": "code",
   "execution_count": 61,
   "outputs": [
    {
     "ename": "AttributeError",
     "evalue": "'DatasetDict' object has no attribute 'split'",
     "output_type": "error",
     "traceback": [
      "\u001B[1;31m---------------------------------------------------------------------------\u001B[0m",
      "\u001B[1;31mAttributeError\u001B[0m                            Traceback (most recent call last)",
      "Input \u001B[1;32mIn [61]\u001B[0m, in \u001B[0;36m<cell line: 1>\u001B[1;34m()\u001B[0m\n\u001B[1;32m----> 1\u001B[0m train \u001B[38;5;241m=\u001B[39m \u001B[43mlambada_ds\u001B[49m\u001B[38;5;241;43m.\u001B[39;49m\u001B[43msplit\u001B[49m(\u001B[38;5;124m\"\u001B[39m\u001B[38;5;124mtrain\u001B[39m\u001B[38;5;124m\"\u001B[39m)\n",
      "\u001B[1;31mAttributeError\u001B[0m: 'DatasetDict' object has no attribute 'split'"
     ]
    }
   ],
   "source": [
    "train = lambada_ds.split(\"train\")"
   ],
   "metadata": {
    "collapsed": false,
    "pycharm": {
     "name": "#%%\n"
    }
   }
  },
  {
   "cell_type": "code",
   "execution_count": null,
   "outputs": [],
   "source": [],
   "metadata": {
    "collapsed": false,
    "pycharm": {
     "name": "#%%\n"
    }
   }
  },
  {
   "cell_type": "code",
   "execution_count": 32,
   "outputs": [
    {
     "ename": "SyntaxError",
     "evalue": "unexpected EOF while parsing (476139119.py, line 124)",
     "output_type": "error",
     "traceback": [
      "\u001B[1;36m  Input \u001B[1;32mIn [32]\u001B[1;36m\u001B[0m\n\u001B[1;33m    \u001B[0m\n\u001B[1;37m    ^\u001B[0m\n\u001B[1;31mSyntaxError\u001B[0m\u001B[1;31m:\u001B[0m unexpected EOF while parsing\n"
     ]
    }
   ],
   "source": [
    "\n",
    "\n"
   ],
   "metadata": {
    "collapsed": false,
    "pycharm": {
     "name": "#%%\n"
    }
   }
  },
  {
   "cell_type": "code",
   "execution_count": 51,
   "outputs": [
    {
     "data": {
      "text/plain": "                         id    topic  \\\n0  56ddde6b9a695914005b9628  Normans   \n1  56ddde6b9a695914005b9629  Normans   \n2  56ddde6b9a695914005b962a  Normans   \n3  56ddde6b9a695914005b962b  Normans   \n4  56ddde6b9a695914005b962c  Normans   \n5  5ad39d53604f3c001a3fe8d1  Normans   \n6  5ad39d53604f3c001a3fe8d2  Normans   \n7  5ad39d53604f3c001a3fe8d3  Normans   \n8  5ad39d53604f3c001a3fe8d4  Normans   \n9  56dddf4066d3e219004dad5f  Normans   \n\n                                                           question  \\\n0                              In what country is Normandy located?   \n1                                When were the Normans in Normandy?   \n2                     From which countries did the Norse originate?   \n3                                         Who was the Norse leader?   \n4  What century did the Normans first gain their separate identity?   \n5          Who gave their name to Normandy in the 1000's and 1100's   \n6                                       What is France a region of?   \n7                         Who did King Charles III swear fealty to?   \n8                            When did the Frankish identity emerge?   \n9                       Who was the duke in the battle of Hastings?   \n\n                                                                                                                                                                                                                                                                                                                                                                                                                                                                                                                                                                                                                   context  \\\n0  The Normans (Norman: Nourmands; French: Normands; Latin: Normanni) were the people who in the 10th and 11th centuries gave their name to Normandy, a region in France. They were descended from Norse (\"Norman\" comes from \"Norseman\") raiders and pirates from Denmark, Iceland and Norway who, under their leader Rollo, agreed to swear fealty to King Charles III of West Francia. Through generations of assimilation and mixing with the native Frankish and Roman-Gaulish populations, their descendants would gradually merge with the Carolingian-based cultures of West Francia. The distinct cultural and...   \n1  The Normans (Norman: Nourmands; French: Normands; Latin: Normanni) were the people who in the 10th and 11th centuries gave their name to Normandy, a region in France. They were descended from Norse (\"Norman\" comes from \"Norseman\") raiders and pirates from Denmark, Iceland and Norway who, under their leader Rollo, agreed to swear fealty to King Charles III of West Francia. Through generations of assimilation and mixing with the native Frankish and Roman-Gaulish populations, their descendants would gradually merge with the Carolingian-based cultures of West Francia. The distinct cultural and...   \n2  The Normans (Norman: Nourmands; French: Normands; Latin: Normanni) were the people who in the 10th and 11th centuries gave their name to Normandy, a region in France. They were descended from Norse (\"Norman\" comes from \"Norseman\") raiders and pirates from Denmark, Iceland and Norway who, under their leader Rollo, agreed to swear fealty to King Charles III of West Francia. Through generations of assimilation and mixing with the native Frankish and Roman-Gaulish populations, their descendants would gradually merge with the Carolingian-based cultures of West Francia. The distinct cultural and...   \n3  The Normans (Norman: Nourmands; French: Normands; Latin: Normanni) were the people who in the 10th and 11th centuries gave their name to Normandy, a region in France. They were descended from Norse (\"Norman\" comes from \"Norseman\") raiders and pirates from Denmark, Iceland and Norway who, under their leader Rollo, agreed to swear fealty to King Charles III of West Francia. Through generations of assimilation and mixing with the native Frankish and Roman-Gaulish populations, their descendants would gradually merge with the Carolingian-based cultures of West Francia. The distinct cultural and...   \n4  The Normans (Norman: Nourmands; French: Normands; Latin: Normanni) were the people who in the 10th and 11th centuries gave their name to Normandy, a region in France. They were descended from Norse (\"Norman\" comes from \"Norseman\") raiders and pirates from Denmark, Iceland and Norway who, under their leader Rollo, agreed to swear fealty to King Charles III of West Francia. Through generations of assimilation and mixing with the native Frankish and Roman-Gaulish populations, their descendants would gradually merge with the Carolingian-based cultures of West Francia. The distinct cultural and...   \n5  The Normans (Norman: Nourmands; French: Normands; Latin: Normanni) were the people who in the 10th and 11th centuries gave their name to Normandy, a region in France. They were descended from Norse (\"Norman\" comes from \"Norseman\") raiders and pirates from Denmark, Iceland and Norway who, under their leader Rollo, agreed to swear fealty to King Charles III of West Francia. Through generations of assimilation and mixing with the native Frankish and Roman-Gaulish populations, their descendants would gradually merge with the Carolingian-based cultures of West Francia. The distinct cultural and...   \n6  The Normans (Norman: Nourmands; French: Normands; Latin: Normanni) were the people who in the 10th and 11th centuries gave their name to Normandy, a region in France. They were descended from Norse (\"Norman\" comes from \"Norseman\") raiders and pirates from Denmark, Iceland and Norway who, under their leader Rollo, agreed to swear fealty to King Charles III of West Francia. Through generations of assimilation and mixing with the native Frankish and Roman-Gaulish populations, their descendants would gradually merge with the Carolingian-based cultures of West Francia. The distinct cultural and...   \n7  The Normans (Norman: Nourmands; French: Normands; Latin: Normanni) were the people who in the 10th and 11th centuries gave their name to Normandy, a region in France. They were descended from Norse (\"Norman\" comes from \"Norseman\") raiders and pirates from Denmark, Iceland and Norway who, under their leader Rollo, agreed to swear fealty to King Charles III of West Francia. Through generations of assimilation and mixing with the native Frankish and Roman-Gaulish populations, their descendants would gradually merge with the Carolingian-based cultures of West Francia. The distinct cultural and...   \n8  The Normans (Norman: Nourmands; French: Normands; Latin: Normanni) were the people who in the 10th and 11th centuries gave their name to Normandy, a region in France. They were descended from Norse (\"Norman\" comes from \"Norseman\") raiders and pirates from Denmark, Iceland and Norway who, under their leader Rollo, agreed to swear fealty to King Charles III of West Francia. Through generations of assimilation and mixing with the native Frankish and Roman-Gaulish populations, their descendants would gradually merge with the Carolingian-based cultures of West Francia. The distinct cultural and...   \n9  The Norman dynasty had a major political, cultural and military impact on medieval Europe and even the Near East. The Normans were famed for their martial spirit and eventually for their Christian piety, becoming exponents of the Catholic orthodoxy into which they assimilated. They adopted the Gallo-Romance language of the Frankish land they settled, their dialect becoming known as Norman, Normaund or Norman French, an important literary language. The Duchy of Normandy, which they formed by treaty with the French crown, was a great fief of medieval France, and under Richard I of Normandy w...   \n\n                                                                                                                                                                                                                                                    answers  \\\n0                                                                                      [{'text': 'France', 'answer_start': 159}, {'text': 'France', 'answer_start': 159}, {'text': 'France', 'answer_start': 159}, {'text': 'France', 'answer_start': 159}]   \n1               [{'text': '10th and 11th centuries', 'answer_start': 94}, {'text': 'in the 10th and 11th centuries', 'answer_start': 87}, {'text': '10th and 11th centuries', 'answer_start': 94}, {'text': '10th and 11th centuries', 'answer_start': 94}]   \n2  [{'text': 'Denmark, Iceland and Norway', 'answer_start': 256}, {'text': 'Denmark, Iceland and Norway', 'answer_start': 256}, {'text': 'Denmark, Iceland and Norway', 'answer_start': 256}, {'text': 'Denmark, Iceland and Norway', 'answer_start': 256}]   \n3                                                                                          [{'text': 'Rollo', 'answer_start': 308}, {'text': 'Rollo', 'answer_start': 308}, {'text': 'Rollo', 'answer_start': 308}, {'text': 'Rollo', 'answer_start': 308}]   \n4                                                        [{'text': '10th century', 'answer_start': 671}, {'text': 'the first half of the 10th century', 'answer_start': 649}, {'text': '10th', 'answer_start': 671}, {'text': '10th', 'answer_start': 671}]   \n5                                                                                                                                                                                                                                                        []   \n6                                                                                                                                                                                                                                                        []   \n7                                                                                                                                                                                                                                                        []   \n8                                                                                                                                                                                                                                                        []   \n9                                                                               [{'text': 'William the Conqueror', 'answer_start': 1022}, {'text': 'William the Conqueror', 'answer_start': 1022}, {'text': 'William the Conqueror', 'answer_start': 1022}]   \n\n   impossible plausable  \n0       False      None  \n1       False      None  \n2       False      None  \n3       False      None  \n4       False      None  \n5        True      None  \n6        True      None  \n7        True      None  \n8        True      None  \n9       False      None  ",
      "text/html": "<div>\n<style scoped>\n    .dataframe tbody tr th:only-of-type {\n        vertical-align: middle;\n    }\n\n    .dataframe tbody tr th {\n        vertical-align: top;\n    }\n\n    .dataframe thead th {\n        text-align: right;\n    }\n</style>\n<table border=\"1\" class=\"dataframe\">\n  <thead>\n    <tr style=\"text-align: right;\">\n      <th></th>\n      <th>id</th>\n      <th>topic</th>\n      <th>question</th>\n      <th>context</th>\n      <th>answers</th>\n      <th>impossible</th>\n      <th>plausable</th>\n    </tr>\n  </thead>\n  <tbody>\n    <tr>\n      <th>0</th>\n      <td>56ddde6b9a695914005b9628</td>\n      <td>Normans</td>\n      <td>In what country is Normandy located?</td>\n      <td>The Normans (Norman: Nourmands; French: Normands; Latin: Normanni) were the people who in the 10th and 11th centuries gave their name to Normandy, a region in France. They were descended from Norse (\"Norman\" comes from \"Norseman\") raiders and pirates from Denmark, Iceland and Norway who, under their leader Rollo, agreed to swear fealty to King Charles III of West Francia. Through generations of assimilation and mixing with the native Frankish and Roman-Gaulish populations, their descendants would gradually merge with the Carolingian-based cultures of West Francia. The distinct cultural and...</td>\n      <td>[{'text': 'France', 'answer_start': 159}, {'text': 'France', 'answer_start': 159}, {'text': 'France', 'answer_start': 159}, {'text': 'France', 'answer_start': 159}]</td>\n      <td>False</td>\n      <td>None</td>\n    </tr>\n    <tr>\n      <th>1</th>\n      <td>56ddde6b9a695914005b9629</td>\n      <td>Normans</td>\n      <td>When were the Normans in Normandy?</td>\n      <td>The Normans (Norman: Nourmands; French: Normands; Latin: Normanni) were the people who in the 10th and 11th centuries gave their name to Normandy, a region in France. They were descended from Norse (\"Norman\" comes from \"Norseman\") raiders and pirates from Denmark, Iceland and Norway who, under their leader Rollo, agreed to swear fealty to King Charles III of West Francia. Through generations of assimilation and mixing with the native Frankish and Roman-Gaulish populations, their descendants would gradually merge with the Carolingian-based cultures of West Francia. The distinct cultural and...</td>\n      <td>[{'text': '10th and 11th centuries', 'answer_start': 94}, {'text': 'in the 10th and 11th centuries', 'answer_start': 87}, {'text': '10th and 11th centuries', 'answer_start': 94}, {'text': '10th and 11th centuries', 'answer_start': 94}]</td>\n      <td>False</td>\n      <td>None</td>\n    </tr>\n    <tr>\n      <th>2</th>\n      <td>56ddde6b9a695914005b962a</td>\n      <td>Normans</td>\n      <td>From which countries did the Norse originate?</td>\n      <td>The Normans (Norman: Nourmands; French: Normands; Latin: Normanni) were the people who in the 10th and 11th centuries gave their name to Normandy, a region in France. They were descended from Norse (\"Norman\" comes from \"Norseman\") raiders and pirates from Denmark, Iceland and Norway who, under their leader Rollo, agreed to swear fealty to King Charles III of West Francia. Through generations of assimilation and mixing with the native Frankish and Roman-Gaulish populations, their descendants would gradually merge with the Carolingian-based cultures of West Francia. The distinct cultural and...</td>\n      <td>[{'text': 'Denmark, Iceland and Norway', 'answer_start': 256}, {'text': 'Denmark, Iceland and Norway', 'answer_start': 256}, {'text': 'Denmark, Iceland and Norway', 'answer_start': 256}, {'text': 'Denmark, Iceland and Norway', 'answer_start': 256}]</td>\n      <td>False</td>\n      <td>None</td>\n    </tr>\n    <tr>\n      <th>3</th>\n      <td>56ddde6b9a695914005b962b</td>\n      <td>Normans</td>\n      <td>Who was the Norse leader?</td>\n      <td>The Normans (Norman: Nourmands; French: Normands; Latin: Normanni) were the people who in the 10th and 11th centuries gave their name to Normandy, a region in France. They were descended from Norse (\"Norman\" comes from \"Norseman\") raiders and pirates from Denmark, Iceland and Norway who, under their leader Rollo, agreed to swear fealty to King Charles III of West Francia. Through generations of assimilation and mixing with the native Frankish and Roman-Gaulish populations, their descendants would gradually merge with the Carolingian-based cultures of West Francia. The distinct cultural and...</td>\n      <td>[{'text': 'Rollo', 'answer_start': 308}, {'text': 'Rollo', 'answer_start': 308}, {'text': 'Rollo', 'answer_start': 308}, {'text': 'Rollo', 'answer_start': 308}]</td>\n      <td>False</td>\n      <td>None</td>\n    </tr>\n    <tr>\n      <th>4</th>\n      <td>56ddde6b9a695914005b962c</td>\n      <td>Normans</td>\n      <td>What century did the Normans first gain their separate identity?</td>\n      <td>The Normans (Norman: Nourmands; French: Normands; Latin: Normanni) were the people who in the 10th and 11th centuries gave their name to Normandy, a region in France. They were descended from Norse (\"Norman\" comes from \"Norseman\") raiders and pirates from Denmark, Iceland and Norway who, under their leader Rollo, agreed to swear fealty to King Charles III of West Francia. Through generations of assimilation and mixing with the native Frankish and Roman-Gaulish populations, their descendants would gradually merge with the Carolingian-based cultures of West Francia. The distinct cultural and...</td>\n      <td>[{'text': '10th century', 'answer_start': 671}, {'text': 'the first half of the 10th century', 'answer_start': 649}, {'text': '10th', 'answer_start': 671}, {'text': '10th', 'answer_start': 671}]</td>\n      <td>False</td>\n      <td>None</td>\n    </tr>\n    <tr>\n      <th>5</th>\n      <td>5ad39d53604f3c001a3fe8d1</td>\n      <td>Normans</td>\n      <td>Who gave their name to Normandy in the 1000's and 1100's</td>\n      <td>The Normans (Norman: Nourmands; French: Normands; Latin: Normanni) were the people who in the 10th and 11th centuries gave their name to Normandy, a region in France. They were descended from Norse (\"Norman\" comes from \"Norseman\") raiders and pirates from Denmark, Iceland and Norway who, under their leader Rollo, agreed to swear fealty to King Charles III of West Francia. Through generations of assimilation and mixing with the native Frankish and Roman-Gaulish populations, their descendants would gradually merge with the Carolingian-based cultures of West Francia. The distinct cultural and...</td>\n      <td>[]</td>\n      <td>True</td>\n      <td>None</td>\n    </tr>\n    <tr>\n      <th>6</th>\n      <td>5ad39d53604f3c001a3fe8d2</td>\n      <td>Normans</td>\n      <td>What is France a region of?</td>\n      <td>The Normans (Norman: Nourmands; French: Normands; Latin: Normanni) were the people who in the 10th and 11th centuries gave their name to Normandy, a region in France. They were descended from Norse (\"Norman\" comes from \"Norseman\") raiders and pirates from Denmark, Iceland and Norway who, under their leader Rollo, agreed to swear fealty to King Charles III of West Francia. Through generations of assimilation and mixing with the native Frankish and Roman-Gaulish populations, their descendants would gradually merge with the Carolingian-based cultures of West Francia. The distinct cultural and...</td>\n      <td>[]</td>\n      <td>True</td>\n      <td>None</td>\n    </tr>\n    <tr>\n      <th>7</th>\n      <td>5ad39d53604f3c001a3fe8d3</td>\n      <td>Normans</td>\n      <td>Who did King Charles III swear fealty to?</td>\n      <td>The Normans (Norman: Nourmands; French: Normands; Latin: Normanni) were the people who in the 10th and 11th centuries gave their name to Normandy, a region in France. They were descended from Norse (\"Norman\" comes from \"Norseman\") raiders and pirates from Denmark, Iceland and Norway who, under their leader Rollo, agreed to swear fealty to King Charles III of West Francia. Through generations of assimilation and mixing with the native Frankish and Roman-Gaulish populations, their descendants would gradually merge with the Carolingian-based cultures of West Francia. The distinct cultural and...</td>\n      <td>[]</td>\n      <td>True</td>\n      <td>None</td>\n    </tr>\n    <tr>\n      <th>8</th>\n      <td>5ad39d53604f3c001a3fe8d4</td>\n      <td>Normans</td>\n      <td>When did the Frankish identity emerge?</td>\n      <td>The Normans (Norman: Nourmands; French: Normands; Latin: Normanni) were the people who in the 10th and 11th centuries gave their name to Normandy, a region in France. They were descended from Norse (\"Norman\" comes from \"Norseman\") raiders and pirates from Denmark, Iceland and Norway who, under their leader Rollo, agreed to swear fealty to King Charles III of West Francia. Through generations of assimilation and mixing with the native Frankish and Roman-Gaulish populations, their descendants would gradually merge with the Carolingian-based cultures of West Francia. The distinct cultural and...</td>\n      <td>[]</td>\n      <td>True</td>\n      <td>None</td>\n    </tr>\n    <tr>\n      <th>9</th>\n      <td>56dddf4066d3e219004dad5f</td>\n      <td>Normans</td>\n      <td>Who was the duke in the battle of Hastings?</td>\n      <td>The Norman dynasty had a major political, cultural and military impact on medieval Europe and even the Near East. The Normans were famed for their martial spirit and eventually for their Christian piety, becoming exponents of the Catholic orthodoxy into which they assimilated. They adopted the Gallo-Romance language of the Frankish land they settled, their dialect becoming known as Norman, Normaund or Norman French, an important literary language. The Duchy of Normandy, which they formed by treaty with the French crown, was a great fief of medieval France, and under Richard I of Normandy w...</td>\n      <td>[{'text': 'William the Conqueror', 'answer_start': 1022}, {'text': 'William the Conqueror', 'answer_start': 1022}, {'text': 'William the Conqueror', 'answer_start': 1022}]</td>\n      <td>False</td>\n      <td>None</td>\n    </tr>\n  </tbody>\n</table>\n</div>"
     },
     "execution_count": 51,
     "metadata": {},
     "output_type": "execute_result"
    }
   ],
   "source": [
    "source = r'C:\\Users\\chris\\PycharmProjects\\qa\\Data\\Squad'\n",
    "\n",
    "\n",
    "def Load_Primary_DF(source):\n",
    "    \"\"\"\n",
    "    Loads the primary data needed to perform QA\n",
    "    from the squad dataset.\n",
    "    \"\"\"\n",
    "\n",
    "    #Get content off disk\n",
    "    files = all.get_files(source)\n",
    "    data = []\n",
    "    for file in files:\n",
    "        with open(file) as f:\n",
    "            entries = json.load(f)\n",
    "            entries = entries['data']\n",
    "            data = data + entries\n",
    "\n",
    "    #Go through content. Construct frame labels\n",
    "    frame_data = []\n",
    "    for collection in data:\n",
    "        #Get data out of chunk\n",
    "        topic = collection[\"title\"]\n",
    "        paragraphs = collection['paragraphs']\n",
    "        #Create the features\n",
    "        for i, paragraph in enumerate(paragraphs):\n",
    "            for qa in paragraph['qas']:\n",
    "                frame_dict = {}\n",
    "                frame_dict['id'] = qa['id']\n",
    "                frame_dict['topic'] = topic\n",
    "                frame_dict['question'] = qa['question']\n",
    "                frame_dict['context'] = paragraph['context']\n",
    "                frame_dict['answers'] = qa['answers']\n",
    "                frame_dict['impossible'] = qa['is_impossible']\n",
    "                frame_dict['plausable'] = qa['plausable_answers'] if 'plausable_answers' in qa else None\n",
    "\n",
    "                frame_data.append(frame_dict)\n"
   ],
   "metadata": {
    "collapsed": false,
    "pycharm": {
     "name": "#%%\n"
    }
   }
  },
  {
   "cell_type": "code",
   "execution_count": null,
   "outputs": [],
   "source": [
    "\n"
   ],
   "metadata": {
    "collapsed": false,
    "pycharm": {
     "name": "#%%\n"
    }
   }
  },
  {
   "cell_type": "markdown",
   "source": [
    "**parameters**\n",
    "\n",
    "Pipeline parameters are located here. Must be run."
   ],
   "metadata": {
    "collapsed": false,
    "pycharm": {
     "name": "#%% md\n"
    }
   }
  },
  {
   "cell_type": "code",
   "execution_count": 2,
   "outputs": [],
   "source": [
    "#Path and chunking\n",
    "source_file = './source/train-v2.0.json'\n",
    "chunk_dir = './Chunks'\n",
    "train_test_val_split = [100, 1, 1]\n",
    "\n",
    "#Loader parameters.\n",
    "loader_buffer = 1000\n",
    "readahead_buffer = 1000\n",
    "prefetch_buffer = 20\n",
    "batch_size = 16"
   ],
   "metadata": {
    "collapsed": false,
    "pycharm": {
     "name": "#%%\n"
    }
   }
  },
  {
   "cell_type": "markdown",
   "source": [
    "**Chunking**\n",
    "\n",
    "This will split the source up into chunks. Optional"
   ],
   "metadata": {
    "collapsed": false,
    "pycharm": {
     "name": "#%% md\n"
    }
   }
  },
  {
   "cell_type": "code",
   "execution_count": 3,
   "outputs": [
    {
     "ename": "NameError",
     "evalue": "name 'chunking' is not defined",
     "output_type": "error",
     "traceback": [
      "\u001B[1;31m---------------------------------------------------------------------------\u001B[0m",
      "\u001B[1;31mNameError\u001B[0m                                 Traceback (most recent call last)",
      "Input \u001B[1;32mIn [3]\u001B[0m, in \u001B[0;36m<cell line: 1>\u001B[1;34m()\u001B[0m\n\u001B[1;32m----> 1\u001B[0m \u001B[43mchunking\u001B[49m\u001B[38;5;241m.\u001B[39mchunk(source_file, chunk_dir)\n\u001B[0;32m      2\u001B[0m \u001B[38;5;28mprint\u001B[39m(\u001B[38;5;124m\"\u001B[39m\u001B[38;5;124mchunked\u001B[39m\u001B[38;5;124m\"\u001B[39m)\n",
      "\u001B[1;31mNameError\u001B[0m: name 'chunking' is not defined"
     ]
    }
   ],
   "source": [
    "chunking.chunk(source_file, chunk_dir)\n",
    "print(\"chunked\")"
   ],
   "metadata": {
    "collapsed": false,
    "pycharm": {
     "name": "#%%\n"
    }
   }
  },
  {
   "cell_type": "markdown",
   "source": [
    "**Loaders**\n",
    "\n",
    "This now makes the data loaders."
   ],
   "metadata": {
    "collapsed": false,
    "pycharm": {
     "name": "#%% md\n"
    }
   }
  },
  {
   "cell_type": "code",
   "execution_count": null,
   "outputs": [],
   "source": [
    "def my_pipeline(subfolder, infinite: bool):\n",
    "    path = chunk_dir + '/' + subfolder\n",
    "    pipe = pipeline.start_pipeline(path, loader_buffer,\n",
    "                                   infinite, readahead_buffer,\n",
    "                                   prefetch_buffer\n",
    "                                   )\n",
    "    pipe = pipeline.clean_text(pipe)\n",
    "    pipe = pipeline.convert_to_tensors(pipe)\n",
    "\n",
    "\n",
    "train_loader = my_pipeline(\"Train\", True)\n",
    "test_loader = my_pipeline(\"Test\", False)\n",
    "val_loader = my_pipeline(\"Val\", False)\n",
    "\n",
    "for i in range(10):\n",
    "    features = next(train_loader)\n",
    "    print(features)"
   ],
   "metadata": {
    "collapsed": false,
    "pycharm": {
     "name": "#%%\n"
    }
   }
  },
  {
   "cell_type": "code",
   "execution_count": null,
   "outputs": [],
   "source": [],
   "metadata": {
    "collapsed": false,
    "pycharm": {
     "name": "#%%\n"
    }
   }
  }
 ],
 "metadata": {
  "kernelspec": {
   "display_name": "Python 3 (ipykernel)",
   "language": "python",
   "name": "python3"
  },
  "language_info": {
   "codemirror_mode": {
    "name": "ipython",
    "version": 3
   },
   "file_extension": ".py",
   "mimetype": "text/x-python",
   "name": "python",
   "nbconvert_exporter": "python",
   "pygments_lexer": "ipython3",
   "version": "3.9.5"
  }
 },
 "nbformat": 4,
 "nbformat_minor": 5
}